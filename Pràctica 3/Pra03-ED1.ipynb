{
 "cells": [
  {
   "cell_type": "markdown",
   "id": "violent-brooks",
   "metadata": {},
   "source": [
    "# PRÀCTICA 3 - DISSOLUCIONS I DIPÒSITS"
   ]
  },
  {
   "cell_type": "markdown",
   "id": "registered-voice",
   "metadata": {},
   "source": [
    "### 3 - Dissolucions d’un producte en un dipòsit"
   ]
  },
  {
   "cell_type": "code",
   "execution_count": 18,
   "id": "nervous-punch",
   "metadata": {},
   "outputs": [
    {
     "data": {
      "text/plain": [
       "t"
      ]
     },
     "execution_count": 18,
     "metadata": {},
     "output_type": "execute_result"
    }
   ],
   "source": [
    "var('t')"
   ]
  },
  {
   "cell_type": "code",
   "execution_count": 19,
   "id": "northern-resort",
   "metadata": {},
   "outputs": [],
   "source": [
    "tint=function('tint')(t)"
   ]
  },
  {
   "cell_type": "code",
   "execution_count": 20,
   "id": "breeding-garlic",
   "metadata": {},
   "outputs": [],
   "source": [
    "V=100 # constant"
   ]
  },
  {
   "cell_type": "code",
   "execution_count": 21,
   "id": "featured-desperate",
   "metadata": {},
   "outputs": [],
   "source": [
    "ode3=diff(tint,t)==3*1-9*tint/V"
   ]
  },
  {
   "cell_type": "code",
   "execution_count": 22,
   "id": "collaborative-library",
   "metadata": {},
   "outputs": [
    {
     "data": {
      "text/plain": [
       "100/3*(e^(9/100*t) - 1)*e^(-9/100*t)"
      ]
     },
     "execution_count": 22,
     "metadata": {},
     "output_type": "execute_result"
    }
   ],
   "source": [
    "sol3=desolve(ode3,dvar=tint,ivar=t,ics=[0,0])\n",
    "sol3"
   ]
  },
  {
   "cell_type": "code",
   "execution_count": 25,
   "id": "economic-thing",
   "metadata": {},
   "outputs": [
    {
     "data": {
      "image/png": "[encoded data removed]",
      "text/plain": [
       "Graphics object consisting of 1 graphics primitive"
      ]
     },
     "execution_count": 25,
     "metadata": {},
     "output_type": "execute_result"
    }
   ],
   "source": [
    "plot(sol3/V,0,100)"
   ]
  },
  {
   "cell_type": "code",
   "execution_count": 26,
   "id": "special-collaboration",
   "metadata": {},
   "outputs": [
    {
     "data": {
      "text/plain": [
       "1/3"
      ]
     },
     "execution_count": 26,
     "metadata": {},
     "output_type": "execute_result"
    }
   ],
   "source": [
    "limit(sol3/V,t=oo)"
   ]
  },
  {
   "cell_type": "code",
   "execution_count": 29,
   "id": "atlantic-poland",
   "metadata": {},
   "outputs": [
    {
     "data": {
      "text/plain": [
       "-t + 100"
      ]
     },
     "execution_count": 29,
     "metadata": {},
     "output_type": "execute_result"
    }
   ],
   "source": [
    "v=function('v')(t)\n",
    "v=desolve(diff(v,t)==9-10,dvar=v,ivar=t,ics=[0,100])\n",
    "v"
   ]
  },
  {
   "cell_type": "code",
   "execution_count": 30,
   "id": "wrong-terrain",
   "metadata": {},
   "outputs": [],
   "source": [
    "ode33=diff(tint,t)==3*1-10*tint/v"
   ]
  },
  {
   "cell_type": "code",
   "execution_count": 31,
   "id": "blond-emperor",
   "metadata": {},
   "outputs": [
    {
     "data": {
      "text/plain": [
       "-1/3000000000000000000*t^10 + 1/3000000000000000*t^9 - 3/20000000000000*t^8 + 1/25000000000*t^7 - 7/1000000000*t^6 + 21/25000000*t^5 - 7/100000*t^4 + 1/250*t^3 - 3/20*t^2 + 3*t"
      ]
     },
     "execution_count": 31,
     "metadata": {},
     "output_type": "execute_result"
    }
   ],
   "source": [
    "sol33=desolve(ode33,dvar=tint,ivar=t,ics=[0,0])\n",
    "sol33"
   ]
  },
  {
   "cell_type": "code",
   "execution_count": 32,
   "id": "fifteen-deputy",
   "metadata": {},
   "outputs": [
    {
     "data": {
      "image/png": "[encoded data removed]",
      "text/plain": [
       "Graphics object consisting of 1 graphics primitive"
      ]
     },
     "execution_count": 32,
     "metadata": {},
     "output_type": "execute_result"
    }
   ],
   "source": [
    "plot(sol33/v,0,100)"
   ]
  },
  {
   "cell_type": "code",
   "execution_count": 35,
   "id": "apparent-cache",
   "metadata": {},
   "outputs": [
    {
     "data": {
      "text/plain": [
       "1/3"
      ]
     },
     "execution_count": 35,
     "metadata": {},
     "output_type": "execute_result"
    }
   ],
   "source": [
    "limit(sol33/v,t=100)"
   ]
  },
  {
   "cell_type": "code",
   "execution_count": 97,
   "id": "covered-philip",
   "metadata": {},
   "outputs": [],
   "source": [
    "# el model és vàlid per t<=100"
   ]
  },
  {
   "cell_type": "markdown",
   "id": "actual-delicious",
   "metadata": {},
   "source": [
    "### 4 - Dissolucions d’un producte en dipòsits connectats en cadena"
   ]
  },
  {
   "cell_type": "code",
   "execution_count": 36,
   "id": "helpful-lobby",
   "metadata": {},
   "outputs": [],
   "source": [
    "A=function('A')(t)\n",
    "B=function('B')(t)"
   ]
  },
  {
   "cell_type": "code",
   "execution_count": 37,
   "id": "respected-plant",
   "metadata": {},
   "outputs": [
    {
     "data": {
      "text/plain": [
       "100"
      ]
     },
     "execution_count": 37,
     "metadata": {},
     "output_type": "execute_result"
    }
   ],
   "source": [
    "V"
   ]
  },
  {
   "cell_type": "code",
   "execution_count": 54,
   "id": "mounted-watershed",
   "metadata": {},
   "outputs": [],
   "source": [
    "ode4a=diff(A,t)==3*1-9*A/V\n",
    "ode4b=diff(B,t)==9*A/V-11*B/V"
   ]
  },
  {
   "cell_type": "code",
   "execution_count": 57,
   "id": "military-justice",
   "metadata": {},
   "outputs": [
    {
     "data": {
      "text/plain": [
       "[A(t) == -100/3*e^(-9/100*t) + 100/3,\n",
       " B(t) == -150*e^(-9/100*t) + 1350/11*e^(-11/100*t) + 300/11]"
      ]
     },
     "execution_count": 57,
     "metadata": {},
     "output_type": "execute_result"
    }
   ],
   "source": [
    "sol4=desolve_system([ode4a,ode4b],[A,B],ics=[0,0,0])\n",
    "sol4"
   ]
  },
  {
   "cell_type": "code",
   "execution_count": 62,
   "id": "legislative-ranking",
   "metadata": {},
   "outputs": [
    {
     "data": {
      "text/plain": [
       "0.197810113419800"
      ]
     },
     "execution_count": 62,
     "metadata": {},
     "output_type": "execute_result"
    }
   ],
   "source": [
    "A=sol4[0].rhs()/V\n",
    "A(10).n()"
   ]
  },
  {
   "cell_type": "code",
   "execution_count": 63,
   "id": "relevant-controversy",
   "metadata": {},
   "outputs": [
    {
     "data": {
      "text/plain": [
       "0.0713963858367445"
      ]
     },
     "execution_count": 63,
     "metadata": {},
     "output_type": "execute_result"
    }
   ],
   "source": [
    "B=sol4[1].rhs()/V\n",
    "B(10).n()"
   ]
  },
  {
   "cell_type": "code",
   "execution_count": 64,
   "id": "round-opera",
   "metadata": {},
   "outputs": [
    {
     "data": {
      "image/png": "[encoded data removed]",
      "text/plain": [
       "Graphics object consisting of 2 graphics primitives"
      ]
     },
     "execution_count": 64,
     "metadata": {},
     "output_type": "execute_result"
    }
   ],
   "source": [
    "plot(A,t,0,100,color='red',linestyle=':',legend_label='A') + plot(B,t,0,100,color='blue',linestyle='--',legend_label='B')"
   ]
  },
  {
   "cell_type": "code",
   "execution_count": 66,
   "id": "indirect-minority",
   "metadata": {},
   "outputs": [
    {
     "data": {
      "text/plain": [
       "1/3"
      ]
     },
     "execution_count": 66,
     "metadata": {},
     "output_type": "execute_result"
    }
   ],
   "source": [
    "lim(A,t=oo)"
   ]
  },
  {
   "cell_type": "code",
   "execution_count": 67,
   "id": "american-theater",
   "metadata": {
    "scrolled": true
   },
   "outputs": [
    {
     "data": {
      "text/plain": [
       "3/11"
      ]
     },
     "execution_count": 67,
     "metadata": {},
     "output_type": "execute_result"
    }
   ],
   "source": [
    "lim(B,t=oo)"
   ]
  },
  {
   "cell_type": "code",
   "execution_count": 68,
   "id": "three-queens",
   "metadata": {},
   "outputs": [
    {
     "data": {
      "text/plain": [
       "-t + 100"
      ]
     },
     "execution_count": 68,
     "metadata": {},
     "output_type": "execute_result"
    }
   ],
   "source": [
    "va=function('va')(t)\n",
    "va=desolve(diff(va,t)==9-10,dvar=va,ivar=t,ics=[0,100])\n",
    "va"
   ]
  },
  {
   "cell_type": "code",
   "execution_count": 69,
   "id": "after-commission",
   "metadata": {},
   "outputs": [
    {
     "data": {
      "text/plain": [
       "-4*t + 100"
      ]
     },
     "execution_count": 69,
     "metadata": {},
     "output_type": "execute_result"
    }
   ],
   "source": [
    "vb=function('vb')(t)\n",
    "vb=desolve(diff(vb,t)==12-16,dvar=vb,ivar=t,ics=[0,100])\n",
    "vb"
   ]
  },
  {
   "cell_type": "code",
   "execution_count": 72,
   "id": "automated-diabetes",
   "metadata": {},
   "outputs": [],
   "source": [
    "reset('A B')"
   ]
  },
  {
   "cell_type": "code",
   "execution_count": 73,
   "id": "incorrect-geometry",
   "metadata": {},
   "outputs": [],
   "source": [
    "A=function('A')(t)\n",
    "B=function('B')(t)"
   ]
  },
  {
   "cell_type": "code",
   "execution_count": 74,
   "id": "homeless-grain",
   "metadata": {},
   "outputs": [],
   "source": [
    "ode4a=diff(A,t)==3*1-10*A/va\n",
    "ode4b=diff(B,t)==10*A/va-16*B/vb"
   ]
  },
  {
   "cell_type": "code",
   "execution_count": 78,
   "id": "interpreted-source",
   "metadata": {},
   "outputs": [
    {
     "data": {
      "text/plain": [
       "-1/3000000000000000000*t^10 + 1/3000000000000000*t^9 - 3/20000000000000*t^8 + 1/25000000000*t^7 - 7/1000000000*t^6 + 21/25000000*t^5 - 7/100000*t^4 + 1/250*t^3 - 3/20*t^2 + 3*t"
      ]
     },
     "execution_count": 78,
     "metadata": {},
     "output_type": "execute_result"
    }
   ],
   "source": [
    "sol4a=desolve(ode4a,dvar=A,ivar=t,ics=[0,0])\n",
    "sol4a"
   ]
  },
  {
   "cell_type": "code",
   "execution_count": 95,
   "id": "overhead-harmony",
   "metadata": {},
   "outputs": [
    {
     "data": {
      "text/plain": [
       "-637875/32768*I*pi + 1/1800000000000000000*t^10 - 53/90000000000000000*t^9 + 457/1600000000000000*t^8 - 2023/24000000000000*t^7 + 32879/1920000000000*t^6 + 1/1800000000000000000*(-89701171875000*I*pi + 89701171875000*I*arctan2(0, t - 25) - 179402343750000*log(5) + 89701171875000*log(abs(t - 25)) + 371122558593750)*t^4 - 34321/12800000000*t^5 + 1/1800000000000000000*(8970117187500000*I*pi - 8970117187500000*I*arctan2(0, t - 25) + 17940234375000000*log(5) - 8970117187500000*log(abs(t - 25)) - 11882373046875000)*t^3 + 1/1800000000000000000*(-336379394531250000*I*pi + 336379394531250000*I*arctan2(0, t - 25) - 672758789062500000*log(5) + 336379394531250000*log(abs(t - 25)) + 73778686523437500)*t^2 + 1/1800000000000000000*(5606323242187500000*I*pi - 5606323242187500000*I*arctan2(0, t - 25) + 11212646484375000000*log(5) - 5606323242187500000*log(abs(t - 25)) + 1401580810546875000)*t + 637875/32768*I*arctan2(0, t - 25) - 637875/16384*log(5) + 637875/32768*log(abs(t - 25))"
      ]
     },
     "execution_count": 95,
     "metadata": {},
     "output_type": "execute_result"
    }
   ],
   "source": [
    "sol4b=desolve(ode4b.subs(A(t)==sol4a),dvar=B,ivar=t,ics=[0,0])\n",
    "sol4b.simplify_full()"
   ]
  },
  {
   "cell_type": "code",
   "execution_count": 96,
   "id": "eleven-priority",
   "metadata": {},
   "outputs": [],
   "source": [
    "# el model és vàlid per t<=25"
   ]
  },
  {
   "cell_type": "markdown",
   "id": "hourly-bikini",
   "metadata": {},
   "source": [
    "### 5 - Dissolucions d’un producte en dipòsits interconnectats"
   ]
  },
  {
   "cell_type": "code",
   "execution_count": 98,
   "id": "available-punch",
   "metadata": {},
   "outputs": [],
   "source": [
    "reset('A B')"
   ]
  },
  {
   "cell_type": "code",
   "execution_count": 99,
   "id": "signal-medline",
   "metadata": {},
   "outputs": [],
   "source": [
    "A=function('A')(t)\n",
    "B=function('B')(t)"
   ]
  },
  {
   "cell_type": "code",
   "execution_count": 101,
   "id": "active-designation",
   "metadata": {},
   "outputs": [
    {
     "data": {
      "text/plain": [
       "100"
      ]
     },
     "execution_count": 101,
     "metadata": {},
     "output_type": "execute_result"
    }
   ],
   "source": [
    "# volum A=volum B en tot temps\n",
    "V"
   ]
  },
  {
   "cell_type": "code",
   "execution_count": 103,
   "id": "native-carol",
   "metadata": {},
   "outputs": [],
   "source": [
    "ode5a=diff(A,t)==3*1+4*B/V-13*A/V\n",
    "ode5b=diff(B,t)==2*1+5*A/V-13*B/V"
   ]
  },
  {
   "cell_type": "code",
   "execution_count": 104,
   "id": "paperback-flour",
   "metadata": {},
   "outputs": [
    {
     "data": {
      "text/plain": [
       "[A(t) == -20/149*(82*sqrt(5)*sinh(1/50*sqrt(5)*t) + 235*cosh(1/50*sqrt(5)*t))*e^(-13/100*t) + 4700/149,\n",
       " B(t) == -50/149*(47*sqrt(5)*sinh(1/50*sqrt(5)*t) + 82*cosh(1/50*sqrt(5)*t))*e^(-13/100*t) + 4100/149]"
      ]
     },
     "execution_count": 104,
     "metadata": {},
     "output_type": "execute_result"
    }
   ],
   "source": [
    "sol5=desolve_system([ode5a,ode5b],[A,B],ics=[0,0,0])\n",
    "sol5"
   ]
  },
  {
   "cell_type": "code",
   "execution_count": 105,
   "id": "conservative-roman",
   "metadata": {},
   "outputs": [
    {
     "data": {
      "text/plain": [
       "0.189722233137345"
      ]
     },
     "execution_count": 105,
     "metadata": {},
     "output_type": "execute_result"
    }
   ],
   "source": [
    "A=sol5[0].rhs()/V\n",
    "A(10).n()"
   ]
  },
  {
   "cell_type": "code",
   "execution_count": 106,
   "id": "designed-aerospace",
   "metadata": {},
   "outputs": [
    {
     "data": {
      "text/plain": [
       "0.148120423690144"
      ]
     },
     "execution_count": 106,
     "metadata": {},
     "output_type": "execute_result"
    }
   ],
   "source": [
    "B=sol5[1].rhs()/V\n",
    "B(10).n()"
   ]
  },
  {
   "cell_type": "code",
   "execution_count": 107,
   "id": "biological-holly",
   "metadata": {},
   "outputs": [
    {
     "data": {
      "image/png": "[encoded data removed]",
      "text/plain": [
       "Graphics object consisting of 2 graphics primitives"
      ]
     },
     "execution_count": 107,
     "metadata": {},
     "output_type": "execute_result"
    }
   ],
   "source": [
    "plot(A,t,0,100,color='red',linestyle=':',legend_label='A') + plot(B,t,0,100,color='blue',linestyle='--',legend_label='B')"
   ]
  },
  {
   "cell_type": "code",
   "execution_count": 108,
   "id": "restricted-moral",
   "metadata": {},
   "outputs": [
    {
     "data": {
      "text/plain": [
       "47/149"
      ]
     },
     "execution_count": 108,
     "metadata": {},
     "output_type": "execute_result"
    }
   ],
   "source": [
    "lim(A,t=oo)"
   ]
  },
  {
   "cell_type": "code",
   "execution_count": 109,
   "id": "controlled-commerce",
   "metadata": {
    "scrolled": true
   },
   "outputs": [
    {
     "data": {
      "text/plain": [
       "41/149"
      ]
     },
     "execution_count": 109,
     "metadata": {},
     "output_type": "execute_result"
    }
   ],
   "source": [
    "lim(B,t=oo)"
   ]
  },
  {
   "cell_type": "markdown",
   "id": "fundamental-capital",
   "metadata": {},
   "source": [
    "##### Amb filtre"
   ]
  },
  {
   "cell_type": "code",
   "execution_count": 134,
   "id": "married-cream",
   "metadata": {},
   "outputs": [],
   "source": [
    "reset('A B')"
   ]
  },
  {
   "cell_type": "code",
   "execution_count": 135,
   "id": "basic-hamburg",
   "metadata": {},
   "outputs": [],
   "source": [
    "A=function('A')(t)\n",
    "B=function('B')(t)"
   ]
  },
  {
   "cell_type": "code",
   "execution_count": 136,
   "id": "aggregate-check",
   "metadata": {},
   "outputs": [],
   "source": [
    "ode51a=diff(A,t)==3*1+0.25*4*B/V-8*A/V-0.5*5*A/V\n",
    "ode51b=diff(B,t)==2*1+0.5*5*A/V-9*B/V-0.25*4*B/V"
   ]
  },
  {
   "cell_type": "code",
   "execution_count": 137,
   "id": "bound-characteristic",
   "metadata": {},
   "outputs": [
    {
     "data": {
      "text/plain": [
       "[A(t) == -80/41*(sqrt(41)*sinh(1/400*sqrt(41)*t) + 16*cosh(1/400*sqrt(41)*t))*e^(-41/400*t) + 1280/41,\n",
       " B(t) == -20/41*(17*sqrt(41)*sinh(1/400*sqrt(41)*t) + 57*cosh(1/400*sqrt(41)*t))*e^(-41/400*t) + 1140/41]"
      ]
     },
     "execution_count": 137,
     "metadata": {},
     "output_type": "execute_result"
    }
   ],
   "source": [
    "sol51=desolve_system([ode51a,ode51b],[A,B],ics=[0,0,0])\n",
    "sol51"
   ]
  },
  {
   "cell_type": "code",
   "execution_count": 138,
   "id": "corporate-campbell",
   "metadata": {},
   "outputs": [
    {
     "data": {
      "text/plain": [
       "0.191535746680835"
      ]
     },
     "execution_count": 138,
     "metadata": {},
     "output_type": "execute_result"
    }
   ],
   "source": [
    "A=sol51[0].rhs()/V\n",
    "A(10).n()"
   ]
  },
  {
   "cell_type": "code",
   "execution_count": 139,
   "id": "spread-kidney",
   "metadata": {},
   "outputs": [
    {
     "data": {
      "text/plain": [
       "0.146376799444928"
      ]
     },
     "execution_count": 139,
     "metadata": {},
     "output_type": "execute_result"
    }
   ],
   "source": [
    "B=sol51[1].rhs()/V\n",
    "B(10).n()"
   ]
  },
  {
   "cell_type": "code",
   "execution_count": 140,
   "id": "pursuant-barrier",
   "metadata": {
    "scrolled": true
   },
   "outputs": [
    {
     "data": {
      "image/png": "[encoded data removed]",
      "text/plain": [
       "Graphics object consisting of 2 graphics primitives"
      ]
     },
     "execution_count": 140,
     "metadata": {},
     "output_type": "execute_result"
    }
   ],
   "source": [
    "plot(A,t,0,100,color='red',linestyle=':',legend_label='A') + plot(B,t,0,100,color='blue',linestyle='--',legend_label='B')"
   ]
  },
  {
   "cell_type": "code",
   "execution_count": 141,
   "id": "large-canadian",
   "metadata": {},
   "outputs": [
    {
     "data": {
      "text/plain": [
       "64/205"
      ]
     },
     "execution_count": 141,
     "metadata": {},
     "output_type": "execute_result"
    }
   ],
   "source": [
    "lim(A,t=oo)"
   ]
  },
  {
   "cell_type": "code",
   "execution_count": 142,
   "id": "worldwide-austin",
   "metadata": {
    "scrolled": true
   },
   "outputs": [
    {
     "data": {
      "text/plain": [
       "57/205"
      ]
     },
     "execution_count": 142,
     "metadata": {},
     "output_type": "execute_result"
    }
   ],
   "source": [
    "lim(B,t=oo)"
   ]
  },
  {
   "cell_type": "markdown",
   "id": "attended-beaver",
   "metadata": {},
   "source": [
    "### 6 - Dissolucions de diversos productes en dipòsits interconnectats"
   ]
  },
  {
   "cell_type": "code",
   "execution_count": 146,
   "id": "eastern-shipping",
   "metadata": {},
   "outputs": [],
   "source": [
    "Iy=function('Iy')(t)\n",
    "Ir=function('Ir')(t)\n",
    "Ib=function('Ib')(t)\n",
    "IIy=function('IIy')(t)\n",
    "IIr=function('IIr')(t)\n",
    "IIb=function('IIb')(t)\n",
    "IIIy=function('IIIy')(t)\n",
    "IIIr=function('IIIr')(t)\n",
    "IIIb=function('IIIb')(t)"
   ]
  },
  {
   "cell_type": "code",
   "execution_count": 148,
   "id": "beautiful-diesel",
   "metadata": {},
   "outputs": [],
   "source": [
    "# Els volums son constants\n",
    "VI=20\n",
    "VII=40\n",
    "VIII=60"
   ]
  },
  {
   "cell_type": "code",
   "execution_count": 149,
   "id": "fluid-concern",
   "metadata": {},
   "outputs": [],
   "source": [
    "ode61y=diff(Iy,t)==4*IIIy/VIII-4*Iy/VI\n",
    "ode61r=diff(Ir,t)==4*IIIr/VIII-4*Ir/VI\n",
    "ode61b=diff(Ib,t)==4*IIIb/VIII-4*Ib/VI\n",
    "ode62y=diff(IIy,t)==4*Iy/VI-4*IIy/VII\n",
    "ode62r=diff(IIr,t)==4*Ir/VI-4*IIr/VII\n",
    "ode62b=diff(IIb,t)==4*Ib/VI-4*IIb/VII\n",
    "ode63y=diff(IIIy,t)==4*IIy/VII-4*IIIy/VIII\n",
    "ode63r=diff(IIIr,t)==4*IIr/VII-4*IIIr/VIII\n",
    "ode63b=diff(IIIb,t)==4*IIb/VII-4*IIIb/VIII"
   ]
  },
  {
   "cell_type": "code",
   "execution_count": 150,
   "id": "sacred-concern",
   "metadata": {},
   "outputs": [],
   "source": [
    "system=[ode61y,ode61r,ode61b,ode62y,ode62r,ode62b,ode63y,ode63r,ode63b]\n",
    "variables=[Iy,Ir,Ib,IIy,IIr,IIb,IIIy,IIIr,IIIb]\n",
    "init_cond=[0,0,20,0,40,0,0,0,0,60]"
   ]
  },
  {
   "cell_type": "code",
   "execution_count": 156,
   "id": "corrected-wichita",
   "metadata": {},
   "outputs": [
    {
     "data": {
      "text/plain": [
       "[Iy(t) == -20/69*(11*sqrt(23)*sin(1/60*sqrt(23)*t) + 23*cos(1/60*sqrt(23)*t))*e^(-11/60*t) + 20/3,\n",
       " Ir(t) == -10/69*(17*sqrt(23)*sin(1/60*sqrt(23)*t) - 115*cos(1/60*sqrt(23)*t))*e^(-11/60*t) + 10/3,\n",
       " Ib(t) == 10/23*(13*sqrt(23)*sin(1/60*sqrt(23)*t) - 23*cos(1/60*sqrt(23)*t))*e^(-11/60*t) + 10,\n",
       " IIy(t) == 80/69*(2*sqrt(23)*sin(1/60*sqrt(23)*t) + 23*cos(1/60*sqrt(23)*t))*e^(-11/60*t) + 40/3,\n",
       " IIr(t) == 20/69*(25*sqrt(23)*sin(1/60*sqrt(23)*t) - 23*cos(1/60*sqrt(23)*t))*e^(-11/60*t) + 20/3,\n",
       " IIb(t) == -20/23*(11*sqrt(23)*sin(1/60*sqrt(23)*t) + 23*cos(1/60*sqrt(23)*t))*e^(-11/60*t) + 20,\n",
       " IIIy(t) == 20/23*(sqrt(23)*sin(1/60*sqrt(23)*t) - 23*cos(1/60*sqrt(23)*t))*e^(-11/60*t) + 20,\n",
       " IIIr(t) == -10/23*(11*sqrt(23)*sin(1/60*sqrt(23)*t) + 23*cos(1/60*sqrt(23)*t))*e^(-11/60*t) + 10,\n",
       " IIIb(t) == 30/23*(3*sqrt(23)*sin(1/60*sqrt(23)*t) + 23*cos(1/60*sqrt(23)*t))*e^(-11/60*t) + 30]"
      ]
     },
     "execution_count": 156,
     "metadata": {},
     "output_type": "execute_result"
    }
   ],
   "source": [
    "sol6=desolve_system(system,variables,ics=init_cond)\n",
    "sol6"
   ]
  },
  {
   "cell_type": "code",
   "execution_count": 164,
   "id": "fourth-painting",
   "metadata": {},
   "outputs": [
    {
     "name": "stdout",
     "output_type": "stream",
     "text": [
      "\tQuantitat de pintura en 5 minuts:\n",
      "\n",
      "\tDipòsit I\tDipòsit II\tDipòsit III\n",
      "Groc\t 1.832071 \t 24.88591 \t 13.28202\n",
      "Vermell\t 7.634018 \t 9.617875 \t 2.748107\n",
      "Blau\t 10.53391 \t 5.496213 \t 43.96988\n"
     ]
    }
   ],
   "source": [
    "print('\\tQuantitat de pintura en 5 minuts:\\n\\n\\tDipòsit I\\tDipòsit II\\tDipòsit III')\n",
    "print('Groc\\t',sol6[0].rhs()(5).n(digits=7),'\\t',sol6[3].rhs()(5).n(digits=7),'\\t',sol6[6].rhs()(5).n(digits=7))\n",
    "print('Vermell\\t',sol6[1].rhs()(5).n(digits=7),'\\t',sol6[4].rhs()(5).n(digits=7),'\\t',sol6[7].rhs()(5).n(digits=7))\n",
    "print('Blau\\t',sol6[2].rhs()(5).n(digits=7),'\\t',sol6[5].rhs()(5).n(digits=7),'\\t',sol6[8].rhs()(5).n(digits=7))"
   ]
  },
  {
   "cell_type": "code",
   "execution_count": 139,
   "id": "instructional-impact",
   "metadata": {},
   "outputs": [
    {
     "data": {
      "text/plain": [
       "0.146376799444928"
      ]
     },
     "execution_count": 139,
     "metadata": {},
     "output_type": "execute_result"
    }
   ],
   "source": [
    "B=sol51[1].rhs()/V\n",
    "B(10).n()"
   ]
  },
  {
   "cell_type": "code",
   "execution_count": 173,
   "id": "owned-giving",
   "metadata": {
    "scrolled": false
   },
   "outputs": [
    {
     "data": {
      "image/png": "[encoded data removed]",
      "text/plain": [
       "Graphics object consisting of 9 graphics primitives"
      ]
     },
     "execution_count": 173,
     "metadata": {},
     "output_type": "execute_result"
    }
   ],
   "source": [
    "L=[]\n",
    "colors=['orange','red','blue']\n",
    "for i in range(0,3):\n",
    "    p1=plot(sol6[i].rhs()/VI,t,0,100,color=colors[i],linestyle='--',legend_label='I')\n",
    "    p2=plot(sol6[3+i].rhs()/VII,t,0,100,color=colors[i],linestyle='-',legend_label='II')\n",
    "    p3=plot(sol6[6+i].rhs()/VIII,t,0,100,color=colors[i],linestyle=':',legend_label='III')\n",
    "    L.append(p1)\n",
    "    L.append(p2)\n",
    "    L.append(p3)\n",
    "sum(L)"
   ]
  },
  {
   "cell_type": "code",
   "execution_count": null,
   "id": "comic-insulin",
   "metadata": {},
   "outputs": [],
   "source": []
  }
 ],
 "metadata": {
  "kernelspec": {
   "display_name": "SageMath 9.2",
   "language": "sage",
   "name": "sagemath"
  },
  "language_info": {
   "codemirror_mode": {
    "name": "ipython",
    "version": 3
   },
   "file_extension": ".py",
   "mimetype": "text/x-python",
   "name": "python",
   "nbconvert_exporter": "python",
   "pygments_lexer": "ipython3",
   "version": "3.9.2"
  }
 },
 "nbformat": 4,
 "nbformat_minor": 5
}
