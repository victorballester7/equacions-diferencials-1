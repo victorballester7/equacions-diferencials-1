{
 "cells": [
  {
   "cell_type": "code",
   "execution_count": 12,
   "id": "sonic-comparison",
   "metadata": {},
   "outputs": [
    {
     "data": {
      "text/plain": [
       "272"
      ]
     },
     "execution_count": 12,
     "metadata": {},
     "output_type": "execute_result"
    }
   ],
   "source": [
    "linia_excel=1570866 % 263 + 42\n",
    "linia_excel"
   ]
  },
  {
   "cell_type": "markdown",
   "id": "prompt-interview",
   "metadata": {},
   "source": [
    "# 277 ----> Sweden"
   ]
  },
  {
   "cell_type": "code",
   "execution_count": 13,
   "id": "coastal-killer",
   "metadata": {
    "scrolled": false
   },
   "outputs": [
    {
     "data": {
      "text/plain": [
       "[1950,\n",
       " 1955,\n",
       " 1960,\n",
       " 1965,\n",
       " 1970,\n",
       " 1975,\n",
       " 1980,\n",
       " 1985,\n",
       " 1990,\n",
       " 1995,\n",
       " 2000,\n",
       " 2005,\n",
       " 2010,\n",
       " 2015,\n",
       " 2020]"
      ]
     },
     "execution_count": 13,
     "metadata": {},
     "output_type": "execute_result"
    }
   ],
   "source": [
    "X=[1950,1955,..,2020]\n",
    "X"
   ]
  },
  {
   "cell_type": "code",
   "execution_count": null,
   "id": "powerful-nitrogen",
   "metadata": {},
   "outputs": [],
   "source": [
    "Y=[  7 010\t  7 073\t  7 128\t  7 176\t  7 220\t  7 263\t  7 305\t  7 347\t  7 391\t  7 436\t  7 483\t  7 530\t  7 580\t  7 631\t  7 687\t  7 746\t  7 809\t  7 876\t  7 942\t  8 003\t  8 055\t  8 096\t  8 127\t  8 152\t  8 174\t  8 197\t  8 223\t  8 251\t  8 277\t  8 300\t  8 316\t  8 325\t  8 329\t  8 332\t  8 340\t  8 358\t  8 385\t  8 421\t  8 465\t  8 514\t  8 567\t  8 625\t  8 687\t  8 747\t  8 798\t  8 836\t  8 859\t  8 869\t  8 871\t  8 873\t  8 882\t  8 898\t  8 921\t  8 951\t  8 991\t  9 039\t  9 096\t  9 163\t  9 236\t  9 313\t  9 390\t  9 467\t  9 543\t  9 618\t  9 692\t  9 765\t  9 836\t  9,905,9972,10036,10099\n"
   ]
  }
 ],
 "metadata": {
  "kernelspec": {
   "display_name": "SageMath 9.2",
   "language": "sage",
   "name": "sagemath"
  },
  "language_info": {
   "codemirror_mode": {
    "name": "ipython",
    "version": 3
   },
   "file_extension": ".py",
   "mimetype": "text/x-python",
   "name": "python",
   "nbconvert_exporter": "python",
   "pygments_lexer": "ipython3",
   "version": "3.9.2"
  }
 },
 "nbformat": 4,
 "nbformat_minor": 5
}
