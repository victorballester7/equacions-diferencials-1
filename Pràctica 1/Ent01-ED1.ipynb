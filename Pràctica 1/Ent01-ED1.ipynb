{
 "cells": [
  {
   "cell_type": "markdown",
   "id": "fleet-clock",
   "metadata": {},
   "source": [
    "# ENTREGA PRÀCTICA 1 EQUACIONS DIFERENCIALS"
   ]
  },
  {
   "cell_type": "markdown",
   "id": "fatty-switzerland",
   "metadata": {},
   "source": [
    "## Víctor Ballester\n",
    "## NIU: 1570866"
   ]
  },
  {
   "cell_type": "code",
   "execution_count": 185,
   "id": "criminal-malaysia",
   "metadata": {},
   "outputs": [],
   "source": [
    "reset()"
   ]
  },
  {
   "cell_type": "markdown",
   "id": "ancient-gentleman",
   "metadata": {},
   "source": [
    "### 1 - Població mundial"
   ]
  },
  {
   "cell_type": "markdown",
   "id": "framed-poverty",
   "metadata": {},
   "source": [
    "##### Dades i models necessaris"
   ]
  },
  {
   "cell_type": "code",
   "execution_count": 1,
   "id": "coastal-killer",
   "metadata": {
    "scrolled": true
   },
   "outputs": [
    {
     "data": {
      "text/plain": [
       "[1950, 1955, 1960, 1965, 1970, 1975, 1980, 1985, 1990, 1995, 2000, 2005]"
      ]
     },
     "execution_count": 1,
     "metadata": {},
     "output_type": "execute_result"
    }
   ],
   "source": [
    "# anys\n",
    "X=[1950,1955,..,2005]\n",
    "X"
   ]
  },
  {
   "cell_type": "code",
   "execution_count": 2,
   "id": "powerful-nitrogen",
   "metadata": {
    "scrolled": true
   },
   "outputs": [
    {
     "data": {
      "text/plain": [
       "[2.53509300000000,\n",
       " 2.77075300000000,\n",
       " 3.03193100000000,\n",
       " 3.34277100000000,\n",
       " 3.69867600000000,\n",
       " 4.07608000000000,\n",
       " 4.45147000000000,\n",
       " 4.85526400000000,\n",
       " 5.29487900000000,\n",
       " 5.71904500000000,\n",
       " 6.12412300000000,\n",
       " 6.51475100000000]"
      ]
     },
     "execution_count": 2,
     "metadata": {},
     "output_type": "execute_result"
    }
   ],
   "source": [
    "# població mundial\n",
    "Y=[2.535093,2.770753,3.031931,3.342771,3.698676,4.076080,4.451470,4.855264,5.294879, 5.719045,6.124123,6.514751]\n",
    "Y"
   ]
  },
  {
   "cell_type": "code",
   "execution_count": 3,
   "id": "fatal-frame",
   "metadata": {},
   "outputs": [
    {
     "data": {
      "image/png": "[encoded data removed]",
      "text/plain": [
       "Graphics object consisting of 1 graphics primitive"
      ]
     },
     "execution_count": 3,
     "metadata": {},
     "output_type": "execute_result"
    }
   ],
   "source": [
    "p0=points([[X[i],Y[i]] for i in range(0,len(X))],color='red')\n",
    "p0"
   ]
  },
  {
   "cell_type": "code",
   "execution_count": 4,
   "id": "foster-scott",
   "metadata": {},
   "outputs": [],
   "source": [
    "def model_malthus(X,Y):\n",
    "    var('a0 t') # definició de variables necessàries\n",
    "    p=function('p')(t)\n",
    "    # creació dels conjunts necessaris #\n",
    "    dY=[(Y[i+1]-Y[i])/(X[i+1]-X[i]) for i in range(0,len(X)-1)] # derivades discretes\n",
    "    TC=[dY[i]/Y[i] for i in range(0,len(dY))] # taxa de creixement\n",
    "    # -------------------------------- #\n",
    "    a0=mean(TC) # aproximació del model per una recta horitzontal\n",
    "    ode_sol=desolve(diff(p,t)==a0*p,[p,t],[X[0],Y[0]]) # solucionem la edo p'=a*p\n",
    "    return ode_sol"
   ]
  },
  {
   "cell_type": "code",
   "execution_count": 5,
   "id": "standing-extent",
   "metadata": {},
   "outputs": [],
   "source": [
    "def model_verhulst(X,Y,i0): # i0 és l'index tal que agafem com a condició inical de la edo (X[i0],Y[i0])\n",
    "    var('a b p t') # definició de variables necessàries\n",
    "    # creació dels conjunts necessaris #\n",
    "    dY=[(Y[i+1]-Y[i])/(X[i+1]-X[i]) for i in range(0,len(X)-1)] # derivades discretes\n",
    "    TC=[dY[i]/Y[i] for i in range(0,len(dY))] # taxa de creixement\n",
    "    # -------------------------------- #\n",
    "    # recta de regressió del model #\n",
    "    taulaVerhulst=[[Y[i],TC[i]] for i in range(0,len(TC))]\n",
    "    model(p)=a*p+b\n",
    "    valorsrecta=find_fit(taulaVerhulst,model)\n",
    "    # ---------------------------- #\n",
    "    # solucionem la edo p'=a*p+b manualment #\n",
    "    integral1=integrate(1/(p*(a*p+b)),p) # integral1 = -log(a*p + b)/b + log(p)/b\n",
    "    edo_lhs=integral1.simplify_real() # edo_lhs = log(p/(a*p + b))/b\n",
    "    edo_rhs=t-X[i0]+integral1.subs(p=Y[i0]) # edo_rhs = t - X[0] + log(Y[0]/(a*Y[0] + b))/b\n",
    "    P=solve(exp(b*edo_lhs)==exp(b*edo_rhs),p)[0].rhs() # P = solució de la edo en funcio de t, a i b\n",
    "    # ------------------------------------- #\n",
    "    P_mod=P.subs(a=valorsrecta[0].rhs(),b=valorsrecta[1].rhs()) # substituim els valors a i b\n",
    "    return P_mod"
   ]
  },
  {
   "cell_type": "markdown",
   "id": "palestinian-synthesis",
   "metadata": {},
   "source": [
    "##### Model Malthus"
   ]
  },
  {
   "cell_type": "code",
   "execution_count": 6,
   "id": "european-mount",
   "metadata": {
    "scrolled": true
   },
   "outputs": [
    {
     "data": {
      "text/plain": [
       "2535093/1000000*e^(2298657/128178989*t - 4482381150/128178989)"
      ]
     },
     "execution_count": 6,
     "metadata": {},
     "output_type": "execute_result"
    }
   ],
   "source": [
    "p_mod1=model_malthus(X,Y)\n",
    "p_mod1"
   ]
  },
  {
   "cell_type": "code",
   "execution_count": 7,
   "id": "electrical-butter",
   "metadata": {},
   "outputs": [
    {
     "data": {
      "image/png": "[encoded data removed]",
      "text/plain": [
       "Graphics object consisting of 2 graphics primitives"
      ]
     },
     "execution_count": 7,
     "metadata": {},
     "output_type": "execute_result"
    }
   ],
   "source": [
    "p1=plot(p_mod1,1950,2005)\n",
    "p0+p1"
   ]
  },
  {
   "cell_type": "markdown",
   "id": "organized-conclusion",
   "metadata": {},
   "source": [
    "##### Model Verhulst 1"
   ]
  },
  {
   "cell_type": "code",
   "execution_count": 8,
   "id": "distant-portsmouth",
   "metadata": {
    "scrolled": true
   },
   "outputs": [
    {
     "data": {
      "text/plain": [
       "-25564.91139999467*e^(0.025564911399994672*t - 48.92134690722886)/(-1828.9516293534643*e^(0.025564911399994672*t - 48.92134690722886) - 20928.34892708211)"
      ]
     },
     "execution_count": 8,
     "metadata": {},
     "output_type": "execute_result"
    }
   ],
   "source": [
    "p_mod2=model_verhulst(X,Y,0)\n",
    "p_mod2"
   ]
  },
  {
   "cell_type": "code",
   "execution_count": 9,
   "id": "healthy-bishop",
   "metadata": {},
   "outputs": [
    {
     "data": {
      "image/png": "[encoded data removed]",
      "text/plain": [
       "Graphics object consisting of 2 graphics primitives"
      ]
     },
     "execution_count": 9,
     "metadata": {},
     "output_type": "execute_result"
    }
   ],
   "source": [
    "p2=plot(p_mod2,1950,2005)\n",
    "p2+p0"
   ]
  },
  {
   "cell_type": "markdown",
   "id": "electronic-christopher",
   "metadata": {},
   "source": [
    "##### Model Verhulst 2"
   ]
  },
  {
   "cell_type": "code",
   "execution_count": 12,
   "id": "periodic-microphone",
   "metadata": {},
   "outputs": [
    {
     "data": {
      "text/plain": [
       "[1965, 1970, 1975, 1980, 1985, 1990, 1995, 2000, 2005]"
      ]
     },
     "execution_count": 12,
     "metadata": {},
     "output_type": "execute_result"
    }
   ],
   "source": [
    "# anys (havent tret les 3 primeres dades)\n",
    "XX=[X[i] for i in range(3,len(X))]\n",
    "XX"
   ]
  },
  {
   "cell_type": "code",
   "execution_count": 13,
   "id": "dimensional-beaver",
   "metadata": {},
   "outputs": [
    {
     "data": {
      "text/plain": [
       "[3.34277100000000,\n",
       " 3.69867600000000,\n",
       " 4.07608000000000,\n",
       " 4.45147000000000,\n",
       " 4.85526400000000,\n",
       " 5.29487900000000,\n",
       " 5.71904500000000,\n",
       " 6.12412300000000,\n",
       " 6.51475100000000]"
      ]
     },
     "execution_count": 13,
     "metadata": {},
     "output_type": "execute_result"
    }
   ],
   "source": [
    "# població mundial (havent tret les 3 primeres dades)\n",
    "YY=[Y[i] for i in range(3,len(Y))]\n",
    "YY"
   ]
  },
  {
   "cell_type": "code",
   "execution_count": 14,
   "id": "illegal-closer",
   "metadata": {},
   "outputs": [
    {
     "data": {
      "text/plain": [
       "-31161.51428854692*e^(0.03116151428854692*t - 60.025575473249155)/(-2927.8249856272846*e^(0.03116151428854692*t - 60.025575473249155) - 21374.465833516617)"
      ]
     },
     "execution_count": 14,
     "metadata": {},
     "output_type": "execute_result"
    }
   ],
   "source": [
    "p_mod3=model_verhulst(XX,YY,0)\n",
    "p_mod3"
   ]
  },
  {
   "cell_type": "code",
   "execution_count": 15,
   "id": "blond-orbit",
   "metadata": {},
   "outputs": [
    {
     "data": {
      "image/png": "[encoded data removed]",
      "text/plain": [
       "Graphics object consisting of 2 graphics primitives"
      ]
     },
     "execution_count": 15,
     "metadata": {},
     "output_type": "execute_result"
    }
   ],
   "source": [
    "p3=plot(p_mod3,1965,2005)\n",
    "p3+p0"
   ]
  },
  {
   "cell_type": "markdown",
   "id": "anticipated-grammar",
   "metadata": {},
   "source": [
    "##### Comparació de dades"
   ]
  },
  {
   "cell_type": "code",
   "execution_count": 16,
   "id": "korean-partnership",
   "metadata": {},
   "outputs": [
    {
     "data": {
      "text/plain": [
       "[1950,\n",
       " 1955,\n",
       " 1960,\n",
       " 1965,\n",
       " 1970,\n",
       " 1975,\n",
       " 1980,\n",
       " 1985,\n",
       " 1990,\n",
       " 1995,\n",
       " 2000,\n",
       " 2005,\n",
       " 2010,\n",
       " 2015,\n",
       " 2020]"
      ]
     },
     "execution_count": 16,
     "metadata": {},
     "output_type": "execute_result"
    }
   ],
   "source": [
    "# afegim els últims anys\n",
    "X.extend([2010,2015,2020])\n",
    "X"
   ]
  },
  {
   "cell_type": "code",
   "execution_count": 17,
   "id": "electoral-execution",
   "metadata": {
    "scrolled": true
   },
   "outputs": [
    {
     "data": {
      "text/plain": [
       "[2.53643101800000,\n",
       " 2.77301991500000,\n",
       " 3.03494971500000,\n",
       " 3.33958351000000,\n",
       " 3.70043704200000,\n",
       " 4.07948047400000,\n",
       " 4.45800346600000,\n",
       " 4.87092166600000,\n",
       " 5.32723104100001,\n",
       " 5.74421293000000,\n",
       " 6.14349380600000,\n",
       " 6.54190695600000,\n",
       " 6.95682358800000,\n",
       " 7.37979696700000,\n",
       " 7.79479872900000]"
      ]
     },
     "execution_count": 17,
     "metadata": {},
     "output_type": "execute_result"
    }
   ],
   "source": [
    "# població mundial 1950-2020\n",
    "Y_revisat=[2.53643101800000,\n",
    " 2.77301991500000,\n",
    " 3.03494971500000,\n",
    " 3.33958351000000,\n",
    " 3.70043704200000,\n",
    " 4.07948047400000,\n",
    " 4.45800346600000,\n",
    " 4.87092166600000,\n",
    " 5.32723104100001,\n",
    " 5.74421293000000,\n",
    " 6.14349380600000,\n",
    " 6.54190695600000,\n",
    " 6.95682358800000,\n",
    " 7.37979696700000,\n",
    " 7.79479872900000]\n",
    "Y_revisat"
   ]
  },
  {
   "cell_type": "code",
   "execution_count": 18,
   "id": "wicked-capture",
   "metadata": {
    "scrolled": true
   },
   "outputs": [
    {
     "name": "stdout",
     "output_type": "stream",
     "text": [
      "Previsió i predicció de les dades segons els 3 models proposats juntament amb les dades revisades\n",
      "\n",
      "  t      p_mod1(t)        p_mod2(t)        p_mod3(t)   Dades revisades\n",
      "1950 2.53509300000000 2.53509300000000                  2.5364310180\n",
      "1955 2.77290699716892 2.81124101674352                  2.7730199150\n",
      "1960 3.03303003674751 3.10929616209194                  3.0349497150\n",
      "1965 3.31755490292493 3.42924745385521 3.34277100000001 3.3395835100\n",
      "1970 3.62877070143485 3.77069991597696 3.70991388762926 3.7004370420\n",
      "1975 3.96918127624126 4.13283078595673 4.09476339729176 4.0794804740\n",
      "1980 4.34152535387114 4.51435853010752 4.49366061689161 4.4580034660\n",
      "1985 4.74879857746266 4.91352911941334 4.90232616917621 4.8709216660\n",
      "1990 5.19427760780059 5.32812335409121 5.31602925018475 5.3272310410\n",
      "1995 5.68154648524061 5.75548777188831 5.72979985667663 5.7442129300\n",
      "2000 6.21452546461379 6.19258988776336 6.13866474950740 6.1434938060\n",
      "2005 6.79750255509838 6.63609635459427 6.53788374205270 6.5419069560\n",
      "2010 7.43516801880874 7.08247036863902 6.92316284775336 6.9568235880\n",
      "2015 8.13265210565502 7.52808259292634 7.29082468258617 7.3797969670\n",
      "2020 8.89556632806424 7.96932835937103 7.63792333646517 7.7947987290\n"
     ]
    }
   ],
   "source": [
    "print(\"Previsió i predicció de les dades segons els 3 models proposats juntament amb les dades revisades\\n\")\n",
    "print(\"  t      p_mod1(t)        p_mod2(t)        p_mod3(t)   Dades revisades\")\n",
    "for i in range(0,len(X)):\n",
    "    if i < 3:\n",
    "        print(X[i],(p_mod1(X[i])).n(),(p_mod2(X[i])).n(),\"                \",Y_revisat[i].n(digits=11))        \n",
    "    else:\n",
    "        print(X[i],(p_mod1(X[i])).n(),(p_mod2(X[i])).n(),(p_mod3(X[i])).n(),Y_revisat[i].n(digits=11))"
   ]
  },
  {
   "cell_type": "markdown",
   "id": "sophisticated-circulation",
   "metadata": {},
   "source": [
    "Com podem observar, el model de Verhulst 2 (p_mod3(t)) aproxima millor (en general) les dades revisades en comparació amb els altres dos models. D'altra banda, el pitjor model és el de Malthus."
   ]
  },
  {
   "cell_type": "markdown",
   "id": "conventional-optics",
   "metadata": {},
   "source": [
    "##### Models amb dades noves (revisades)"
   ]
  },
  {
   "cell_type": "code",
   "execution_count": 19,
   "id": "julian-bridges",
   "metadata": {
    "scrolled": true
   },
   "outputs": [
    {
     "data": {
      "text/plain": [
       "112345855/44292888*e^(2506709/149874254*t - 2444041275/74937127)"
      ]
     },
     "execution_count": 19,
     "metadata": {},
     "output_type": "execute_result"
    }
   ],
   "source": [
    "p_mod1_rev=model_malthus(X,Y_revisat) \n",
    "p_mod1_rev # Malthus"
   ]
  },
  {
   "cell_type": "code",
   "execution_count": 20,
   "id": "alternate-sodium",
   "metadata": {
    "scrolled": true
   },
   "outputs": [
    {
     "data": {
      "text/plain": [
       "-1162458.1085039717*e^(0.026244802743591065*t - 50.24660736808994)/(-88253.91070845613*e^(0.026244802743591065*t - 50.24660736808994) - 938608.1519232412)"
      ]
     },
     "execution_count": 20,
     "metadata": {},
     "output_type": "execute_result"
    }
   ],
   "source": [
    "p_mod2_rev=model_verhulst(X,Y_revisat,0)\n",
    "p_mod2_rev # Verhulst 1"
   ]
  },
  {
   "cell_type": "code",
   "execution_count": 21,
   "id": "temporal-knowing",
   "metadata": {},
   "outputs": [
    {
     "data": {
      "text/plain": [
       "-402739.671381065*e^(0.030143269442014124*t - 58.025678351949324)/(-35384.74188064183*e^(0.030143269442014124*t - 58.025678351949324) - 284569.3708908671)"
      ]
     },
     "execution_count": 21,
     "metadata": {},
     "output_type": "execute_result"
    }
   ],
   "source": [
    "# treiem les 3 primeres dades pel model de Verhulst 2\n",
    "p_mod3_rev=model_verhulst([X[i] for i in range(3,len(X))],[Y_revisat[i] for i in range(3,len(Y_revisat))],0)\n",
    "p_mod3_rev # Verhulst 2"
   ]
  },
  {
   "cell_type": "code",
   "execution_count": 22,
   "id": "identified-customs",
   "metadata": {},
   "outputs": [
    {
     "name": "stdout",
     "output_type": "stream",
     "text": [
      "Predicció de la població mundial durant els anys 2010-2050 segons els 3 models proposats i utilitzant les dades revisades\n",
      "\n",
      "  t    p_mod1_rev(t)    p_mod2_rev(t)    p_mod3_rev(t)\n",
      "2010 6.91908021227688 7.05028120946746 7.02458060891574\n",
      "2015 7.52258564994744 7.47765447309129 7.42210629496517\n",
      "2020 8.17873086084273 7.89751138297778 7.80184681081237\n",
      "2025 8.89210726295535 8.30655239615966 8.16097243971013\n",
      "2030 9.66770675319128 8.70182534352205 8.49739048169768\n",
      "2035 10.5109566384871 9.08080032861117 8.80974323651791\n",
      "2040 11.4277576137369 9.44141846461902 9.09736387954260\n",
      "2045 12.4245250522808 9.78211387818195 9.36020099894282\n",
      "2050 13.5082338978902 10.1018107624733 9.59872348977587\n",
      "2055 14.6864674723815 10.3998990754082 9.81381676275077\n"
     ]
    }
   ],
   "source": [
    "print(\"Predicció de la població mundial durant els anys 2010-2050 segons els 3 models proposats i utilitzant les dades revisades\\n\")\n",
    "print(\"  t    p_mod1_rev(t)    p_mod2_rev(t)    p_mod3_rev(t)\")\n",
    "for i in [2010,2015,..,2055]:\n",
    "        print(i,(p_mod1_rev(i)).n(),(p_mod2_rev(i)).n(),(p_mod3_rev(i)).n())"
   ]
  },
  {
   "cell_type": "markdown",
   "id": "homeless-reliance",
   "metadata": {},
   "source": [
    "##### Quan arribarem als 8 mil milions?"
   ]
  },
  {
   "cell_type": "markdown",
   "id": "connected-lexington",
   "metadata": {},
   "source": [
    "Utilitzarem el model p_mod3_rev, que sembla ser el que dona millors resultats."
   ]
  },
  {
   "cell_type": "code",
   "execution_count": 23,
   "id": "supposed-musical",
   "metadata": {},
   "outputs": [
    {
     "data": {
      "text/plain": [
       "2022.72113085611"
      ]
     },
     "execution_count": 23,
     "metadata": {},
     "output_type": "execute_result"
    }
   ],
   "source": [
    "sol=solve(p_mod3_rev==8,t) # solucionem la equació\n",
    "Any=sol[0].rhs().n()\n",
    "Any"
   ]
  },
  {
   "cell_type": "code",
   "execution_count": 24,
   "id": "decreased-advantage",
   "metadata": {},
   "outputs": [
    {
     "data": {
      "text/plain": [
       "9.65357027329264"
      ]
     },
     "execution_count": 24,
     "metadata": {},
     "output_type": "execute_result"
    }
   ],
   "source": [
    "mes=(Any-Any.integer_part())*12+1\n",
    "mes"
   ]
  },
  {
   "cell_type": "code",
   "execution_count": 25,
   "id": "european-example",
   "metadata": {},
   "outputs": [
    {
     "data": {
      "text/plain": [
       "19.8930451933448"
      ]
     },
     "execution_count": 25,
     "metadata": {},
     "output_type": "execute_result"
    }
   ],
   "source": [
    "dia=(mes-mes.integer_part())*(365.25/12) # fem la mitjana de dies que té cada mes.\n",
    "dia"
   ]
  },
  {
   "cell_type": "code",
   "execution_count": 26,
   "id": "hourly-concern",
   "metadata": {},
   "outputs": [
    {
     "name": "stdout",
     "output_type": "stream",
     "text": [
      "Arribarem a 8 milions d'habitans el dia 19 del mes 9 de l'any 2022 \b.\n"
     ]
    }
   ],
   "source": [
    "print(\"Arribarem a 8 milions d'habitans el dia\",dia.integer_part(),\"del mes\",mes.integer_part(),\"de l'any\",Any.integer_part(),\"\\b.\")"
   ]
  },
  {
   "cell_type": "markdown",
   "id": "naughty-federation",
   "metadata": {},
   "source": [
    "### 2 - Cas particular d'un país concret"
   ]
  },
  {
   "cell_type": "code",
   "execution_count": 27,
   "id": "sonic-comparison",
   "metadata": {},
   "outputs": [
    {
     "data": {
      "text/plain": [
       "272"
      ]
     },
     "execution_count": 27,
     "metadata": {},
     "output_type": "execute_result"
    }
   ],
   "source": [
    "linia_excel=1570866 % 263 + 42\n",
    "linia_excel"
   ]
  },
  {
   "cell_type": "markdown",
   "id": "prompt-interview",
   "metadata": {},
   "source": [
    "272 ----> Sweden"
   ]
  },
  {
   "cell_type": "markdown",
   "id": "nasty-blond",
   "metadata": {},
   "source": [
    "##### Dades i models necessaris"
   ]
  },
  {
   "cell_type": "code",
   "execution_count": 28,
   "id": "embedded-listening",
   "metadata": {
    "scrolled": false
   },
   "outputs": [
    {
     "data": {
      "text/plain": [
       "[1950,\n",
       " 1955,\n",
       " 1960,\n",
       " 1965,\n",
       " 1970,\n",
       " 1975,\n",
       " 1980,\n",
       " 1985,\n",
       " 1990,\n",
       " 1995,\n",
       " 2000,\n",
       " 2005,\n",
       " 2010,\n",
       " 2015,\n",
       " 2020]"
      ]
     },
     "execution_count": 28,
     "metadata": {},
     "output_type": "execute_result"
    }
   ],
   "source": [
    "X"
   ]
  },
  {
   "cell_type": "code",
   "execution_count": 29,
   "id": "official-extra",
   "metadata": {},
   "outputs": [
    {
     "data": {
      "text/plain": [
       "[7.00991300000000,\n",
       " 7.26262500000000,\n",
       " 7.48253600000000,\n",
       " 7.74567800000000,\n",
       " 8.05490900000000,\n",
       " 8.19734100000000,\n",
       " 8.31633100000000,\n",
       " 8.35765000000000,\n",
       " 8.56737500000000,\n",
       " 8.83642100000000,\n",
       " 8.88164200000000,\n",
       " 9.03862700000000,\n",
       " 9.39015700000000,\n",
       " 9.76494900000000,\n",
       " 10.0992700000000]"
      ]
     },
     "execution_count": 29,
     "metadata": {},
     "output_type": "execute_result"
    }
   ],
   "source": [
    "# població a Suència (1950-2020) expressada en milions d'habitans\n",
    "Y_sweden=[7.00991300000000,\n",
    " 7.26262500000000,\n",
    " 7.48253600000000,\n",
    " 7.74567800000000,\n",
    " 8.05490900000000,\n",
    " 8.19734100000000,\n",
    " 8.31633100000000,\n",
    " 8.35765000000000,\n",
    " 8.56737500000000,\n",
    " 8.83642100000000,\n",
    " 8.88164200000000,\n",
    " 9.03862700000000,\n",
    " 9.39015700000000,\n",
    " 9.76494900000000,\n",
    " 10.0992700000000]\n",
    "Y_sweden"
   ]
  },
  {
   "cell_type": "code",
   "execution_count": 30,
   "id": "brilliant-combining",
   "metadata": {},
   "outputs": [
    {
     "data": {
      "image/png": "[encoded data removed]",
      "text/plain": [
       "Graphics object consisting of 1 graphics primitive"
      ]
     },
     "execution_count": 30,
     "metadata": {},
     "output_type": "execute_result"
    }
   ],
   "source": [
    "p0_sweden=points([[X[i],Y_sweden[i]] for i in range(0,len(X))],color='red')\n",
    "p0_sweden"
   ]
  },
  {
   "cell_type": "markdown",
   "id": "grand-liberty",
   "metadata": {},
   "source": [
    "##### Models amb dades 1950-2020"
   ]
  },
  {
   "cell_type": "code",
   "execution_count": 31,
   "id": "absolute-anchor",
   "metadata": {
    "scrolled": true
   },
   "outputs": [
    {
     "data": {
      "text/plain": [
       "7009913/1000000*e^(905347/170857051*t - 1765426650/170857051)"
      ]
     },
     "execution_count": 31,
     "metadata": {},
     "output_type": "execute_result"
    }
   ],
   "source": [
    "p_mod1_sweden=model_malthus(X,Y_sweden) \n",
    "p_mod1_sweden # Malthus"
   ]
  },
  {
   "cell_type": "code",
   "execution_count": 32,
   "id": "beginning-consistency",
   "metadata": {},
   "outputs": [
    {
     "data": {
      "image/png": "[encoded data removed]",
      "text/plain": [
       "Graphics object consisting of 2 graphics primitives"
      ]
     },
     "execution_count": 32,
     "metadata": {},
     "output_type": "execute_result"
    }
   ],
   "source": [
    "p1_sweden=plot(p_mod1_sweden,1950,2020)\n",
    "p0_sweden+p1_sweden"
   ]
  },
  {
   "cell_type": "code",
   "execution_count": 33,
   "id": "about-auckland",
   "metadata": {
    "scrolled": true
   },
   "outputs": [
    {
     "data": {
      "text/plain": [
       "-6899.890216924324*e^(0.006899890216924324*t - 11.507460632874604)/(-191.73046825838406*e^(0.006899890216924324*t - 11.507460632874604) - 5555.8763149837905)"
      ]
     },
     "execution_count": 33,
     "metadata": {},
     "output_type": "execute_result"
    }
   ],
   "source": [
    "p_mod2_sweden=model_verhulst(X,Y_sweden,0)\n",
    "p_mod2_sweden # Verhulst 1"
   ]
  },
  {
   "cell_type": "code",
   "execution_count": 34,
   "id": "intimate-thickness",
   "metadata": {},
   "outputs": [
    {
     "data": {
      "image/png": "[encoded data removed]",
      "text/plain": [
       "Graphics object consisting of 2 graphics primitives"
      ]
     },
     "execution_count": 34,
     "metadata": {},
     "output_type": "execute_result"
    }
   ],
   "source": [
    "p2_sweden=plot(p_mod2_sweden,1950,2020)\n",
    "p0_sweden+p2_sweden"
   ]
  },
  {
   "cell_type": "markdown",
   "id": "metallic-grave",
   "metadata": {},
   "source": [
    "Ara eliminarem unes quantes dades pel model de Verhulst 2."
   ]
  },
  {
   "cell_type": "markdown",
   "id": "homeless-favorite",
   "metadata": {},
   "source": [
    "Història de Suècia:\n",
    "- No va participar en la WWII i es va declerar neutral a la Guerra Freda. Per tant, no va ser afectada de manera substancial per les guerres.\n",
    "- Va tenir fortes onades d'immigració i emmigració durant la dècada dels anys 70, 80 i 90. Per tant, exclourem els valors més desorbitats d'aquestes dades."
   ]
  },
  {
   "cell_type": "markdown",
   "id": "treated-organic",
   "metadata": {},
   "source": [
    "Observem el gràfic de la taxa de creixement en funció dels anys per tal de decir quines dades descartem (si és que en descartem algunes)."
   ]
  },
  {
   "cell_type": "code",
   "execution_count": 35,
   "id": "naughty-interest",
   "metadata": {},
   "outputs": [],
   "source": [
    "dY_sweden=[(Y_sweden[i+1]-Y_sweden[i])/(X[i+1]-X[i]) for i in range(0,len(X)-1)] # derivades discretes\n",
    "TC_sweden=[dY_sweden[i]/Y_sweden[i] for i in range(0,len(dY_sweden))] # taxa de creixement"
   ]
  },
  {
   "cell_type": "code",
   "execution_count": 36,
   "id": "printable-silly",
   "metadata": {
    "scrolled": false
   },
   "outputs": [
    {
     "data": {
      "image/png": "[encoded data removed]",
      "text/plain": [
       "Graphics object consisting of 1 graphics primitive"
      ]
     },
     "execution_count": 36,
     "metadata": {},
     "output_type": "execute_result"
    }
   ],
   "source": [
    "graf5=points([[X[i],TC_sweden[i]] for i in range(0,len(TC_sweden))],color='red')\n",
    "graf5"
   ]
  },
  {
   "cell_type": "markdown",
   "id": "deluxe-johnson",
   "metadata": {},
   "source": [
    "Tot i que ens surten uns resultats bastant caòtics, exclourem les dades dels anys 1980 i 1995."
   ]
  },
  {
   "cell_type": "code",
   "execution_count": 37,
   "id": "happy-assault",
   "metadata": {},
   "outputs": [
    {
     "data": {
      "text/plain": [
       "[1950, 1955, 1960, 1965, 1970, 1975, 1985, 1990, 2000, 2005, 2010, 2015, 2020]"
      ]
     },
     "execution_count": 37,
     "metadata": {},
     "output_type": "execute_result"
    }
   ],
   "source": [
    "X_sweden_verhulst=[i for i in X if i not in (1980,1995)]\n",
    "X_sweden_verhulst"
   ]
  },
  {
   "cell_type": "code",
   "execution_count": 38,
   "id": "ideal-survey",
   "metadata": {},
   "outputs": [],
   "source": [
    "# població a Suència (1950-2020 menys el 1980 i 1995) expressada en milions d'habitans\n",
    "Y_sweden_verhulst=[7.00991300000000,\n",
    " 7.26262500000000,\n",
    " 7.48253600000000,\n",
    " 7.74567800000000,\n",
    " 8.05490900000000,\n",
    " 8.19734100000000,\n",
    " 8.35765000000000,\n",
    " 8.56737500000000,\n",
    " 8.88164200000000,\n",
    " 9.03862700000000,\n",
    " 9.39015700000000,\n",
    " 9.76494900000000,\n",
    " 10.0992700000000]"
   ]
  },
  {
   "cell_type": "markdown",
   "id": "native-master",
   "metadata": {},
   "source": [
    "A més, canviarem el valor inicial de la edo per obtenir una millor aproximació de cara a l'any 2050."
   ]
  },
  {
   "cell_type": "code",
   "execution_count": 39,
   "id": "supposed-adapter",
   "metadata": {},
   "outputs": [
    {
     "data": {
      "text/plain": [
       "-2806.7892987509954*e^(0.005613578597501991*t - 9.043170745183726)/(6.234419723732891*e^(0.005613578597501991*t - 9.043170745183726) - 2862.16118281493)"
      ]
     },
     "execution_count": 39,
     "metadata": {},
     "output_type": "execute_result"
    }
   ],
   "source": [
    "p_mod3_sweden=model_verhulst(X_sweden_verhulst,Y_sweden_verhulst,8)\n",
    "p_mod3_sweden # Verhulst 2"
   ]
  },
  {
   "cell_type": "code",
   "execution_count": 40,
   "id": "vietnamese-mozambique",
   "metadata": {},
   "outputs": [
    {
     "data": {
      "image/png": "[encoded data removed]",
      "text/plain": [
       "Graphics object consisting of 2 graphics primitives"
      ]
     },
     "execution_count": 40,
     "metadata": {},
     "output_type": "execute_result"
    }
   ],
   "source": [
    "p3_sweden=plot(p_mod3_sweden,1950,2020)\n",
    "p0_sweden+p3_sweden"
   ]
  },
  {
   "cell_type": "code",
   "execution_count": 41,
   "id": "honest-disposition",
   "metadata": {},
   "outputs": [],
   "source": [
    "# NOTA: Tot i que sembli que durant els primers anys aquest model no aproxima gaire bé les dades reals, s'ha\n",
    "# escollit aquesta condició inicial per a l'equació diferencial per tal que això, juntament amb les dades \n",
    "# inicials suprimides donin un resultat coherent en el càlcul de la població el dia del meu naixement i en \n",
    "# l'any 2050."
   ]
  },
  {
   "cell_type": "code",
   "execution_count": 42,
   "id": "committed-guinea",
   "metadata": {},
   "outputs": [
    {
     "name": "stdout",
     "output_type": "stream",
     "text": [
      "Predicció de la població al 2050 a Suècia segons els 3 models proposats:\n",
      "\n",
      "        p_mod1_sweden(t)    p_mod2_sweden(t)    p_mod3_sweden(t)\n",
      "2050    11.9080059509920    11.7091951313169    11.8352016202927\n"
     ]
    }
   ],
   "source": [
    "i=2050\n",
    "print(\"Predicció de la població al 2050 a Suècia segons els 3 models proposats:\\n\")\n",
    "print(\"        p_mod1_sweden(t)    p_mod2_sweden(t)    p_mod3_sweden(t)\")\n",
    "print(i,\"  \",(p_mod1_sweden(i)).n(),\"  \",(p_mod2_sweden(i)).n(),\"  \",(p_mod3_sweden(i)).n())"
   ]
  },
  {
   "cell_type": "markdown",
   "id": "mounted-german",
   "metadata": {},
   "source": [
    "##### Quina població hi havia a Suècia el dia del meu naixement?"
   ]
  },
  {
   "cell_type": "code",
   "execution_count": 43,
   "id": "sublime-launch",
   "metadata": {},
   "outputs": [],
   "source": [
    "# Dia de naixement\n",
    "dia=26\n",
    "mes=10\n",
    "Any=2001"
   ]
  },
  {
   "cell_type": "code",
   "execution_count": 44,
   "id": "historic-belief",
   "metadata": {},
   "outputs": [
    {
     "data": {
      "text/plain": [
       "2001.82118412047"
      ]
     },
     "execution_count": 44,
     "metadata": {},
     "output_type": "execute_result"
    }
   ],
   "source": [
    "# Dia de naixement (transformat en anys)\n",
    "Mes=(mes-1)+dia/(365.25/12)\n",
    "Naixement=Any+Mes/12\n",
    "Naixement"
   ]
  },
  {
   "cell_type": "code",
   "execution_count": 45,
   "id": "static-evolution",
   "metadata": {},
   "outputs": [
    {
     "name": "stdout",
     "output_type": "stream",
     "text": [
      "Població el dia 26 del mes 10 de l'any 2001 a Suècia segons els 3 models proposats:\n",
      "\n",
      "        p_mod1_sweden(t)    p_mod2_sweden(t)    p_mod3_sweden(t)\n",
      "2001    9.18495641153740    9.20978760426868    8.93263201309254\n"
     ]
    }
   ],
   "source": [
    "i=2001\n",
    "print(\"Població el dia\",dia,\"del mes\",mes,\"de l'any\",Any,\"a Suècia segons els 3 models proposats:\\n\")\n",
    "print(\"        p_mod1_sweden(t)    p_mod2_sweden(t)    p_mod3_sweden(t)\")\n",
    "print(i,\"  \",(p_mod1_sweden(i)).n(),\"  \",(p_mod2_sweden(i)).n(),\"  \",(p_mod3_sweden(i)).n())"
   ]
  },
  {
   "cell_type": "code",
   "execution_count": 46,
   "id": "other-rogers",
   "metadata": {},
   "outputs": [
    {
     "name": "stdout",
     "output_type": "stream",
     "text": [
      "Recordem que:\n",
      "\n",
      "Població de Suècia l'any 2000 \b: 8.88164200000000\n",
      "Població de Suècia l'any 2005 \b: 9.03862700000000\n"
     ]
    }
   ],
   "source": [
    "print(\"Recordem que:\\n\")\n",
    "print(\"Població de Suècia l'any\",X[10],\"\\b:\",Y_sweden[10])\n",
    "print(\"Població de Suècia l'any\",X[11],\"\\b:\",Y_sweden[11])"
   ]
  },
  {
   "cell_type": "markdown",
   "id": "colored-metadata",
   "metadata": {},
   "source": [
    "Per tant, concloem que el valor més adecuat és el del tercer model ja que en tot moment (a gran escala) la població va ser creixent."
   ]
  }
 ],
 "metadata": {
  "kernelspec": {
   "display_name": "SageMath 9.2",
   "language": "sage",
   "name": "sagemath"
  },
  "language_info": {
   "codemirror_mode": {
    "name": "ipython",
    "version": 3
   },
   "file_extension": ".py",
   "mimetype": "text/x-python",
   "name": "python",
   "nbconvert_exporter": "python",
   "pygments_lexer": "ipython3",
   "version": "3.9.2"
  }
 },
 "nbformat": 4,
 "nbformat_minor": 5
}
