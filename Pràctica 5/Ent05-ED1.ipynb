{
 "cells": [
  {
   "cell_type": "markdown",
   "id": "celtic-limitation",
   "metadata": {},
   "source": [
    "# ENTREGA PRÀCTICA 5 EQUACIONS DIFERENCIALS"
   ]
  },
  {
   "cell_type": "markdown",
   "id": "separate-straight",
   "metadata": {},
   "source": [
    "## Víctor Ballester\n",
    "## NIU: 1570866"
   ]
  },
  {
   "cell_type": "code",
   "execution_count": 99,
   "id": "convertible-forward",
   "metadata": {},
   "outputs": [],
   "source": [
    "reset()"
   ]
  },
  {
   "cell_type": "code",
   "execution_count": 1,
   "id": "arranged-theory",
   "metadata": {},
   "outputs": [],
   "source": [
    "# NOTA: Sé que únicament s'havia d'entregar des de l'apartat h en endavant però els he fet tots en aquest mateix\n",
    "# fitxer per tal de mostrar un exercici més orgaitzat i perquè a vegades en alguns apartats es necessita els\n",
    "# resultats dels apartatas anteriors. És per això que he organitzat el fitxer en subapartats. Per tant, si es vol \n",
    "# anar directament a l'apartat h), s'hi pot anar però en general per poder executar l'apartat i), cal haver \n",
    "# executat l'apartat i-1)."
   ]
  },
  {
   "cell_type": "code",
   "execution_count": 2,
   "id": "impressed-penguin",
   "metadata": {
    "scrolled": true
   },
   "outputs": [
    {
     "data": {
      "text/plain": [
       "t"
      ]
     },
     "execution_count": 2,
     "metadata": {},
     "output_type": "execute_result"
    }
   ],
   "source": [
    "var('t')"
   ]
  },
  {
   "cell_type": "markdown",
   "id": "private-frequency",
   "metadata": {},
   "source": [
    "##### Apartat a)"
   ]
  },
  {
   "cell_type": "code",
   "execution_count": 3,
   "id": "interstate-handle",
   "metadata": {},
   "outputs": [
    {
     "name": "stdout",
     "output_type": "stream",
     "text": [
      "[ 0  1  0]\n",
      "[ 0  0  1]\n",
      "[ 6 -8  5]\n",
      "\n",
      "(0, 0, 2*cos(t)*e^t + t*sin(t))\n"
     ]
    }
   ],
   "source": [
    "# Calculem la matriu A i el vector b del sistema lineal associat.\n",
    "A1=matrix(QQ[I],3,[0,1,0,0,0,1,6,-8,5])\n",
    "b1=vector([0,0,t*sin(t)+2*e^t*cos(t)])\n",
    "print(A1)\n",
    "print()\n",
    "print(b1)"
   ]
  },
  {
   "cell_type": "code",
   "execution_count": 4,
   "id": "italic-vietnamese",
   "metadata": {},
   "outputs": [
    {
     "name": "stdout",
     "output_type": "stream",
     "text": [
      "El sistema associat és d(x1,x2,x3)/dt = A1 * (x1,x2,x3) + b1\n"
     ]
    }
   ],
   "source": [
    "print('El sistema associat és d(x1,x2,x3)/dt = A1 * (x1,x2,x3) + b1')"
   ]
  },
  {
   "cell_type": "markdown",
   "id": "crazy-space",
   "metadata": {},
   "source": [
    "##### Apartat b)"
   ]
  },
  {
   "cell_type": "code",
   "execution_count": 5,
   "id": "consistent-australian",
   "metadata": {},
   "outputs": [
    {
     "data": {
      "text/plain": [
       "x^3 - 5*x^2 + 8*x - 6"
      ]
     },
     "execution_count": 5,
     "metadata": {},
     "output_type": "execute_result"
    }
   ],
   "source": [
    "A1.charpoly()"
   ]
  },
  {
   "cell_type": "markdown",
   "id": "protecting-bermuda",
   "metadata": {},
   "source": [
    "##### Apartat c)"
   ]
  },
  {
   "cell_type": "code",
   "execution_count": 6,
   "id": "abandoned-montana",
   "metadata": {
    "scrolled": true
   },
   "outputs": [
    {
     "data": {
      "text/plain": [
       "(k1, k2, k3)"
      ]
     },
     "execution_count": 6,
     "metadata": {},
     "output_type": "execute_result"
    }
   ],
   "source": [
    "var('k1 k2 k3') # condicions inicials."
   ]
  },
  {
   "cell_type": "code",
   "execution_count": 7,
   "id": "developing-determination",
   "metadata": {},
   "outputs": [],
   "source": [
    "x=function('x')(t)"
   ]
  },
  {
   "cell_type": "code",
   "execution_count": 8,
   "id": "extra-ghana",
   "metadata": {},
   "outputs": [
    {
     "data": {
      "text/plain": [
       "[3, I + 1, -I + 1]"
      ]
     },
     "execution_count": 8,
     "metadata": {},
     "output_type": "execute_result"
    }
   ],
   "source": [
    "# valors propis de A1\n",
    "vaps1=A1.eigenvalues()\n",
    "vaps1"
   ]
  },
  {
   "cell_type": "code",
   "execution_count": 9,
   "id": "labeled-trust",
   "metadata": {},
   "outputs": [
    {
     "data": {
      "text/plain": [
       "[(3,\n",
       "  [\n",
       "  (1, 3, 9)\n",
       "  ],\n",
       "  1),\n",
       " (I + 1,\n",
       "  [\n",
       "  (1, I + 1, 2*I)\n",
       "  ],\n",
       "  1),\n",
       " (-I + 1,\n",
       "  [\n",
       "  (1, -I + 1, -2*I)\n",
       "  ],\n",
       "  1)]"
      ]
     },
     "execution_count": 9,
     "metadata": {},
     "output_type": "execute_result"
    }
   ],
   "source": [
    "# vectors propis de A1\n",
    "veps1=A1.eigenvectors_right()\n",
    "veps1"
   ]
  },
  {
   "cell_type": "code",
   "execution_count": 10,
   "id": "ultimate-detector",
   "metadata": {},
   "outputs": [
    {
     "data": {
      "text/plain": [
       "[     1      1      1]\n",
       "[     3  I + 1 -I + 1]\n",
       "[     9    2*I   -2*I]"
      ]
     },
     "execution_count": 10,
     "metadata": {},
     "output_type": "execute_result"
    }
   ],
   "source": [
    "# matriu de canvi de base de la base de veps a la base canònica\n",
    "B1=matrix(3,[veps1[0][1][0],veps1[1][1][0],veps1[2][1][0]]).transpose()\n",
    "B1"
   ]
  },
  {
   "cell_type": "code",
   "execution_count": 11,
   "id": "retained-southeast",
   "metadata": {},
   "outputs": [
    {
     "data": {
      "text/plain": [
       "[     3      0      0]\n",
       "[     0  I + 1      0]\n",
       "[     0      0 -I + 1]"
      ]
     },
     "execution_count": 11,
     "metadata": {},
     "output_type": "execute_result"
    }
   ],
   "source": [
    "# matriu de Jordan\n",
    "B1^-1*A1*B1"
   ]
  },
  {
   "cell_type": "code",
   "execution_count": 12,
   "id": "alpine-neighborhood",
   "metadata": {},
   "outputs": [
    {
     "data": {
      "text/plain": [
       "(k1*e^(3*t), k2*e^((I + 1)*t), k3*e^(-(I - 1)*t))"
      ]
     },
     "execution_count": 12,
     "metadata": {},
     "output_type": "execute_result"
    }
   ],
   "source": [
    "# Solucionem les tres equacions diferencials corresponents.\n",
    "sol11=desolve(diff(x,t)==vaps1[0]*x,x,ivar=t).subs(_C=k1)\n",
    "sol12=desolve(diff(x,t)==vaps1[1]*x,x,ivar=t).subs(_C=k2)\n",
    "sol13=desolve(diff(x,t)==vaps1[2]*x,x,ivar=t).subs(_C=k3)\n",
    "\n",
    "sol_homo1=vector([sol11,sol12,sol13])\n",
    "sol_homo1"
   ]
  },
  {
   "cell_type": "code",
   "execution_count": 13,
   "id": "ahead-naples",
   "metadata": {},
   "outputs": [
    {
     "data": {
      "text/html": [
       "<html><script type=\"math/tex; mode=display\">\\newcommand{\\Bold}[1]{\\mathbf{#1}}\\left(k_{1} e^{\\left(3 \\, t\\right)} + k_{2} e^{\\left(\\left(i + 1\\right) \\, t\\right)} + k_{3} e^{\\left(-\\left(i - 1\\right) \\, t\\right)},\\,3 \\, k_{1} e^{\\left(3 \\, t\\right)} + \\left(i + 1\\right) \\, k_{2} e^{\\left(\\left(i + 1\\right) \\, t\\right)} - \\left(i - 1\\right) \\, k_{3} e^{\\left(-\\left(i - 1\\right) \\, t\\right)},\\,9 \\, k_{1} e^{\\left(3 \\, t\\right)} + 2 i \\, k_{2} e^{\\left(\\left(i + 1\\right) \\, t\\right)} - 2 i \\, k_{3} e^{\\left(-\\left(i - 1\\right) \\, t\\right)}\\right)</script></html>"
      ],
      "text/latex": [
       "\\begin{math}\n",
       "\\newcommand{\\Bold}[1]{\\mathbf{#1}}\\left(k_{1} e^{\\left(3 \\, t\\right)} + k_{2} e^{\\left(\\left(i + 1\\right) \\, t\\right)} + k_{3} e^{\\left(-\\left(i - 1\\right) \\, t\\right)},\\,3 \\, k_{1} e^{\\left(3 \\, t\\right)} + \\left(i + 1\\right) \\, k_{2} e^{\\left(\\left(i + 1\\right) \\, t\\right)} - \\left(i - 1\\right) \\, k_{3} e^{\\left(-\\left(i - 1\\right) \\, t\\right)},\\,9 \\, k_{1} e^{\\left(3 \\, t\\right)} + 2 i \\, k_{2} e^{\\left(\\left(i + 1\\right) \\, t\\right)} - 2 i \\, k_{3} e^{\\left(-\\left(i - 1\\right) \\, t\\right)}\\right)\n",
       "\\end{math}"
      ],
      "text/plain": [
       "(k1*e^(3*t) + k2*e^((I + 1)*t) + k3*e^(-(I - 1)*t), 3*k1*e^(3*t) + (I + 1)*k2*e^((I + 1)*t) - (I - 1)*k3*e^(-(I - 1)*t), 9*k1*e^(3*t) + 2*I*k2*e^((I + 1)*t) - 2*I*k3*e^(-(I - 1)*t))"
      ]
     },
     "metadata": {},
     "output_type": "display_data"
    }
   ],
   "source": [
    "# Recuperem la solució expressada en la base canònica.\n",
    "sol1_homo=B1*sol_homo1\n",
    "show(sol1_homo)"
   ]
  },
  {
   "cell_type": "code",
   "execution_count": 14,
   "id": "changing-nursing",
   "metadata": {},
   "outputs": [
    {
     "name": "stdout",
     "output_type": "stream",
     "text": [
      "0\n",
      "0\n",
      "0\n"
     ]
    }
   ],
   "source": [
    "# Comprovem que hem fet bé els càlculs.\n",
    "print(diff(sol1_homo[0],t)-sol1_homo[1])\n",
    "print(diff(sol1_homo[1],t)-sol1_homo[2])\n",
    "print(diff(sol1_homo[2],t)-(6*sol1_homo[0]-8*sol1_homo[1]+5*sol1_homo[2]))"
   ]
  },
  {
   "cell_type": "markdown",
   "id": "solid-trainer",
   "metadata": {},
   "source": [
    "##### Apartat d)"
   ]
  },
  {
   "cell_type": "code",
   "execution_count": 15,
   "id": "sudden-chemistry",
   "metadata": {},
   "outputs": [
    {
     "data": {
      "text/plain": [
       "(x01, x02, x03)"
      ]
     },
     "execution_count": 15,
     "metadata": {},
     "output_type": "execute_result"
    }
   ],
   "source": [
    "# Imposem condicions inicials: x(0)=x01, x'(0)=x02, x''(0)=x03, on x01, x02 i x03 són valors reals.\n",
    "var('x01 x02 x03')"
   ]
  },
  {
   "cell_type": "code",
   "execution_count": 16,
   "id": "returning-public",
   "metadata": {},
   "outputs": [
    {
     "data": {
      "text/html": [
       "<html><script type=\"math/tex; mode=display\">\\newcommand{\\Bold}[1]{\\mathbf{#1}}\\left[\\left[k_{1} = \\frac{2}{5} \\, x_{01} - \\frac{2}{5} \\, x_{02} + \\frac{1}{5} \\, x_{03}, k_{2} = \\left(\\frac{9}{10} i + \\frac{3}{10}\\right) \\, x_{01} - \\left(\\frac{9}{10} i - \\frac{1}{5}\\right) \\, x_{02} + \\left(\\frac{1}{5} i - \\frac{1}{10}\\right) \\, x_{03}, k_{3} = -\\left(\\frac{9}{10} i - \\frac{3}{10}\\right) \\, x_{01} + \\left(\\frac{9}{10} i + \\frac{1}{5}\\right) \\, x_{02} - \\left(\\frac{1}{5} i + \\frac{1}{10}\\right) \\, x_{03}\\right]\\right]</script></html>"
      ],
      "text/latex": [
       "\\begin{math}\n",
       "\\newcommand{\\Bold}[1]{\\mathbf{#1}}\\left[\\left[k_{1} = \\frac{2}{5} \\, x_{01} - \\frac{2}{5} \\, x_{02} + \\frac{1}{5} \\, x_{03}, k_{2} = \\left(\\frac{9}{10} i + \\frac{3}{10}\\right) \\, x_{01} - \\left(\\frac{9}{10} i - \\frac{1}{5}\\right) \\, x_{02} + \\left(\\frac{1}{5} i - \\frac{1}{10}\\right) \\, x_{03}, k_{3} = -\\left(\\frac{9}{10} i - \\frac{3}{10}\\right) \\, x_{01} + \\left(\\frac{9}{10} i + \\frac{1}{5}\\right) \\, x_{02} - \\left(\\frac{1}{5} i + \\frac{1}{10}\\right) \\, x_{03}\\right]\\right]\n",
       "\\end{math}"
      ],
      "text/plain": [
       "[[k1 == 2/5*x01 - 2/5*x02 + 1/5*x03, k2 == (9/10*I + 3/10)*x01 - (9/10*I - 1/5)*x02 + (1/5*I - 1/10)*x03, k3 == -(9/10*I - 3/10)*x01 + (9/10*I + 1/5)*x02 - (1/5*I + 1/10)*x03]]"
      ]
     },
     "metadata": {},
     "output_type": "display_data"
    }
   ],
   "source": [
    "# Trobem el valor de les constants k1, k2 i k3 en termes de x01, x02 i x03.\n",
    "solk_1=solve([sol1_homo[0](t=0)==x01,diff(sol1_homo[0],t)(t=0)==x02,diff(sol1_homo[0],t,2)(t=0)==x03],k1,k2,k3)\n",
    "show(solk_1)"
   ]
  },
  {
   "cell_type": "code",
   "execution_count": 17,
   "id": "broadband-immigration",
   "metadata": {},
   "outputs": [
    {
     "data": {
      "text/html": [
       "<html><script type=\"math/tex; mode=display\">\\newcommand{\\Bold}[1]{\\mathbf{#1}}\\left(\\frac{1}{5} \\, {\\left(3 \\, \\cos\\left(t\\right) e^{t} - 9 \\, e^{t} \\sin\\left(t\\right) + 2 \\, e^{\\left(3 \\, t\\right)}\\right)} x_{01} + \\frac{1}{5} \\, {\\left(2 \\, \\cos\\left(t\\right) e^{t} + 9 \\, e^{t} \\sin\\left(t\\right) - 2 \\, e^{\\left(3 \\, t\\right)}\\right)} x_{02} - \\frac{1}{5} \\, {\\left(\\cos\\left(t\\right) e^{t} + 2 \\, e^{t} \\sin\\left(t\\right) - e^{\\left(3 \\, t\\right)}\\right)} x_{03},\\,-\\frac{6}{5} \\, {\\left(\\cos\\left(t\\right) e^{t} + 2 \\, e^{t} \\sin\\left(t\\right) - e^{\\left(3 \\, t\\right)}\\right)} x_{01} + \\frac{1}{5} \\, {\\left(11 \\, \\cos\\left(t\\right) e^{t} + 7 \\, e^{t} \\sin\\left(t\\right) - 6 \\, e^{\\left(3 \\, t\\right)}\\right)} x_{02} - \\frac{1}{5} \\, {\\left(3 \\, \\cos\\left(t\\right) e^{t} + e^{t} \\sin\\left(t\\right) - 3 \\, e^{\\left(3 \\, t\\right)}\\right)} x_{03},\\,-\\frac{6}{5} \\, {\\left(3 \\, \\cos\\left(t\\right) e^{t} + e^{t} \\sin\\left(t\\right) - 3 \\, e^{\\left(3 \\, t\\right)}\\right)} x_{01} + \\frac{2}{5} \\, {\\left(9 \\, \\cos\\left(t\\right) e^{t} - 2 \\, e^{t} \\sin\\left(t\\right) - 9 \\, e^{\\left(3 \\, t\\right)}\\right)} x_{02} - \\frac{1}{5} \\, {\\left(4 \\, \\cos\\left(t\\right) e^{t} - 2 \\, e^{t} \\sin\\left(t\\right) - 9 \\, e^{\\left(3 \\, t\\right)}\\right)} x_{03}\\right)</script></html>"
      ],
      "text/latex": [
       "\\begin{math}\n",
       "\\newcommand{\\Bold}[1]{\\mathbf{#1}}\\left(\\frac{1}{5} \\, {\\left(3 \\, \\cos\\left(t\\right) e^{t} - 9 \\, e^{t} \\sin\\left(t\\right) + 2 \\, e^{\\left(3 \\, t\\right)}\\right)} x_{01} + \\frac{1}{5} \\, {\\left(2 \\, \\cos\\left(t\\right) e^{t} + 9 \\, e^{t} \\sin\\left(t\\right) - 2 \\, e^{\\left(3 \\, t\\right)}\\right)} x_{02} - \\frac{1}{5} \\, {\\left(\\cos\\left(t\\right) e^{t} + 2 \\, e^{t} \\sin\\left(t\\right) - e^{\\left(3 \\, t\\right)}\\right)} x_{03},\\,-\\frac{6}{5} \\, {\\left(\\cos\\left(t\\right) e^{t} + 2 \\, e^{t} \\sin\\left(t\\right) - e^{\\left(3 \\, t\\right)}\\right)} x_{01} + \\frac{1}{5} \\, {\\left(11 \\, \\cos\\left(t\\right) e^{t} + 7 \\, e^{t} \\sin\\left(t\\right) - 6 \\, e^{\\left(3 \\, t\\right)}\\right)} x_{02} - \\frac{1}{5} \\, {\\left(3 \\, \\cos\\left(t\\right) e^{t} + e^{t} \\sin\\left(t\\right) - 3 \\, e^{\\left(3 \\, t\\right)}\\right)} x_{03},\\,-\\frac{6}{5} \\, {\\left(3 \\, \\cos\\left(t\\right) e^{t} + e^{t} \\sin\\left(t\\right) - 3 \\, e^{\\left(3 \\, t\\right)}\\right)} x_{01} + \\frac{2}{5} \\, {\\left(9 \\, \\cos\\left(t\\right) e^{t} - 2 \\, e^{t} \\sin\\left(t\\right) - 9 \\, e^{\\left(3 \\, t\\right)}\\right)} x_{02} - \\frac{1}{5} \\, {\\left(4 \\, \\cos\\left(t\\right) e^{t} - 2 \\, e^{t} \\sin\\left(t\\right) - 9 \\, e^{\\left(3 \\, t\\right)}\\right)} x_{03}\\right)\n",
       "\\end{math}"
      ],
      "text/plain": [
       "(1/5*(3*cos(t)*e^t - 9*e^t*sin(t) + 2*e^(3*t))*x01 + 1/5*(2*cos(t)*e^t + 9*e^t*sin(t) - 2*e^(3*t))*x02 - 1/5*(cos(t)*e^t + 2*e^t*sin(t) - e^(3*t))*x03, -6/5*(cos(t)*e^t + 2*e^t*sin(t) - e^(3*t))*x01 + 1/5*(11*cos(t)*e^t + 7*e^t*sin(t) - 6*e^(3*t))*x02 - 1/5*(3*cos(t)*e^t + e^t*sin(t) - 3*e^(3*t))*x03, -6/5*(3*cos(t)*e^t + e^t*sin(t) - 3*e^(3*t))*x01 + 2/5*(9*cos(t)*e^t - 2*e^t*sin(t) - 9*e^(3*t))*x02 - 1/5*(4*cos(t)*e^t - 2*e^t*sin(t) - 9*e^(3*t))*x03)"
      ]
     },
     "metadata": {},
     "output_type": "display_data"
    }
   ],
   "source": [
    "sol1_homo_final=sol1_homo.subs(k1=solk_1[0][0].rhs(),k2=solk_1[0][1].rhs(),k3=solk_1[0][2].rhs()).simplify_full()\n",
    "show(sol1_homo_final) # solució de l'equaicó homogènia del sistema lineal."
   ]
  },
  {
   "cell_type": "code",
   "execution_count": 18,
   "id": "sharp-casting",
   "metadata": {},
   "outputs": [
    {
     "data": {
      "text/html": [
       "<html><script type=\"math/tex; mode=display\">\\newcommand{\\Bold}[1]{\\mathbf{#1}}\\frac{1}{5} \\, {\\left(3 \\, \\cos\\left(t\\right) e^{t} - 9 \\, e^{t} \\sin\\left(t\\right) + 2 \\, e^{\\left(3 \\, t\\right)}\\right)} x_{01} + \\frac{1}{5} \\, {\\left(2 \\, \\cos\\left(t\\right) e^{t} + 9 \\, e^{t} \\sin\\left(t\\right) - 2 \\, e^{\\left(3 \\, t\\right)}\\right)} x_{02} - \\frac{1}{5} \\, {\\left(\\cos\\left(t\\right) e^{t} + 2 \\, e^{t} \\sin\\left(t\\right) - e^{\\left(3 \\, t\\right)}\\right)} x_{03}</script></html>"
      ],
      "text/latex": [
       "\\begin{math}\n",
       "\\newcommand{\\Bold}[1]{\\mathbf{#1}}\\frac{1}{5} \\, {\\left(3 \\, \\cos\\left(t\\right) e^{t} - 9 \\, e^{t} \\sin\\left(t\\right) + 2 \\, e^{\\left(3 \\, t\\right)}\\right)} x_{01} + \\frac{1}{5} \\, {\\left(2 \\, \\cos\\left(t\\right) e^{t} + 9 \\, e^{t} \\sin\\left(t\\right) - 2 \\, e^{\\left(3 \\, t\\right)}\\right)} x_{02} - \\frac{1}{5} \\, {\\left(\\cos\\left(t\\right) e^{t} + 2 \\, e^{t} \\sin\\left(t\\right) - e^{\\left(3 \\, t\\right)}\\right)} x_{03}\n",
       "\\end{math}"
      ],
      "text/plain": [
       "1/5*(3*cos(t)*e^t - 9*e^t*sin(t) + 2*e^(3*t))*x01 + 1/5*(2*cos(t)*e^t + 9*e^t*sin(t) - 2*e^(3*t))*x02 - 1/5*(cos(t)*e^t + 2*e^t*sin(t) - e^(3*t))*x03"
      ]
     },
     "metadata": {},
     "output_type": "display_data"
    }
   ],
   "source": [
    "show(sol1_homo_final[0]) # solució de l'equació homogènia inicial."
   ]
  },
  {
   "cell_type": "markdown",
   "id": "tough-yukon",
   "metadata": {},
   "source": [
    "##### Apartat e)"
   ]
  },
  {
   "cell_type": "code",
   "execution_count": 19,
   "id": "nervous-wesley",
   "metadata": {},
   "outputs": [],
   "source": [
    "# Sobre les solucions corresponents al sistema lineal homogeni: \n",
    "# si L és un vap real de vep v, aleshores una solució és exp(A*t)v=exp(L*t)v.\n",
    "# si L=a+bi és un vap complex de vep v=u+iw, aleshores dues solucions són Re(exp(A*t)v) = Re(exp((a+bi)*t)*(u+iw))\n",
    "# i Im(exp(A*t)v)=Im(exp((a+bi)*t)*(u+iw))."
   ]
  },
  {
   "cell_type": "code",
   "execution_count": 20,
   "id": "czech-committee",
   "metadata": {},
   "outputs": [],
   "source": [
    "# Per tant, de la solució anterior mirant els coeficients de les exponencials i dels cosinus i sinus, deduïm que\n",
    "# els vaps de A són 3, 1+i i 1-i."
   ]
  },
  {
   "cell_type": "markdown",
   "id": "outer-boring",
   "metadata": {},
   "source": [
    "##### Apartat f)"
   ]
  },
  {
   "cell_type": "code",
   "execution_count": 21,
   "id": "general-fraud",
   "metadata": {},
   "outputs": [
    {
     "data": {
      "text/plain": [
       "t*sin(t)"
      ]
     },
     "execution_count": 21,
     "metadata": {},
     "output_type": "execute_result"
    }
   ],
   "source": [
    "f=t*sin(t)\n",
    "f"
   ]
  },
  {
   "cell_type": "code",
   "execution_count": 22,
   "id": "mysterious-quilt",
   "metadata": {},
   "outputs": [
    {
     "data": {
      "text/plain": [
       "t*cos(t) + sin(t)"
      ]
     },
     "execution_count": 22,
     "metadata": {},
     "output_type": "execute_result"
    }
   ],
   "source": [
    "df1=diff(f,t)\n",
    "df1"
   ]
  },
  {
   "cell_type": "code",
   "execution_count": 23,
   "id": "imposed-emergency",
   "metadata": {},
   "outputs": [],
   "source": [
    "# Com que no podem anul·lar el terme t*sin(t) de f a partir de f1 amb combinacions a coeficients constants,\n",
    "# necessitem una altra derivada."
   ]
  },
  {
   "cell_type": "code",
   "execution_count": 24,
   "id": "consolidated-superintendent",
   "metadata": {},
   "outputs": [
    {
     "data": {
      "text/plain": [
       "-t*sin(t) + 2*cos(t)"
      ]
     },
     "execution_count": 24,
     "metadata": {},
     "output_type": "execute_result"
    }
   ],
   "source": [
    "df2=diff(f,t,2)\n",
    "df2"
   ]
  },
  {
   "cell_type": "code",
   "execution_count": 25,
   "id": "dated-million",
   "metadata": {},
   "outputs": [],
   "source": [
    "# Com que no podem anul·lar el terme t*cos(t) de f1 a partir de f i df2 amb combinacions a coeficients constants, \n",
    "# necessitem una altra derivada."
   ]
  },
  {
   "cell_type": "code",
   "execution_count": 26,
   "id": "automatic-synthetic",
   "metadata": {},
   "outputs": [
    {
     "data": {
      "text/plain": [
       "-t*cos(t) - 3*sin(t)"
      ]
     },
     "execution_count": 26,
     "metadata": {},
     "output_type": "execute_result"
    }
   ],
   "source": [
    "df3=diff(f,t,3)\n",
    "df3"
   ]
  },
  {
   "cell_type": "code",
   "execution_count": 27,
   "id": "harmful-neutral",
   "metadata": {},
   "outputs": [],
   "source": [
    "# Com que no podem anul·lar el terme cos(t) de df2 a partir de f, df1 i df3 amb combinacions a coeficients \n",
    "# constants, necessitem una altra derivada."
   ]
  },
  {
   "cell_type": "code",
   "execution_count": 28,
   "id": "acting-intelligence",
   "metadata": {},
   "outputs": [
    {
     "data": {
      "text/plain": [
       "t*sin(t) - 4*cos(t)"
      ]
     },
     "execution_count": 28,
     "metadata": {},
     "output_type": "execute_result"
    }
   ],
   "source": [
    "df4=diff(f,t,4)\n",
    "df4"
   ]
  },
  {
   "cell_type": "code",
   "execution_count": 29,
   "id": "artificial-hypothesis",
   "metadata": {},
   "outputs": [
    {
     "data": {
      "text/html": [
       "<html><script type=\"math/tex; mode=display\">\\newcommand{\\Bold}[1]{\\mathbf{#1}}{\\left({\\left(a_{1} - a_{3}\\right)} t + 2 \\, a_{2} - 4 \\, a_{4}\\right)} \\cos\\left(t\\right) + {\\left({\\left(a_{0} - a_{2} + a_{4}\\right)} t + a_{1} - 3 \\, a_{3}\\right)} \\sin\\left(t\\right)</script></html>"
      ],
      "text/latex": [
       "\\begin{math}\n",
       "\\newcommand{\\Bold}[1]{\\mathbf{#1}}{\\left({\\left(a_{1} - a_{3}\\right)} t + 2 \\, a_{2} - 4 \\, a_{4}\\right)} \\cos\\left(t\\right) + {\\left({\\left(a_{0} - a_{2} + a_{4}\\right)} t + a_{1} - 3 \\, a_{3}\\right)} \\sin\\left(t\\right)\n",
       "\\end{math}"
      ],
      "text/plain": [
       "((a1 - a3)*t + 2*a2 - 4*a4)*cos(t) + ((a0 - a2 + a4)*t + a1 - 3*a3)*sin(t)"
      ]
     },
     "metadata": {},
     "output_type": "display_data"
    }
   ],
   "source": [
    "# Ara sí que hauríem de poder anul·lar tots els termes entre si a partir d'una combinació lineal entre ells.\n",
    "# Trobem, doncs, aquesta combinació lineal.\n",
    "var('a0 a1 a2 a3 a4')\n",
    "edo1=(a0*f+a1*df1+a2*df2+a3*df3+a4*df4).simplify_full()\n",
    "show(edo1)"
   ]
  },
  {
   "cell_type": "code",
   "execution_count": 30,
   "id": "continued-butler",
   "metadata": {},
   "outputs": [
    {
     "data": {
      "text/plain": [
       "[[a0 == r1, a1 == 0, a2 == 2*r1, a3 == 0, a4 == r1]]"
      ]
     },
     "execution_count": 30,
     "metadata": {},
     "output_type": "execute_result"
    }
   ],
   "source": [
    "# Igualem cada terme de cada funció linealment independent a 0\n",
    "sol_sist1=solve([a1-a3==0,2*a2-4*a4==0,a0-a2+a4==0,a1-3*a3==0],a0, a1, a2, a3, a4)\n",
    "sol_sist1"
   ]
  },
  {
   "cell_type": "code",
   "execution_count": 31,
   "id": "deluxe-amino",
   "metadata": {},
   "outputs": [
    {
     "data": {
      "text/plain": [
       "0"
      ]
     },
     "execution_count": 31,
     "metadata": {},
     "output_type": "execute_result"
    }
   ],
   "source": [
    "# Si el paràmetre lliure l'igualem a 1, obtenim a0=1, a1=0, a2=2, a3=0 i a4=1. Per tant, la edo que satifà t*sin(t)\n",
    "# és y+2*y''+y^(4)=0.\n",
    "# Comprovem-ho:\n",
    "f+2*diff(f,t,2)+diff(f,t,4)"
   ]
  },
  {
   "cell_type": "markdown",
   "id": "connected-subscriber",
   "metadata": {},
   "source": [
    "##### Apartat g)"
   ]
  },
  {
   "cell_type": "code",
   "execution_count": 32,
   "id": "registered-leadership",
   "metadata": {},
   "outputs": [],
   "source": [
    "# Si anomenem y=t*sin(t) tenim que per l'apartat f), y+2*y''+y^(4)=0. Ara volem resoldre l'equació: \n",
    "# x'''-5*x''+ 8*x'-6*x=y. Derivant dues i quatre vegades obtenim:"
   ]
  },
  {
   "cell_type": "code",
   "execution_count": 33,
   "id": "talented-keyboard",
   "metadata": {},
   "outputs": [],
   "source": [
    "y=function('y')(t)"
   ]
  },
  {
   "cell_type": "code",
   "execution_count": 34,
   "id": "contrary-campaign",
   "metadata": {},
   "outputs": [],
   "source": [
    "h1=diff(x,t,3)-5*diff(x,t,2)+ 8*diff(x,t)-6*x==y"
   ]
  },
  {
   "cell_type": "code",
   "execution_count": 35,
   "id": "informed-manchester",
   "metadata": {},
   "outputs": [
    {
     "data": {
      "text/plain": [
       "-6*diff(x(t), t, t) + 8*diff(x(t), t, t, t) - 5*diff(x(t), t, t, t, t) + diff(x(t), t, t, t, t, t) == diff(y(t), t, t)"
      ]
     },
     "execution_count": 35,
     "metadata": {},
     "output_type": "execute_result"
    }
   ],
   "source": [
    "dh12=diff(h1,t,2)\n",
    "dh12"
   ]
  },
  {
   "cell_type": "code",
   "execution_count": 36,
   "id": "floating-vertical",
   "metadata": {},
   "outputs": [
    {
     "data": {
      "text/plain": [
       "-6*diff(x(t), t, t, t, t) + 8*diff(x(t), t, t, t, t, t) - 5*diff(x(t), t, t, t, t, t, t) + diff(x(t), t, t, t, t, t, t, t) == diff(y(t), t, t, t, t)"
      ]
     },
     "execution_count": 36,
     "metadata": {},
     "output_type": "execute_result"
    }
   ],
   "source": [
    "dh14=diff(h1,t,4)\n",
    "dh14"
   ]
  },
  {
   "cell_type": "code",
   "execution_count": 37,
   "id": "stuck-heath",
   "metadata": {},
   "outputs": [
    {
     "data": {
      "text/html": [
       "<html><script type=\"math/tex; mode=display\">\\newcommand{\\Bold}[1]{\\mathbf{#1}}-6 \\, x\\left(t\\right) + 8 \\, \\frac{\\partial}{\\partial t}x\\left(t\\right) - 17 \\, \\frac{\\partial^{2}}{(\\partial t)^{2}}x\\left(t\\right) + 17 \\, \\frac{\\partial^{3}}{(\\partial t)^{3}}x\\left(t\\right) - 16 \\, \\frac{\\partial^{4}}{(\\partial t)^{4}}x\\left(t\\right) + 10 \\, \\frac{\\partial^{5}}{(\\partial t)^{5}}x\\left(t\\right) - 5 \\, \\frac{\\partial^{6}}{(\\partial t)^{6}}x\\left(t\\right) + \\frac{\\partial^{7}}{(\\partial t)^{7}}x\\left(t\\right) = 0</script></html>"
      ],
      "text/latex": [
       "\\begin{math}\n",
       "\\newcommand{\\Bold}[1]{\\mathbf{#1}}-6 \\, x\\left(t\\right) + 8 \\, \\frac{\\partial}{\\partial t}x\\left(t\\right) - 17 \\, \\frac{\\partial^{2}}{(\\partial t)^{2}}x\\left(t\\right) + 17 \\, \\frac{\\partial^{3}}{(\\partial t)^{3}}x\\left(t\\right) - 16 \\, \\frac{\\partial^{4}}{(\\partial t)^{4}}x\\left(t\\right) + 10 \\, \\frac{\\partial^{5}}{(\\partial t)^{5}}x\\left(t\\right) - 5 \\, \\frac{\\partial^{6}}{(\\partial t)^{6}}x\\left(t\\right) + \\frac{\\partial^{7}}{(\\partial t)^{7}}x\\left(t\\right) = 0\n",
       "\\end{math}"
      ],
      "text/plain": [
       "-6*x(t) + 8*diff(x(t), t) - 17*diff(x(t), t, t) + 17*diff(x(t), t, t, t) - 16*diff(x(t), t, t, t, t) + 10*diff(x(t), t, t, t, t, t) - 5*diff(x(t), t, t, t, t, t, t) + diff(x(t), t, t, t, t, t, t, t) == 0"
      ]
     },
     "metadata": {},
     "output_type": "display_data"
    }
   ],
   "source": [
    "# Sumant les equacions ponderant-les de tal manera que s'anulin els termes en y, obtenim:\n",
    "show((h1+2*dh12+dh14).subs(diff(y,t,4)+2*diff(y,t,2)+y==0))"
   ]
  },
  {
   "cell_type": "code",
   "execution_count": 38,
   "id": "robust-atmosphere",
   "metadata": {},
   "outputs": [
    {
     "data": {
      "text/plain": [
       "[  0   1   0   0   0   0   0]\n",
       "[  0   0   1   0   0   0   0]\n",
       "[  0   0   0   1   0   0   0]\n",
       "[  0   0   0   0   1   0   0]\n",
       "[  0   0   0   0   0   1   0]\n",
       "[  0   0   0   0   0   0   1]\n",
       "[  6  -8  17 -17  16 -10   5]"
      ]
     },
     "execution_count": 38,
     "metadata": {},
     "output_type": "execute_result"
    }
   ],
   "source": [
    "# que és un equació diferencial d'ordre 7. Resolem-la:\n",
    "# Matriu del sistema lineal associat:\n",
    "A2=matrix(QQ[I],7,[0,1,0,0,0,0,0,\n",
    "                   0,0,1,0,0,0,0,\n",
    "                   0,0,0,1,0,0,0,\n",
    "                   0,0,0,0,1,0,0,\n",
    "                   0,0,0,0,0,1,0,\n",
    "                   0,0,0,0,0,0,1,\n",
    "                   6,-8,17,-17,16,-10,5])\n",
    "A2"
   ]
  },
  {
   "cell_type": "code",
   "execution_count": 39,
   "id": "contained-passport",
   "metadata": {},
   "outputs": [
    {
     "data": {
      "text/plain": [
       "[3, I + 1, -I + 1, I, I, -I, -I]"
      ]
     },
     "execution_count": 39,
     "metadata": {},
     "output_type": "execute_result"
    }
   ],
   "source": [
    "vaps2=A2.eigenvalues()\n",
    "vaps2"
   ]
  },
  {
   "cell_type": "code",
   "execution_count": 40,
   "id": "optical-scholarship",
   "metadata": {},
   "outputs": [
    {
     "data": {
      "text/plain": [
       "[(3,\n",
       "  [\n",
       "  (1, 3, 9, 27, 81, 243, 729)\n",
       "  ],\n",
       "  1),\n",
       " (I + 1,\n",
       "  [\n",
       "  (1, I + 1, 2*I, 2*I - 2, -4, -4*I - 4, -8*I)\n",
       "  ],\n",
       "  1),\n",
       " (-I + 1,\n",
       "  [\n",
       "  (1, -I + 1, -2*I, -2*I - 2, -4, 4*I - 4, 8*I)\n",
       "  ],\n",
       "  1),\n",
       " (I,\n",
       "  [\n",
       "  (1, I, -1, -I, 1, I, -1)\n",
       "  ],\n",
       "  2),\n",
       " (-I,\n",
       "  [\n",
       "  (1, -I, -1, I, 1, -I, -1)\n",
       "  ],\n",
       "  2)]"
      ]
     },
     "execution_count": 40,
     "metadata": {},
     "output_type": "execute_result"
    }
   ],
   "source": [
    "veps2=A2.eigenvectors_right()\n",
    "veps2"
   ]
  },
  {
   "cell_type": "code",
   "execution_count": 41,
   "id": "nonprofit-comment",
   "metadata": {},
   "outputs": [],
   "source": [
    "v1=veps2[0][1][0] # vep de vap 3\n",
    "v2=veps2[1][1][0] # vep de vap I+1\n",
    "v3=veps2[2][1][0] # vep de vap I-1\n",
    "v4=veps2[3][1][0] # vep de vap I\n",
    "v5=(A2-vaps2[4]*identity_matrix(7)).solve_right(v4) # vep generalitzat de vap I\n",
    "v6=veps2[4][1][0] # vep de vap -I\n",
    "v7=(A2-vaps2[6]*identity_matrix(7)).solve_right(v6) # vep generalitzat de vap -I"
   ]
  },
  {
   "cell_type": "code",
   "execution_count": 42,
   "id": "official-calculation",
   "metadata": {},
   "outputs": [
    {
     "data": {
      "text/plain": [
       "[       1        1        1        1      6*I        1     -6*I]\n",
       "[       3    I + 1   -I + 1        I       -5       -I       -5]\n",
       "[       9      2*I     -2*I       -1     -4*I       -1      4*I]\n",
       "[      27  2*I - 2 -2*I - 2       -I        3        I        3]\n",
       "[      81       -4       -4        1      2*I        1     -2*I]\n",
       "[     243 -4*I - 4  4*I - 4        I       -1       -I       -1]\n",
       "[     729     -8*I      8*I       -1        0       -1        0]"
      ]
     },
     "execution_count": 42,
     "metadata": {},
     "output_type": "execute_result"
    }
   ],
   "source": [
    "# matriu de canvi de base de la base de veps (v1,...,v7) a la base canònica\n",
    "B2=matrix(7,[v1,v2,v3,v4,v5,v6,v7]).transpose()\n",
    "B2"
   ]
  },
  {
   "cell_type": "code",
   "execution_count": 43,
   "id": "weekly-copying",
   "metadata": {
    "scrolled": true
   },
   "outputs": [
    {
     "data": {
      "text/plain": [
       "[     3      0      0      0      0      0      0]\n",
       "[     0  I + 1      0      0      0      0      0]\n",
       "[     0      0 -I + 1      0      0      0      0]\n",
       "[     0      0      0      I      1      0      0]\n",
       "[     0      0      0      0      I      0      0]\n",
       "[     0      0      0      0      0     -I      1]\n",
       "[     0      0      0      0      0      0     -I]"
      ]
     },
     "execution_count": 43,
     "metadata": {},
     "output_type": "execute_result"
    }
   ],
   "source": [
    "# matriu de Jordan\n",
    "B2^(-1)*A2*B2"
   ]
  },
  {
   "cell_type": "code",
   "execution_count": 44,
   "id": "persistent-cleanup",
   "metadata": {},
   "outputs": [
    {
     "data": {
      "text/plain": [
       "[k1*e^(3*t), k2*e^((I + 1)*t), k3*e^(-(I - 1)*t), k5*e^(I*t), k7*e^(-I*t)]"
      ]
     },
     "execution_count": 44,
     "metadata": {},
     "output_type": "execute_result"
    }
   ],
   "source": [
    "# resolem ara les edos trivials que resulten:\n",
    "var('k1 k2 k3 k4 k5 k6 k7') # condicions inicials\n",
    "s2=[]\n",
    "const=[k1, k2, k3, k4, k5, k6, k7]\n",
    "for i in [0,1,2,4,6]:\n",
    "    s2.append(desolve(diff(x,t)==vaps2[i]*x,x,ivar=t).subs(_C=const[i]))\n",
    "s2"
   ]
  },
  {
   "cell_type": "code",
   "execution_count": 45,
   "id": "unavailable-august",
   "metadata": {},
   "outputs": [
    {
     "name": "stdout",
     "output_type": "stream",
     "text": [
      "(k5*t + k4)*e^(I*t) , (k7*t + k6)*e^(-I*t)\n"
     ]
    }
   ],
   "source": [
    "# i ara les edos corresponents als blocs de Jordan de mida 2:\n",
    "sol4=desolve(diff(x,t)==vaps2[4]*x+s2[3],x,ivar=t).subs(_C=k4)\n",
    "sol6=desolve(diff(x,t)==vaps2[6]*x+s2[4],x,ivar=t).subs(_C=k6)\n",
    "print(sol4,',',sol6)"
   ]
  },
  {
   "cell_type": "code",
   "execution_count": 46,
   "id": "separated-islam",
   "metadata": {},
   "outputs": [
    {
     "data": {
      "text/plain": [
       "(k1*e^(3*t), k2*e^((I + 1)*t), k3*e^(-(I - 1)*t), (k5*t + k4)*e^(I*t), k5*e^(I*t), (k7*t + k6)*e^(-I*t), k7*e^(-I*t))"
      ]
     },
     "execution_count": 46,
     "metadata": {},
     "output_type": "execute_result"
    }
   ],
   "source": [
    "# solució de l'equació diferencial del sistema lineal associat en la base de veps.\n",
    "sol_homo2=vector([s2[0],s2[1],s2[2],sol4,s2[3],sol6,s2[4]])\n",
    "sol_homo2"
   ]
  },
  {
   "cell_type": "code",
   "execution_count": 47,
   "id": "rural-latino",
   "metadata": {
    "scrolled": true
   },
   "outputs": [
    {
     "data": {
      "text/html": [
       "<html><script type=\"math/tex; mode=display\">\\newcommand{\\Bold}[1]{\\mathbf{#1}}\\left(k_{1} e^{\\left(3 \\, t\\right)} + k_{2} e^{\\left(\\left(i + 1\\right) \\, t\\right)} + k_{3} e^{\\left(-\\left(i - 1\\right) \\, t\\right)} + {\\left(k_{5} t + k_{4}\\right)} e^{\\left(i \\, t\\right)} + 6 i \\, k_{5} e^{\\left(i \\, t\\right)} + {\\left(k_{7} t + k_{6}\\right)} e^{\\left(-i \\, t\\right)} - 6 i \\, k_{7} e^{\\left(-i \\, t\\right)},\\,3 \\, k_{1} e^{\\left(3 \\, t\\right)} + \\left(i + 1\\right) \\, k_{2} e^{\\left(\\left(i + 1\\right) \\, t\\right)} - \\left(i - 1\\right) \\, k_{3} e^{\\left(-\\left(i - 1\\right) \\, t\\right)} + i \\, {\\left(k_{5} t + k_{4}\\right)} e^{\\left(i \\, t\\right)} - 5 \\, k_{5} e^{\\left(i \\, t\\right)} - i \\, {\\left(k_{7} t + k_{6}\\right)} e^{\\left(-i \\, t\\right)} - 5 \\, k_{7} e^{\\left(-i \\, t\\right)},\\,9 \\, k_{1} e^{\\left(3 \\, t\\right)} + 2 i \\, k_{2} e^{\\left(\\left(i + 1\\right) \\, t\\right)} - 2 i \\, k_{3} e^{\\left(-\\left(i - 1\\right) \\, t\\right)} - {\\left(k_{5} t + k_{4}\\right)} e^{\\left(i \\, t\\right)} - 4 i \\, k_{5} e^{\\left(i \\, t\\right)} - {\\left(k_{7} t + k_{6}\\right)} e^{\\left(-i \\, t\\right)} + 4 i \\, k_{7} e^{\\left(-i \\, t\\right)},\\,27 \\, k_{1} e^{\\left(3 \\, t\\right)} + \\left(2 i - 2\\right) \\, k_{2} e^{\\left(\\left(i + 1\\right) \\, t\\right)} - \\left(2 i + 2\\right) \\, k_{3} e^{\\left(-\\left(i - 1\\right) \\, t\\right)} - i \\, {\\left(k_{5} t + k_{4}\\right)} e^{\\left(i \\, t\\right)} + 3 \\, k_{5} e^{\\left(i \\, t\\right)} + i \\, {\\left(k_{7} t + k_{6}\\right)} e^{\\left(-i \\, t\\right)} + 3 \\, k_{7} e^{\\left(-i \\, t\\right)},\\,81 \\, k_{1} e^{\\left(3 \\, t\\right)} - 4 \\, k_{2} e^{\\left(\\left(i + 1\\right) \\, t\\right)} - 4 \\, k_{3} e^{\\left(-\\left(i - 1\\right) \\, t\\right)} + {\\left(k_{5} t + k_{4}\\right)} e^{\\left(i \\, t\\right)} + 2 i \\, k_{5} e^{\\left(i \\, t\\right)} + {\\left(k_{7} t + k_{6}\\right)} e^{\\left(-i \\, t\\right)} - 2 i \\, k_{7} e^{\\left(-i \\, t\\right)},\\,243 \\, k_{1} e^{\\left(3 \\, t\\right)} - \\left(4 i + 4\\right) \\, k_{2} e^{\\left(\\left(i + 1\\right) \\, t\\right)} + \\left(4 i - 4\\right) \\, k_{3} e^{\\left(-\\left(i - 1\\right) \\, t\\right)} + i \\, {\\left(k_{5} t + k_{4}\\right)} e^{\\left(i \\, t\\right)} - k_{5} e^{\\left(i \\, t\\right)} - i \\, {\\left(k_{7} t + k_{6}\\right)} e^{\\left(-i \\, t\\right)} - k_{7} e^{\\left(-i \\, t\\right)},\\,729 \\, k_{1} e^{\\left(3 \\, t\\right)} - 8 i \\, k_{2} e^{\\left(\\left(i + 1\\right) \\, t\\right)} + 8 i \\, k_{3} e^{\\left(-\\left(i - 1\\right) \\, t\\right)} - {\\left(k_{5} t + k_{4}\\right)} e^{\\left(i \\, t\\right)} - {\\left(k_{7} t + k_{6}\\right)} e^{\\left(-i \\, t\\right)}\\right)</script></html>"
      ],
      "text/latex": [
       "\\begin{math}\n",
       "\\newcommand{\\Bold}[1]{\\mathbf{#1}}\\left(k_{1} e^{\\left(3 \\, t\\right)} + k_{2} e^{\\left(\\left(i + 1\\right) \\, t\\right)} + k_{3} e^{\\left(-\\left(i - 1\\right) \\, t\\right)} + {\\left(k_{5} t + k_{4}\\right)} e^{\\left(i \\, t\\right)} + 6 i \\, k_{5} e^{\\left(i \\, t\\right)} + {\\left(k_{7} t + k_{6}\\right)} e^{\\left(-i \\, t\\right)} - 6 i \\, k_{7} e^{\\left(-i \\, t\\right)},\\,3 \\, k_{1} e^{\\left(3 \\, t\\right)} + \\left(i + 1\\right) \\, k_{2} e^{\\left(\\left(i + 1\\right) \\, t\\right)} - \\left(i - 1\\right) \\, k_{3} e^{\\left(-\\left(i - 1\\right) \\, t\\right)} + i \\, {\\left(k_{5} t + k_{4}\\right)} e^{\\left(i \\, t\\right)} - 5 \\, k_{5} e^{\\left(i \\, t\\right)} - i \\, {\\left(k_{7} t + k_{6}\\right)} e^{\\left(-i \\, t\\right)} - 5 \\, k_{7} e^{\\left(-i \\, t\\right)},\\,9 \\, k_{1} e^{\\left(3 \\, t\\right)} + 2 i \\, k_{2} e^{\\left(\\left(i + 1\\right) \\, t\\right)} - 2 i \\, k_{3} e^{\\left(-\\left(i - 1\\right) \\, t\\right)} - {\\left(k_{5} t + k_{4}\\right)} e^{\\left(i \\, t\\right)} - 4 i \\, k_{5} e^{\\left(i \\, t\\right)} - {\\left(k_{7} t + k_{6}\\right)} e^{\\left(-i \\, t\\right)} + 4 i \\, k_{7} e^{\\left(-i \\, t\\right)},\\,27 \\, k_{1} e^{\\left(3 \\, t\\right)} + \\left(2 i - 2\\right) \\, k_{2} e^{\\left(\\left(i + 1\\right) \\, t\\right)} - \\left(2 i + 2\\right) \\, k_{3} e^{\\left(-\\left(i - 1\\right) \\, t\\right)} - i \\, {\\left(k_{5} t + k_{4}\\right)} e^{\\left(i \\, t\\right)} + 3 \\, k_{5} e^{\\left(i \\, t\\right)} + i \\, {\\left(k_{7} t + k_{6}\\right)} e^{\\left(-i \\, t\\right)} + 3 \\, k_{7} e^{\\left(-i \\, t\\right)},\\,81 \\, k_{1} e^{\\left(3 \\, t\\right)} - 4 \\, k_{2} e^{\\left(\\left(i + 1\\right) \\, t\\right)} - 4 \\, k_{3} e^{\\left(-\\left(i - 1\\right) \\, t\\right)} + {\\left(k_{5} t + k_{4}\\right)} e^{\\left(i \\, t\\right)} + 2 i \\, k_{5} e^{\\left(i \\, t\\right)} + {\\left(k_{7} t + k_{6}\\right)} e^{\\left(-i \\, t\\right)} - 2 i \\, k_{7} e^{\\left(-i \\, t\\right)},\\,243 \\, k_{1} e^{\\left(3 \\, t\\right)} - \\left(4 i + 4\\right) \\, k_{2} e^{\\left(\\left(i + 1\\right) \\, t\\right)} + \\left(4 i - 4\\right) \\, k_{3} e^{\\left(-\\left(i - 1\\right) \\, t\\right)} + i \\, {\\left(k_{5} t + k_{4}\\right)} e^{\\left(i \\, t\\right)} - k_{5} e^{\\left(i \\, t\\right)} - i \\, {\\left(k_{7} t + k_{6}\\right)} e^{\\left(-i \\, t\\right)} - k_{7} e^{\\left(-i \\, t\\right)},\\,729 \\, k_{1} e^{\\left(3 \\, t\\right)} - 8 i \\, k_{2} e^{\\left(\\left(i + 1\\right) \\, t\\right)} + 8 i \\, k_{3} e^{\\left(-\\left(i - 1\\right) \\, t\\right)} - {\\left(k_{5} t + k_{4}\\right)} e^{\\left(i \\, t\\right)} - {\\left(k_{7} t + k_{6}\\right)} e^{\\left(-i \\, t\\right)}\\right)\n",
       "\\end{math}"
      ],
      "text/plain": [
       "(k1*e^(3*t) + k2*e^((I + 1)*t) + k3*e^(-(I - 1)*t) + (k5*t + k4)*e^(I*t) + 6*I*k5*e^(I*t) + (k7*t + k6)*e^(-I*t) - 6*I*k7*e^(-I*t), 3*k1*e^(3*t) + (I + 1)*k2*e^((I + 1)*t) - (I - 1)*k3*e^(-(I - 1)*t) + I*(k5*t + k4)*e^(I*t) - 5*k5*e^(I*t) - I*(k7*t + k6)*e^(-I*t) - 5*k7*e^(-I*t), 9*k1*e^(3*t) + 2*I*k2*e^((I + 1)*t) - 2*I*k3*e^(-(I - 1)*t) - (k5*t + k4)*e^(I*t) - 4*I*k5*e^(I*t) - (k7*t + k6)*e^(-I*t) + 4*I*k7*e^(-I*t), 27*k1*e^(3*t) + (2*I - 2)*k2*e^((I + 1)*t) - (2*I + 2)*k3*e^(-(I - 1)*t) - I*(k5*t + k4)*e^(I*t) + 3*k5*e^(I*t) + I*(k7*t + k6)*e^(-I*t) + 3*k7*e^(-I*t), 81*k1*e^(3*t) - 4*k2*e^((I + 1)*t) - 4*k3*e^(-(I - 1)*t) + (k5*t + k4)*e^(I*t) + 2*I*k5*e^(I*t) + (k7*t + k6)*e^(-I*t) - 2*I*k7*e^(-I*t), 243*k1*e^(3*t) - (4*I + 4)*k2*e^((I + 1)*t) + (4*I - 4)*k3*e^(-(I - 1)*t) + I*(k5*t + k4)*e^(I*t) - k5*e^(I*t) - I*(k7*t + k6)*e^(-I*t) - k7*e^(-I*t), 729*k1*e^(3*t) - 8*I*k2*e^((I + 1)*t) + 8*I*k3*e^(-(I - 1)*t) - (k5*t + k4)*e^(I*t) - (k7*t + k6)*e^(-I*t))"
      ]
     },
     "metadata": {},
     "output_type": "display_data"
    }
   ],
   "source": [
    "# solució de l'equació diferencial del sistema lineal associat en la base canònica.\n",
    "sol2_homo=B2*sol_homo2\n",
    "show(sol2_homo)"
   ]
  },
  {
   "cell_type": "code",
   "execution_count": 48,
   "id": "million-jerusalem",
   "metadata": {},
   "outputs": [
    {
     "name": "stdout",
     "output_type": "stream",
     "text": [
      "0\n",
      "0\n",
      "0\n",
      "0\n",
      "0\n",
      "0\n",
      "0\n"
     ]
    }
   ],
   "source": [
    "# Comprovem que haguem fet bé els càlculs\n",
    "for i in range(0,6):\n",
    "    print(diff(sol2_homo[i],t)-sol2_homo[i+1])\n",
    "print(diff(sol2_homo[6],t)- (6*sol2_homo[0]  -8*sol2_homo[1]  +17*sol2_homo[2] -17*sol2_homo[3]+16*sol2_homo[4] -10*sol2_homo[5]+5*sol2_homo[6]))"
   ]
  },
  {
   "cell_type": "code",
   "execution_count": 49,
   "id": "automated-hydrogen",
   "metadata": {},
   "outputs": [
    {
     "data": {
      "text/html": [
       "<html><script type=\"math/tex; mode=display\">\\newcommand{\\Bold}[1]{\\mathbf{#1}}k_{1} e^{\\left(3 \\, t\\right)} + k_{2} e^{\\left(\\left(i + 1\\right) \\, t\\right)} + k_{3} e^{\\left(-\\left(i - 1\\right) \\, t\\right)} + {\\left(k_{5} t + k_{4}\\right)} e^{\\left(i \\, t\\right)} + 6 i \\, k_{5} e^{\\left(i \\, t\\right)} + {\\left(k_{7} t + k_{6}\\right)} e^{\\left(-i \\, t\\right)} - 6 i \\, k_{7} e^{\\left(-i \\, t\\right)}</script></html>"
      ],
      "text/latex": [
       "\\begin{math}\n",
       "\\newcommand{\\Bold}[1]{\\mathbf{#1}}k_{1} e^{\\left(3 \\, t\\right)} + k_{2} e^{\\left(\\left(i + 1\\right) \\, t\\right)} + k_{3} e^{\\left(-\\left(i - 1\\right) \\, t\\right)} + {\\left(k_{5} t + k_{4}\\right)} e^{\\left(i \\, t\\right)} + 6 i \\, k_{5} e^{\\left(i \\, t\\right)} + {\\left(k_{7} t + k_{6}\\right)} e^{\\left(-i \\, t\\right)} - 6 i \\, k_{7} e^{\\left(-i \\, t\\right)}\n",
       "\\end{math}"
      ],
      "text/plain": [
       "k1*e^(3*t) + k2*e^((I + 1)*t) + k3*e^(-(I - 1)*t) + (k5*t + k4)*e^(I*t) + 6*I*k5*e^(I*t) + (k7*t + k6)*e^(-I*t) - 6*I*k7*e^(-I*t)"
      ]
     },
     "metadata": {},
     "output_type": "display_data"
    }
   ],
   "source": [
    "show(sol2_homo[0]) # solució de l'equació diferencial que ens demanàven."
   ]
  },
  {
   "cell_type": "code",
   "execution_count": 50,
   "id": "minor-cyprus",
   "metadata": {},
   "outputs": [
    {
     "name": "stdout",
     "output_type": "stream",
     "text": [
      "0\n",
      "0\n",
      "2\n",
      "0\n"
     ]
    }
   ],
   "source": [
    "# Però tenim 7 condicions inicials en un problema d'una equació diferencial d'ordre 3. Falta imposar les \n",
    "# condicions per a y!\n",
    "# Observem que:\n",
    "print(f(0))\n",
    "print(df1(0))\n",
    "print(df2(0))\n",
    "print(df3(0))"
   ]
  },
  {
   "cell_type": "code",
   "execution_count": 51,
   "id": "protective-cattle",
   "metadata": {},
   "outputs": [
    {
     "data": {
      "text/plain": [
       "(7*I - 1)*(k5*t + k4)*e^(I*t) - (16*I + 37)*k5*e^(I*t) - (7*I + 1)*(k7*t + k6)*e^(-I*t) + (16*I - 37)*k7*e^(-I*t)"
      ]
     },
     "execution_count": 51,
     "metadata": {},
     "output_type": "execute_result"
    }
   ],
   "source": [
    "# part esquerra de la edo havent subtituit la solució trobada prèviament.\n",
    "H=sol2_homo[3]-5*sol2_homo[2]+8*sol2_homo[1]-6*sol2_homo[0]\n",
    "H"
   ]
  },
  {
   "cell_type": "code",
   "execution_count": 52,
   "id": "comfortable-offense",
   "metadata": {},
   "outputs": [
    {
     "data": {
      "text/plain": [
       "[[k4 == (2/5*I - 1/20), k5 == (1/100*I - 7/100), k6 == (-2/5*I - 1/20), k7 == (-1/100*I - 7/100)]]"
      ]
     },
     "execution_count": 52,
     "metadata": {},
     "output_type": "execute_result"
    }
   ],
   "source": [
    "# trobem els coeficients k4, k5, k6 i k7 imposant les condicions incials de y.\n",
    "solk1_2=solve([H(t=0)==f(0),diff(H,t)(t=0)==df1(0),diff(H,t,2)(t=0)==df2(0),diff(H,t,3)(t=0)==df3(0)],k4,k5,k6,k7)\n",
    "solk1_2"
   ]
  },
  {
   "cell_type": "code",
   "execution_count": 53,
   "id": "motivated-subsection",
   "metadata": {},
   "outputs": [
    {
     "data": {
      "text/plain": [
       "k1*e^(3*t) + k2*e^((I + 1)*t) + k3*e^(-(I - 1)*t) - 1/100*(-(I - 7)*t - 40*I + 5)*e^(I*t) - 1/100*((I + 7)*t + 40*I + 5)*e^(-I*t) - (21/50*I + 3/50)*e^(I*t) + (21/50*I - 3/50)*e^(-I*t)"
      ]
     },
     "execution_count": 53,
     "metadata": {},
     "output_type": "execute_result"
    }
   ],
   "source": [
    "# solució de l'equació que ens demanàven havent substituit els coeficients k4, k5, k6 i k7 que hem trobat\n",
    "# anteriorment.\n",
    "sol2_genk=sol2_homo[0].subs(k4=solk1_2[0][0].rhs(),k5=solk1_2[0][1].rhs(),k6=solk1_2[0][2].rhs(),k7=solk1_2[0][3].rhs())\n",
    "sol2_genk"
   ]
  },
  {
   "cell_type": "code",
   "execution_count": 54,
   "id": "canadian-island",
   "metadata": {},
   "outputs": [
    {
     "data": {
      "text/plain": [
       "[[k1 == 2/5*x01 - 2/5*x02 + 1/5*x03 + 3/250, k2 == (9/10*I + 3/10)*x01 - (9/10*I - 1/5)*x02 + (1/5*I - 1/10)*x03 + 9/125*I + 13/125, k3 == -(9/10*I - 3/10)*x01 + (9/10*I + 1/5)*x02 - (1/5*I + 1/10)*x03 - 9/125*I + 13/125]]"
      ]
     },
     "execution_count": 54,
     "metadata": {},
     "output_type": "execute_result"
    }
   ],
   "source": [
    "# Imposem condicions inicials: x(0)=x01, x'(0)=x02, x''(0)=x03, on x01, x02 i x03 són valors reals.\n",
    "solk2_2=solve([sol2_genk(t=0)==x01,diff(sol2_genk,t)(t=0)==x02,diff(sol2_genk,t,2)(t=0)==x03],k1,k2,k3)\n",
    "solk2_2"
   ]
  },
  {
   "cell_type": "code",
   "execution_count": 55,
   "id": "changing-exhaust",
   "metadata": {},
   "outputs": [
    {
     "data": {
      "text/html": [
       "<html><script type=\"math/tex; mode=display\">\\newcommand{\\Bold}[1]{\\mathbf{#1}}\\frac{1}{5} \\, {\\left(3 \\, \\cos\\left(t\\right) e^{t} - 9 \\, e^{t} \\sin\\left(t\\right) + 2 \\, e^{\\left(3 \\, t\\right)}\\right)} x_{01} + \\frac{1}{5} \\, {\\left(2 \\, \\cos\\left(t\\right) e^{t} + 9 \\, e^{t} \\sin\\left(t\\right) - 2 \\, e^{\\left(3 \\, t\\right)}\\right)} x_{02} - \\frac{1}{5} \\, {\\left(\\cos\\left(t\\right) e^{t} + 2 \\, e^{t} \\sin\\left(t\\right) - e^{\\left(3 \\, t\\right)}\\right)} x_{03} - \\frac{1}{250} \\, {\\left(35 \\, t - 52 \\, e^{t} + 55\\right)} \\cos\\left(t\\right) - \\frac{1}{250} \\, {\\left(5 \\, t + 36 \\, e^{t} - 10\\right)} \\sin\\left(t\\right) + \\frac{3}{250} \\, e^{\\left(3 \\, t\\right)}</script></html>"
      ],
      "text/latex": [
       "\\begin{math}\n",
       "\\newcommand{\\Bold}[1]{\\mathbf{#1}}\\frac{1}{5} \\, {\\left(3 \\, \\cos\\left(t\\right) e^{t} - 9 \\, e^{t} \\sin\\left(t\\right) + 2 \\, e^{\\left(3 \\, t\\right)}\\right)} x_{01} + \\frac{1}{5} \\, {\\left(2 \\, \\cos\\left(t\\right) e^{t} + 9 \\, e^{t} \\sin\\left(t\\right) - 2 \\, e^{\\left(3 \\, t\\right)}\\right)} x_{02} - \\frac{1}{5} \\, {\\left(\\cos\\left(t\\right) e^{t} + 2 \\, e^{t} \\sin\\left(t\\right) - e^{\\left(3 \\, t\\right)}\\right)} x_{03} - \\frac{1}{250} \\, {\\left(35 \\, t - 52 \\, e^{t} + 55\\right)} \\cos\\left(t\\right) - \\frac{1}{250} \\, {\\left(5 \\, t + 36 \\, e^{t} - 10\\right)} \\sin\\left(t\\right) + \\frac{3}{250} \\, e^{\\left(3 \\, t\\right)}\n",
       "\\end{math}"
      ],
      "text/plain": [
       "1/5*(3*cos(t)*e^t - 9*e^t*sin(t) + 2*e^(3*t))*x01 + 1/5*(2*cos(t)*e^t + 9*e^t*sin(t) - 2*e^(3*t))*x02 - 1/5*(cos(t)*e^t + 2*e^t*sin(t) - e^(3*t))*x03 - 1/250*(35*t - 52*e^t + 55)*cos(t) - 1/250*(5*t + 36*e^t - 10)*sin(t) + 3/250*e^(3*t)"
      ]
     },
     "metadata": {},
     "output_type": "display_data"
    }
   ],
   "source": [
    "# substituim els valors de les k's que ens faltàven\n",
    "sol2_final=sol2_genk.subs(k1=solk2_2[0][0].rhs(),k2=solk2_2[0][1].rhs(),k3=solk2_2[0][2].rhs()).simplify_full()\n",
    "show(sol2_final)"
   ]
  },
  {
   "cell_type": "code",
   "execution_count": 56,
   "id": "silent-pierre",
   "metadata": {},
   "outputs": [
    {
     "data": {
      "text/plain": [
       "t*sin(t)"
      ]
     },
     "execution_count": 56,
     "metadata": {},
     "output_type": "execute_result"
    }
   ],
   "source": [
    "# comprovem, efectivament, que és solució:\n",
    "(diff(sol2_final,t,3)-5*diff(sol2_final,t,2)+8*diff(sol2_final,t)-6*sol2_final).simplify_full()"
   ]
  },
  {
   "cell_type": "markdown",
   "id": "therapeutic-gasoline",
   "metadata": {},
   "source": [
    "##### Apartat h)"
   ]
  },
  {
   "cell_type": "code",
   "execution_count": 57,
   "id": "correct-client",
   "metadata": {},
   "outputs": [
    {
     "data": {
      "text/plain": [
       "cos(t)*e^t"
      ]
     },
     "execution_count": 57,
     "metadata": {},
     "output_type": "execute_result"
    }
   ],
   "source": [
    "g=exp(t)*cos(t)\n",
    "g"
   ]
  },
  {
   "cell_type": "code",
   "execution_count": 59,
   "id": "mysterious-fossil",
   "metadata": {},
   "outputs": [],
   "source": [
    "# Trobem primer una equació diferencial que compleixi g."
   ]
  },
  {
   "cell_type": "code",
   "execution_count": 58,
   "id": "collectible-youth",
   "metadata": {},
   "outputs": [
    {
     "data": {
      "text/plain": [
       "cos(t)*e^t - e^t*sin(t)"
      ]
     },
     "execution_count": 58,
     "metadata": {},
     "output_type": "execute_result"
    }
   ],
   "source": [
    "dg1=diff(g,t)\n",
    "dg1"
   ]
  },
  {
   "cell_type": "code",
   "execution_count": 60,
   "id": "consistent-belle",
   "metadata": {},
   "outputs": [],
   "source": [
    "# Com que no podem anul·lar el terme e^t*sin(t) de g1 a partir de g amb combinacions a coeficients constants,\n",
    "# necessitem una altra derivada."
   ]
  },
  {
   "cell_type": "code",
   "execution_count": 61,
   "id": "powerful-choice",
   "metadata": {},
   "outputs": [
    {
     "data": {
      "text/plain": [
       "-2*e^t*sin(t)"
      ]
     },
     "execution_count": 61,
     "metadata": {},
     "output_type": "execute_result"
    }
   ],
   "source": [
    "dg2=diff(g,t,2)\n",
    "dg2"
   ]
  },
  {
   "cell_type": "code",
   "execution_count": 62,
   "id": "exterior-stick",
   "metadata": {},
   "outputs": [
    {
     "data": {
      "text/html": [
       "<html><script type=\"math/tex; mode=display\">\\newcommand{\\Bold}[1]{\\mathbf{#1}}{\\left(a_{0} + a_{1}\\right)} \\cos\\left(t\\right) e^{t} - {\\left(a_{1} + 2 \\, a_{2}\\right)} e^{t} \\sin\\left(t\\right)</script></html>"
      ],
      "text/latex": [
       "\\begin{math}\n",
       "\\newcommand{\\Bold}[1]{\\mathbf{#1}}{\\left(a_{0} + a_{1}\\right)} \\cos\\left(t\\right) e^{t} - {\\left(a_{1} + 2 \\, a_{2}\\right)} e^{t} \\sin\\left(t\\right)\n",
       "\\end{math}"
      ],
      "text/plain": [
       "(a0 + a1)*cos(t)*e^t - (a1 + 2*a2)*e^t*sin(t)"
      ]
     },
     "metadata": {},
     "output_type": "display_data"
    }
   ],
   "source": [
    "# Ara sí que hauríem de poder anul·lar tots els termes entre si a partir d'una combinació lineal entre ells.\n",
    "var('a0 a1 a2')\n",
    "edo2=(a0*g+a1*dg1+a2*dg2).simplify_full()\n",
    "show(edo2)"
   ]
  },
  {
   "cell_type": "code",
   "execution_count": 65,
   "id": "functional-connecticut",
   "metadata": {},
   "outputs": [
    {
     "data": {
      "text/plain": [
       "[[a0 == 2*r2, a1 == -2*r2, a2 == r2]]"
      ]
     },
     "execution_count": 65,
     "metadata": {},
     "output_type": "execute_result"
    }
   ],
   "source": [
    "# Igualem cada terme de cada funció linealment independent a 0\n",
    "sol_sist2=solve([a0+a1==0,a1+2*a2==0],a0,a1,a2)\n",
    "sol_sist2"
   ]
  },
  {
   "cell_type": "code",
   "execution_count": 63,
   "id": "magnetic-chile",
   "metadata": {},
   "outputs": [
    {
     "data": {
      "text/plain": [
       "0"
      ]
     },
     "execution_count": 63,
     "metadata": {},
     "output_type": "execute_result"
    }
   ],
   "source": [
    "# Si el paràmetre lliure l'igualem a 1, obtenim a0=2, a1=-2 i a2=1. Per tant, la edo que satifà t*sin(t) és \n",
    "# 2*y-2*y'+y''=0\n",
    "# Comprovm-ho:\n",
    "2*g-2*diff(g,t)+diff(g,t,2)"
   ]
  },
  {
   "cell_type": "code",
   "execution_count": 64,
   "id": "numerical-relation",
   "metadata": {},
   "outputs": [],
   "source": [
    "# Si anomenem y=e^t*cos(t) tenim que, 2*y-2*y'+y''=0. Ara volem resoldre l'equació: \n",
    "# x'''-5*x''+ 8*x'-6*x=y. Derivant una i dues vegades obtenim:"
   ]
  },
  {
   "cell_type": "code",
   "execution_count": 66,
   "id": "sustainable-legislation",
   "metadata": {},
   "outputs": [],
   "source": [
    "j=diff(x,t,3)-5*diff(x,t,2)+ 8*diff(x,t)-6*x==y"
   ]
  },
  {
   "cell_type": "code",
   "execution_count": 67,
   "id": "early-dragon",
   "metadata": {},
   "outputs": [
    {
     "data": {
      "text/plain": [
       "-6*diff(x(t), t) + 8*diff(x(t), t, t) - 5*diff(x(t), t, t, t) + diff(x(t), t, t, t, t) == diff(y(t), t)"
      ]
     },
     "execution_count": 67,
     "metadata": {},
     "output_type": "execute_result"
    }
   ],
   "source": [
    "dj1=diff(j,t)\n",
    "dj1"
   ]
  },
  {
   "cell_type": "code",
   "execution_count": 68,
   "id": "adolescent-concern",
   "metadata": {},
   "outputs": [
    {
     "data": {
      "text/plain": [
       "-6*diff(x(t), t, t) + 8*diff(x(t), t, t, t) - 5*diff(x(t), t, t, t, t) + diff(x(t), t, t, t, t, t) == diff(y(t), t, t)"
      ]
     },
     "execution_count": 68,
     "metadata": {},
     "output_type": "execute_result"
    }
   ],
   "source": [
    "dj2=diff(j,t,2)\n",
    "dj2"
   ]
  },
  {
   "cell_type": "code",
   "execution_count": 69,
   "id": "neither-transsexual",
   "metadata": {},
   "outputs": [
    {
     "data": {
      "text/html": [
       "<html><script type=\"math/tex; mode=display\">\\newcommand{\\Bold}[1]{\\mathbf{#1}}-12 \\, x\\left(t\\right) + 28 \\, \\frac{\\partial}{\\partial t}x\\left(t\\right) - 32 \\, \\frac{\\partial^{2}}{(\\partial t)^{2}}x\\left(t\\right) + 20 \\, \\frac{\\partial^{3}}{(\\partial t)^{3}}x\\left(t\\right) - 7 \\, \\frac{\\partial^{4}}{(\\partial t)^{4}}x\\left(t\\right) + \\frac{\\partial^{5}}{(\\partial t)^{5}}x\\left(t\\right) = 0</script></html>"
      ],
      "text/latex": [
       "\\begin{math}\n",
       "\\newcommand{\\Bold}[1]{\\mathbf{#1}}-12 \\, x\\left(t\\right) + 28 \\, \\frac{\\partial}{\\partial t}x\\left(t\\right) - 32 \\, \\frac{\\partial^{2}}{(\\partial t)^{2}}x\\left(t\\right) + 20 \\, \\frac{\\partial^{3}}{(\\partial t)^{3}}x\\left(t\\right) - 7 \\, \\frac{\\partial^{4}}{(\\partial t)^{4}}x\\left(t\\right) + \\frac{\\partial^{5}}{(\\partial t)^{5}}x\\left(t\\right) = 0\n",
       "\\end{math}"
      ],
      "text/plain": [
       "-12*x(t) + 28*diff(x(t), t) - 32*diff(x(t), t, t) + 20*diff(x(t), t, t, t) - 7*diff(x(t), t, t, t, t) + diff(x(t), t, t, t, t, t) == 0"
      ]
     },
     "metadata": {},
     "output_type": "display_data"
    }
   ],
   "source": [
    "# Sumant les equacions ponderant-les de tal manera que s'anulin els termes en y, obtenim:\n",
    "show((dj2-2*dj1+2*j).subs(diff(y,t,2)-2*diff(y,t)+2*y==0))"
   ]
  },
  {
   "cell_type": "code",
   "execution_count": 70,
   "id": "personal-preserve",
   "metadata": {
    "scrolled": true
   },
   "outputs": [
    {
     "data": {
      "text/plain": [
       "[  0   1   0   0   0]\n",
       "[  0   0   1   0   0]\n",
       "[  0   0   0   1   0]\n",
       "[  0   0   0   0   1]\n",
       "[ 12 -28  32 -20   7]"
      ]
     },
     "execution_count": 70,
     "metadata": {},
     "output_type": "execute_result"
    }
   ],
   "source": [
    "# que és un equació diferencial d'ordre 5. Resolem-la:\n",
    "# matriu del sistema lineal associat:\n",
    "A3=matrix(QQ[I],5,[0,1,0,0,0,\n",
    "                   0,0,1,0,0,\n",
    "                   0,0,0,1,0,\n",
    "                   0,0,0,0,1,\n",
    "                   12,-28,32,-20,7])\n",
    "A3"
   ]
  },
  {
   "cell_type": "code",
   "execution_count": 71,
   "id": "atmospheric-scale",
   "metadata": {},
   "outputs": [
    {
     "data": {
      "text/plain": [
       "[3, I + 1, I + 1, -I + 1, -I + 1]"
      ]
     },
     "execution_count": 71,
     "metadata": {},
     "output_type": "execute_result"
    }
   ],
   "source": [
    "vaps3=A3.eigenvalues()\n",
    "vaps3"
   ]
  },
  {
   "cell_type": "code",
   "execution_count": 72,
   "id": "dramatic-travel",
   "metadata": {},
   "outputs": [
    {
     "data": {
      "text/plain": [
       "[(3,\n",
       "  [\n",
       "  (1, 3, 9, 27, 81)\n",
       "  ],\n",
       "  1),\n",
       " (I + 1,\n",
       "  [\n",
       "  (1, I + 1, 2*I, 2*I - 2, -4)\n",
       "  ],\n",
       "  2),\n",
       " (-I + 1,\n",
       "  [\n",
       "  (1, -I + 1, -2*I, -2*I - 2, -4)\n",
       "  ],\n",
       "  2)]"
      ]
     },
     "execution_count": 72,
     "metadata": {},
     "output_type": "execute_result"
    }
   ],
   "source": [
    "veps3=A3.eigenvectors_right()\n",
    "veps3"
   ]
  },
  {
   "cell_type": "code",
   "execution_count": 73,
   "id": "rotary-relative",
   "metadata": {},
   "outputs": [],
   "source": [
    "u1=veps3[0][1][0] # vep de vap 3\n",
    "u2=veps3[1][1][0] # vep de vap 1+I\n",
    "u3=(A3-vaps3[2]*identity_matrix(5)).solve_right(u2) # vep generalitzat de vap 1+I\n",
    "u4=veps3[2][1][0] # vep de vap 1-I\n",
    "u5=(A3-vaps3[4]*identity_matrix(5)).solve_right(u4) # vep generalitzat de vap 1-I"
   ]
  },
  {
   "cell_type": "code",
   "execution_count": 74,
   "id": "roman-filter",
   "metadata": {},
   "outputs": [
    {
     "data": {
      "text/plain": [
       "[       1        1  2*I - 2        1 -2*I - 2]\n",
       "[       3    I + 1       -3   -I + 1       -3]\n",
       "[       9      2*I -2*I - 2     -2*I  2*I - 2]\n",
       "[      27  2*I - 2     -2*I -2*I - 2      2*I]\n",
       "[      81       -4        0       -4        0]"
      ]
     },
     "execution_count": 74,
     "metadata": {},
     "output_type": "execute_result"
    }
   ],
   "source": [
    "# matriu de canvi de base de la base de veps (u1,...,u5) a la base canònica\n",
    "B3=matrix(5,[u1,u2,u3,u4,u5]).transpose()\n",
    "B3"
   ]
  },
  {
   "cell_type": "code",
   "execution_count": 75,
   "id": "polar-novelty",
   "metadata": {
    "scrolled": true
   },
   "outputs": [
    {
     "data": {
      "text/plain": [
       "[     3      0      0      0      0]\n",
       "[     0  I + 1      1      0      0]\n",
       "[     0      0  I + 1      0      0]\n",
       "[     0      0      0 -I + 1      1]\n",
       "[     0      0      0      0 -I + 1]"
      ]
     },
     "execution_count": 75,
     "metadata": {},
     "output_type": "execute_result"
    }
   ],
   "source": [
    "# matriu de Jordan\n",
    "B3^-1*A3*B3"
   ]
  },
  {
   "cell_type": "code",
   "execution_count": 76,
   "id": "touched-gauge",
   "metadata": {},
   "outputs": [
    {
     "data": {
      "text/plain": [
       "[k1, k2, k3, k4, k5, k6, k7]"
      ]
     },
     "execution_count": 76,
     "metadata": {},
     "output_type": "execute_result"
    }
   ],
   "source": [
    "# recuperem la llista \"const\"\n",
    "const"
   ]
  },
  {
   "cell_type": "code",
   "execution_count": 77,
   "id": "vietnamese-organizer",
   "metadata": {
    "scrolled": true
   },
   "outputs": [
    {
     "data": {
      "text/plain": [
       "[k1*e^(3*t), k3*e^((I + 1)*t), k5*e^(-(I - 1)*t)]"
      ]
     },
     "execution_count": 77,
     "metadata": {},
     "output_type": "execute_result"
    }
   ],
   "source": [
    "# resolem ara les edos trivials que resulten:\n",
    "s3=[]\n",
    "for i in [0,2,4]:\n",
    "    s3.append(desolve(diff(x,t)==vaps3[i]*x,x,ivar=t).subs(_C=const[i]))\n",
    "s3"
   ]
  },
  {
   "cell_type": "code",
   "execution_count": 78,
   "id": "fancy-jackson",
   "metadata": {
    "scrolled": true
   },
   "outputs": [
    {
     "data": {
      "text/plain": [
       "(k3*t + k2)*e^(a*t)"
      ]
     },
     "execution_count": 78,
     "metadata": {},
     "output_type": "execute_result"
    }
   ],
   "source": [
    "# i ara les edos corresponents als blocs de Jordan de mida 2:\n",
    "var('a')\n",
    "sol=desolve(diff(x,t)==a*x+k3*exp(a*t),x,ivar=t).subs(_C=k2)\n",
    "sol\n",
    "# Nota: ho faig així perquè la instrucció \"desolve(diff(x,t)==(1+I)*x+k3*exp((1+I)*t),x,ivar=t)\" dona error i no\n",
    "# sé exactament per què."
   ]
  },
  {
   "cell_type": "code",
   "execution_count": 79,
   "id": "hungry-portfolio",
   "metadata": {},
   "outputs": [],
   "source": [
    "sol2=sol.subs(a=1+I) # substituim \"a\" per 1 + I.\n",
    "sol4=sol.subs(a=1-I).subs(k2=k4).subs(k3=k5) # substituim \"a\" per 1 - I i també les respectives constants."
   ]
  },
  {
   "cell_type": "code",
   "execution_count": 80,
   "id": "meaning-spoke",
   "metadata": {},
   "outputs": [
    {
     "data": {
      "text/plain": [
       "(k1*e^(3*t), (k3*t + k2)*e^((I + 1)*t), k3*e^((I + 1)*t), (k5*t + k4)*e^(-(I - 1)*t), k5*e^(-(I - 1)*t))"
      ]
     },
     "execution_count": 80,
     "metadata": {},
     "output_type": "execute_result"
    }
   ],
   "source": [
    "# solució de l'equació diferencial del sistema lineal associat en la base de veps.\n",
    "sol_homo3=vector([s3[0],sol2,s3[1],sol4,s3[2]])\n",
    "sol_homo3"
   ]
  },
  {
   "cell_type": "code",
   "execution_count": 81,
   "id": "absent-graham",
   "metadata": {},
   "outputs": [
    {
     "data": {
      "text/html": [
       "<html><script type=\"math/tex; mode=display\">\\newcommand{\\Bold}[1]{\\mathbf{#1}}\\left(k_{1} e^{\\left(3 \\, t\\right)} + {\\left(k_{3} t + k_{2}\\right)} e^{\\left(\\left(i + 1\\right) \\, t\\right)} + \\left(2 i - 2\\right) \\, k_{3} e^{\\left(\\left(i + 1\\right) \\, t\\right)} + {\\left(k_{5} t + k_{4}\\right)} e^{\\left(-\\left(i - 1\\right) \\, t\\right)} - \\left(2 i + 2\\right) \\, k_{5} e^{\\left(-\\left(i - 1\\right) \\, t\\right)},\\,3 \\, k_{1} e^{\\left(3 \\, t\\right)} + \\left(i + 1\\right) \\, {\\left(k_{3} t + k_{2}\\right)} e^{\\left(\\left(i + 1\\right) \\, t\\right)} - 3 \\, k_{3} e^{\\left(\\left(i + 1\\right) \\, t\\right)} - \\left(i - 1\\right) \\, {\\left(k_{5} t + k_{4}\\right)} e^{\\left(-\\left(i - 1\\right) \\, t\\right)} - 3 \\, k_{5} e^{\\left(-\\left(i - 1\\right) \\, t\\right)},\\,9 \\, k_{1} e^{\\left(3 \\, t\\right)} + 2 i \\, {\\left(k_{3} t + k_{2}\\right)} e^{\\left(\\left(i + 1\\right) \\, t\\right)} - \\left(2 i + 2\\right) \\, k_{3} e^{\\left(\\left(i + 1\\right) \\, t\\right)} - 2 i \\, {\\left(k_{5} t + k_{4}\\right)} e^{\\left(-\\left(i - 1\\right) \\, t\\right)} + \\left(2 i - 2\\right) \\, k_{5} e^{\\left(-\\left(i - 1\\right) \\, t\\right)},\\,27 \\, k_{1} e^{\\left(3 \\, t\\right)} + \\left(2 i - 2\\right) \\, {\\left(k_{3} t + k_{2}\\right)} e^{\\left(\\left(i + 1\\right) \\, t\\right)} - 2 i \\, k_{3} e^{\\left(\\left(i + 1\\right) \\, t\\right)} - \\left(2 i + 2\\right) \\, {\\left(k_{5} t + k_{4}\\right)} e^{\\left(-\\left(i - 1\\right) \\, t\\right)} + 2 i \\, k_{5} e^{\\left(-\\left(i - 1\\right) \\, t\\right)},\\,81 \\, k_{1} e^{\\left(3 \\, t\\right)} - 4 \\, {\\left(k_{3} t + k_{2}\\right)} e^{\\left(\\left(i + 1\\right) \\, t\\right)} - 4 \\, {\\left(k_{5} t + k_{4}\\right)} e^{\\left(-\\left(i - 1\\right) \\, t\\right)}\\right)</script></html>"
      ],
      "text/latex": [
       "\\begin{math}\n",
       "\\newcommand{\\Bold}[1]{\\mathbf{#1}}\\left(k_{1} e^{\\left(3 \\, t\\right)} + {\\left(k_{3} t + k_{2}\\right)} e^{\\left(\\left(i + 1\\right) \\, t\\right)} + \\left(2 i - 2\\right) \\, k_{3} e^{\\left(\\left(i + 1\\right) \\, t\\right)} + {\\left(k_{5} t + k_{4}\\right)} e^{\\left(-\\left(i - 1\\right) \\, t\\right)} - \\left(2 i + 2\\right) \\, k_{5} e^{\\left(-\\left(i - 1\\right) \\, t\\right)},\\,3 \\, k_{1} e^{\\left(3 \\, t\\right)} + \\left(i + 1\\right) \\, {\\left(k_{3} t + k_{2}\\right)} e^{\\left(\\left(i + 1\\right) \\, t\\right)} - 3 \\, k_{3} e^{\\left(\\left(i + 1\\right) \\, t\\right)} - \\left(i - 1\\right) \\, {\\left(k_{5} t + k_{4}\\right)} e^{\\left(-\\left(i - 1\\right) \\, t\\right)} - 3 \\, k_{5} e^{\\left(-\\left(i - 1\\right) \\, t\\right)},\\,9 \\, k_{1} e^{\\left(3 \\, t\\right)} + 2 i \\, {\\left(k_{3} t + k_{2}\\right)} e^{\\left(\\left(i + 1\\right) \\, t\\right)} - \\left(2 i + 2\\right) \\, k_{3} e^{\\left(\\left(i + 1\\right) \\, t\\right)} - 2 i \\, {\\left(k_{5} t + k_{4}\\right)} e^{\\left(-\\left(i - 1\\right) \\, t\\right)} + \\left(2 i - 2\\right) \\, k_{5} e^{\\left(-\\left(i - 1\\right) \\, t\\right)},\\,27 \\, k_{1} e^{\\left(3 \\, t\\right)} + \\left(2 i - 2\\right) \\, {\\left(k_{3} t + k_{2}\\right)} e^{\\left(\\left(i + 1\\right) \\, t\\right)} - 2 i \\, k_{3} e^{\\left(\\left(i + 1\\right) \\, t\\right)} - \\left(2 i + 2\\right) \\, {\\left(k_{5} t + k_{4}\\right)} e^{\\left(-\\left(i - 1\\right) \\, t\\right)} + 2 i \\, k_{5} e^{\\left(-\\left(i - 1\\right) \\, t\\right)},\\,81 \\, k_{1} e^{\\left(3 \\, t\\right)} - 4 \\, {\\left(k_{3} t + k_{2}\\right)} e^{\\left(\\left(i + 1\\right) \\, t\\right)} - 4 \\, {\\left(k_{5} t + k_{4}\\right)} e^{\\left(-\\left(i - 1\\right) \\, t\\right)}\\right)\n",
       "\\end{math}"
      ],
      "text/plain": [
       "(k1*e^(3*t) + (k3*t + k2)*e^((I + 1)*t) + (2*I - 2)*k3*e^((I + 1)*t) + (k5*t + k4)*e^(-(I - 1)*t) - (2*I + 2)*k5*e^(-(I - 1)*t), 3*k1*e^(3*t) + (I + 1)*(k3*t + k2)*e^((I + 1)*t) - 3*k3*e^((I + 1)*t) - (I - 1)*(k5*t + k4)*e^(-(I - 1)*t) - 3*k5*e^(-(I - 1)*t), 9*k1*e^(3*t) + 2*I*(k3*t + k2)*e^((I + 1)*t) - (2*I + 2)*k3*e^((I + 1)*t) - 2*I*(k5*t + k4)*e^(-(I - 1)*t) + (2*I - 2)*k5*e^(-(I - 1)*t), 27*k1*e^(3*t) + (2*I - 2)*(k3*t + k2)*e^((I + 1)*t) - 2*I*k3*e^((I + 1)*t) - (2*I + 2)*(k5*t + k4)*e^(-(I - 1)*t) + 2*I*k5*e^(-(I - 1)*t), 81*k1*e^(3*t) - 4*(k3*t + k2)*e^((I + 1)*t) - 4*(k5*t + k4)*e^(-(I - 1)*t))"
      ]
     },
     "metadata": {},
     "output_type": "display_data"
    }
   ],
   "source": [
    "# solució de l'equació diferencial del sistema lineal associat en la base canònica.\n",
    "sol3_homo=B3*sol_homo3\n",
    "show(sol3_homo)"
   ]
  },
  {
   "cell_type": "code",
   "execution_count": 82,
   "id": "thirty-association",
   "metadata": {},
   "outputs": [
    {
     "name": "stdout",
     "output_type": "stream",
     "text": [
      "0\n",
      "0\n",
      "0\n",
      "0\n",
      "0\n"
     ]
    }
   ],
   "source": [
    "# Comprovem que haguem fet bé els càlculs\n",
    "for i in range(0,4):\n",
    "    print(diff(sol3_homo[i],t)-sol3_homo[i+1])\n",
    "print(diff(sol3_homo[4],t)- (12*sol3_homo[0]  -28*sol3_homo[1] +32*sol3_homo[2]  -20*sol3_homo[3] +7*sol3_homo[4]))"
   ]
  },
  {
   "cell_type": "code",
   "execution_count": 83,
   "id": "permanent-integrity",
   "metadata": {},
   "outputs": [
    {
     "data": {
      "text/html": [
       "<html><script type=\"math/tex; mode=display\">\\newcommand{\\Bold}[1]{\\mathbf{#1}}k_{1} e^{\\left(3 \\, t\\right)} + {\\left(k_{3} t + k_{2}\\right)} e^{\\left(\\left(i + 1\\right) \\, t\\right)} + \\left(2 i - 2\\right) \\, k_{3} e^{\\left(\\left(i + 1\\right) \\, t\\right)} + {\\left(k_{5} t + k_{4}\\right)} e^{\\left(-\\left(i - 1\\right) \\, t\\right)} - \\left(2 i + 2\\right) \\, k_{5} e^{\\left(-\\left(i - 1\\right) \\, t\\right)}</script></html>"
      ],
      "text/latex": [
       "\\begin{math}\n",
       "\\newcommand{\\Bold}[1]{\\mathbf{#1}}k_{1} e^{\\left(3 \\, t\\right)} + {\\left(k_{3} t + k_{2}\\right)} e^{\\left(\\left(i + 1\\right) \\, t\\right)} + \\left(2 i - 2\\right) \\, k_{3} e^{\\left(\\left(i + 1\\right) \\, t\\right)} + {\\left(k_{5} t + k_{4}\\right)} e^{\\left(-\\left(i - 1\\right) \\, t\\right)} - \\left(2 i + 2\\right) \\, k_{5} e^{\\left(-\\left(i - 1\\right) \\, t\\right)}\n",
       "\\end{math}"
      ],
      "text/plain": [
       "k1*e^(3*t) + (k3*t + k2)*e^((I + 1)*t) + (2*I - 2)*k3*e^((I + 1)*t) + (k5*t + k4)*e^(-(I - 1)*t) - (2*I + 2)*k5*e^(-(I - 1)*t)"
      ]
     },
     "metadata": {},
     "output_type": "display_data"
    }
   ],
   "source": [
    "show(sol3_homo[0]) # solució de l'equació diferencial que ens demanàven."
   ]
  },
  {
   "cell_type": "code",
   "execution_count": 84,
   "id": "geographic-numbers",
   "metadata": {},
   "outputs": [
    {
     "name": "stdout",
     "output_type": "stream",
     "text": [
      "1\n",
      "1\n"
     ]
    }
   ],
   "source": [
    "# Però tenim 5 condicions inicials en un problema d'una equació diferencial d'ordre 3. Falta imposar les \n",
    "# condicions per a y!\n",
    "# Observem que:\n",
    "print(g(0))\n",
    "print(dg1(0))"
   ]
  },
  {
   "cell_type": "code",
   "execution_count": 85,
   "id": "minor-election",
   "metadata": {},
   "outputs": [
    {
     "data": {
      "text/plain": [
       "-(4*I + 2)*k3*e^((I + 1)*t) + (4*I - 2)*k5*e^(-(I - 1)*t)"
      ]
     },
     "execution_count": 85,
     "metadata": {},
     "output_type": "execute_result"
    }
   ],
   "source": [
    "# part esquerra de la edo havent subtituit la solució trobada prèviament.\n",
    "J=sol3_homo[3]-5*sol3_homo[2]+8*sol3_homo[1]-6*sol3_homo[0]\n",
    "J"
   ]
  },
  {
   "cell_type": "code",
   "execution_count": 86,
   "id": "needed-grant",
   "metadata": {},
   "outputs": [
    {
     "data": {
      "text/plain": [
       "[[k3 == (1/10*I - 1/20), k5 == (-1/10*I - 1/20)]]"
      ]
     },
     "execution_count": 86,
     "metadata": {},
     "output_type": "execute_result"
    }
   ],
   "source": [
    "# Trobem els coeficients k3, k4 i k5 imposant les condicons per a y.\n",
    "solk1_3=solve([J(t=0)==g(0),diff(J,t)(t=0)==dg1(0)],k3,k5)\n",
    "solk1_3"
   ]
  },
  {
   "cell_type": "code",
   "execution_count": 87,
   "id": "wired-corruption",
   "metadata": {},
   "outputs": [
    {
     "data": {
      "text/plain": [
       "k1*e^(3*t) + 1/20*(20*k2 + (2*I - 1)*t)*e^((I + 1)*t) + 1/20*(20*k4 - (2*I + 1)*t)*e^(-(I - 1)*t) - (3/10*I + 1/10)*e^((I + 1)*t) + (3/10*I - 1/10)*e^(-(I - 1)*t)"
      ]
     },
     "execution_count": 87,
     "metadata": {},
     "output_type": "execute_result"
    }
   ],
   "source": [
    "# solució substituint els valors de les k's trobades prèviament.\n",
    "sol3_genk=sol3_homo[0].subs(k3=solk1_3[0][0].rhs(),k5=solk1_3[0][1].rhs())\n",
    "sol3_genk"
   ]
  },
  {
   "cell_type": "code",
   "execution_count": 88,
   "id": "composite-retail",
   "metadata": {},
   "outputs": [
    {
     "data": {
      "text/plain": [
       "[[k1 == 2/5*x01 - 2/5*x02 + 1/5*x03 + 2/25, k2 == (9/10*I + 3/10)*x01 - (9/10*I - 1/5)*x02 + (1/5*I - 1/10)*x03 + 33/100*I + 3/50, k4 == -(9/10*I - 3/10)*x01 + (9/10*I + 1/5)*x02 - (1/5*I + 1/10)*x03 - 33/100*I + 3/50]]"
      ]
     },
     "execution_count": 88,
     "metadata": {},
     "output_type": "execute_result"
    }
   ],
   "source": [
    "# Imposem condicions inicials: x(0)=x01, x'(0)=x02, x''(0)=x03, on x01, x02 i x03 són reals.\n",
    "solk2_3=solve([sol3_genk(t=0)==x01,diff(sol3_genk,t)(t=0)==x02,diff(sol3_genk,t,2)(t=0)==x03],k1,k2,k4)\n",
    "solk2_3"
   ]
  },
  {
   "cell_type": "code",
   "execution_count": 89,
   "id": "convenient-clinic",
   "metadata": {},
   "outputs": [
    {
     "data": {
      "text/html": [
       "<html><script type=\"math/tex; mode=display\">\\newcommand{\\Bold}[1]{\\mathbf{#1}}-\\frac{1}{50} \\, {\\left(5 \\, t + 4\\right)} \\cos\\left(t\\right) e^{t} - \\frac{1}{50} \\, {\\left(10 \\, t + 3\\right)} e^{t} \\sin\\left(t\\right) + \\frac{1}{5} \\, {\\left(3 \\, \\cos\\left(t\\right) e^{t} - 9 \\, e^{t} \\sin\\left(t\\right) + 2 \\, e^{\\left(3 \\, t\\right)}\\right)} x_{01} + \\frac{1}{5} \\, {\\left(2 \\, \\cos\\left(t\\right) e^{t} + 9 \\, e^{t} \\sin\\left(t\\right) - 2 \\, e^{\\left(3 \\, t\\right)}\\right)} x_{02} - \\frac{1}{5} \\, {\\left(\\cos\\left(t\\right) e^{t} + 2 \\, e^{t} \\sin\\left(t\\right) - e^{\\left(3 \\, t\\right)}\\right)} x_{03} + \\frac{2}{25} \\, e^{\\left(3 \\, t\\right)}</script></html>"
      ],
      "text/latex": [
       "\\begin{math}\n",
       "\\newcommand{\\Bold}[1]{\\mathbf{#1}}-\\frac{1}{50} \\, {\\left(5 \\, t + 4\\right)} \\cos\\left(t\\right) e^{t} - \\frac{1}{50} \\, {\\left(10 \\, t + 3\\right)} e^{t} \\sin\\left(t\\right) + \\frac{1}{5} \\, {\\left(3 \\, \\cos\\left(t\\right) e^{t} - 9 \\, e^{t} \\sin\\left(t\\right) + 2 \\, e^{\\left(3 \\, t\\right)}\\right)} x_{01} + \\frac{1}{5} \\, {\\left(2 \\, \\cos\\left(t\\right) e^{t} + 9 \\, e^{t} \\sin\\left(t\\right) - 2 \\, e^{\\left(3 \\, t\\right)}\\right)} x_{02} - \\frac{1}{5} \\, {\\left(\\cos\\left(t\\right) e^{t} + 2 \\, e^{t} \\sin\\left(t\\right) - e^{\\left(3 \\, t\\right)}\\right)} x_{03} + \\frac{2}{25} \\, e^{\\left(3 \\, t\\right)}\n",
       "\\end{math}"
      ],
      "text/plain": [
       "-1/50*(5*t + 4)*cos(t)*e^t - 1/50*(10*t + 3)*e^t*sin(t) + 1/5*(3*cos(t)*e^t - 9*e^t*sin(t) + 2*e^(3*t))*x01 + 1/5*(2*cos(t)*e^t + 9*e^t*sin(t) - 2*e^(3*t))*x02 - 1/5*(cos(t)*e^t + 2*e^t*sin(t) - e^(3*t))*x03 + 2/25*e^(3*t)"
      ]
     },
     "metadata": {},
     "output_type": "display_data"
    }
   ],
   "source": [
    "# solució substituint els valors de les k's que ens faltàven\n",
    "sol3_final=sol3_genk.subs(k1=solk2_3[0][0].rhs(),k2=solk2_3[0][1].rhs(),k4=solk2_3[0][2].rhs()).simplify_full()\n",
    "show(sol3_final)"
   ]
  },
  {
   "cell_type": "code",
   "execution_count": 90,
   "id": "corrected-seventh",
   "metadata": {},
   "outputs": [
    {
     "data": {
      "text/plain": [
       "cos(t)*e^t"
      ]
     },
     "execution_count": 90,
     "metadata": {},
     "output_type": "execute_result"
    }
   ],
   "source": [
    "# comprovem que és solució:\n",
    "(diff(sol3_final,t,3)-5*diff(sol3_final,t,2)+8*diff(sol3_final,t)-6*sol3_final).simplify_full()"
   ]
  },
  {
   "cell_type": "markdown",
   "id": "everyday-monaco",
   "metadata": {},
   "source": [
    "##### Apartat i)"
   ]
  },
  {
   "cell_type": "code",
   "execution_count": 91,
   "id": "signal-tactics",
   "metadata": {},
   "outputs": [
    {
     "data": {
      "text/plain": [
       "2*cos(t)*e^t + t*sin(t)"
      ]
     },
     "execution_count": 91,
     "metadata": {},
     "output_type": "execute_result"
    }
   ],
   "source": [
    "# si tenim una solució x que compleix x'''-5x''+8x'-6x=t*sin(t) i una altra y que compleix \n",
    "# y'''-5y''+8y'-6y=e^t*cos(t), aleshores per linealitat de la derivada, la funció z=x+2*y complirà\n",
    "# z'''-5z''+8z'-6z=t*sin(t)+2*e^t*cos(t).\n",
    "# Comprovem-ho:\n",
    "sol4_final=sol2_final+2*sol3_final\n",
    "(diff(sol4_final,t,3)-5*diff(sol4_final,t,2)+8*diff(sol4_final,t)-6*sol4_final).simplify_full()"
   ]
  },
  {
   "cell_type": "code",
   "execution_count": 92,
   "id": "meaning-maple",
   "metadata": {},
   "outputs": [
    {
     "name": "stdout",
     "output_type": "stream",
     "text": [
      "3*x01\n",
      "3*x02\n",
      "3*x03\n"
     ]
    }
   ],
   "source": [
    "# Per observem que llavors les condicions incials deixen de ser x01, x02 i x03.\n",
    "print(sol4_final(0))\n",
    "print(diff(sol4_final,t)(0))\n",
    "print(diff(sol4_final,t,2)(0))"
   ]
  },
  {
   "cell_type": "code",
   "execution_count": 93,
   "id": "swedish-footwear",
   "metadata": {},
   "outputs": [
    {
     "data": {
      "text/plain": [
       "2*cos(t)*e^t + t*sin(t)"
      ]
     },
     "execution_count": 93,
     "metadata": {},
     "output_type": "execute_result"
    }
   ],
   "source": [
    "# El que hem de fer doncs és restar a \"sol4_homo_final\" dues vegades la solució homogènia del problema, ja que\n",
    "# (de nou per linealitat) no alterarà la part no homogènia de la equació però sí que alterarà les condicions\n",
    "# inicals.\n",
    "# Comprovem-ho:\n",
    "sol_final=sol2_final+2*sol3_final-2*sol1_homo_final[0]\n",
    "(diff(sol_final,t,3)-5*diff(sol_final,t,2)+8*diff(sol_final,t)-6*sol_final).simplify_full()"
   ]
  },
  {
   "cell_type": "code",
   "execution_count": 94,
   "id": "alternative-neutral",
   "metadata": {},
   "outputs": [
    {
     "name": "stdout",
     "output_type": "stream",
     "text": [
      "x01\n",
      "x02\n",
      "x03\n"
     ]
    }
   ],
   "source": [
    "print(sol_final(0))\n",
    "print(diff(sol_final,t)(0))\n",
    "print(diff(sol_final,t,2)(0))"
   ]
  },
  {
   "cell_type": "code",
   "execution_count": 95,
   "id": "separated-czech",
   "metadata": {},
   "outputs": [
    {
     "data": {
      "text/html": [
       "<html><script type=\"math/tex; mode=display\">\\newcommand{\\Bold}[1]{\\mathbf{#1}}-\\frac{1}{25} \\, {\\left(5 \\, t + 4\\right)} \\cos\\left(t\\right) e^{t} - \\frac{1}{25} \\, {\\left(10 \\, t + 3\\right)} e^{t} \\sin\\left(t\\right) + \\frac{1}{5} \\, {\\left(3 \\, \\cos\\left(t\\right) e^{t} - 9 \\, e^{t} \\sin\\left(t\\right) + 2 \\, e^{\\left(3 \\, t\\right)}\\right)} x_{01} + \\frac{1}{5} \\, {\\left(2 \\, \\cos\\left(t\\right) e^{t} + 9 \\, e^{t} \\sin\\left(t\\right) - 2 \\, e^{\\left(3 \\, t\\right)}\\right)} x_{02} - \\frac{1}{5} \\, {\\left(\\cos\\left(t\\right) e^{t} + 2 \\, e^{t} \\sin\\left(t\\right) - e^{\\left(3 \\, t\\right)}\\right)} x_{03} - \\frac{1}{250} \\, {\\left(35 \\, t - 52 \\, e^{t} + 55\\right)} \\cos\\left(t\\right) - \\frac{1}{250} \\, {\\left(5 \\, t + 36 \\, e^{t} - 10\\right)} \\sin\\left(t\\right) + \\frac{43}{250} \\, e^{\\left(3 \\, t\\right)}</script></html>"
      ],
      "text/latex": [
       "\\begin{math}\n",
       "\\newcommand{\\Bold}[1]{\\mathbf{#1}}-\\frac{1}{25} \\, {\\left(5 \\, t + 4\\right)} \\cos\\left(t\\right) e^{t} - \\frac{1}{25} \\, {\\left(10 \\, t + 3\\right)} e^{t} \\sin\\left(t\\right) + \\frac{1}{5} \\, {\\left(3 \\, \\cos\\left(t\\right) e^{t} - 9 \\, e^{t} \\sin\\left(t\\right) + 2 \\, e^{\\left(3 \\, t\\right)}\\right)} x_{01} + \\frac{1}{5} \\, {\\left(2 \\, \\cos\\left(t\\right) e^{t} + 9 \\, e^{t} \\sin\\left(t\\right) - 2 \\, e^{\\left(3 \\, t\\right)}\\right)} x_{02} - \\frac{1}{5} \\, {\\left(\\cos\\left(t\\right) e^{t} + 2 \\, e^{t} \\sin\\left(t\\right) - e^{\\left(3 \\, t\\right)}\\right)} x_{03} - \\frac{1}{250} \\, {\\left(35 \\, t - 52 \\, e^{t} + 55\\right)} \\cos\\left(t\\right) - \\frac{1}{250} \\, {\\left(5 \\, t + 36 \\, e^{t} - 10\\right)} \\sin\\left(t\\right) + \\frac{43}{250} \\, e^{\\left(3 \\, t\\right)}\n",
       "\\end{math}"
      ],
      "text/plain": [
       "-1/25*(5*t + 4)*cos(t)*e^t - 1/25*(10*t + 3)*e^t*sin(t) + 1/5*(3*cos(t)*e^t - 9*e^t*sin(t) + 2*e^(3*t))*x01 + 1/5*(2*cos(t)*e^t + 9*e^t*sin(t) - 2*e^(3*t))*x02 - 1/5*(cos(t)*e^t + 2*e^t*sin(t) - e^(3*t))*x03 - 1/250*(35*t - 52*e^t + 55)*cos(t) - 1/250*(5*t + 36*e^t - 10)*sin(t) + 43/250*e^(3*t)"
      ]
     },
     "metadata": {},
     "output_type": "display_data"
    }
   ],
   "source": [
    "# Per tant, la solució final és: \n",
    "show(sol_final)"
   ]
  },
  {
   "cell_type": "markdown",
   "id": "joined-springfield",
   "metadata": {},
   "source": [
    "##### Apartat j)"
   ]
  },
  {
   "cell_type": "code",
   "execution_count": 96,
   "id": "mighty-fancy",
   "metadata": {},
   "outputs": [
    {
     "data": {
      "text/html": [
       "<html><script type=\"math/tex; mode=display\">\\newcommand{\\Bold}[1]{\\mathbf{#1}}-\\frac{1}{250} \\, {\\left(2 \\, {\\left(25 \\, t - 31\\right)} e^{t} + 35 \\, t + 55\\right)} \\cos\\left(t\\right) - \\frac{1}{250} \\, {\\left(4 \\, {\\left(25 \\, t - 71\\right)} e^{t} + 5 \\, t - 10\\right)} \\sin\\left(t\\right) - \\frac{7}{250} \\, e^{\\left(3 \\, t\\right)}</script></html>"
      ],
      "text/latex": [
       "\\begin{math}\n",
       "\\newcommand{\\Bold}[1]{\\mathbf{#1}}-\\frac{1}{250} \\, {\\left(2 \\, {\\left(25 \\, t - 31\\right)} e^{t} + 35 \\, t + 55\\right)} \\cos\\left(t\\right) - \\frac{1}{250} \\, {\\left(4 \\, {\\left(25 \\, t - 71\\right)} e^{t} + 5 \\, t - 10\\right)} \\sin\\left(t\\right) - \\frac{7}{250} \\, e^{\\left(3 \\, t\\right)}\n",
       "\\end{math}"
      ],
      "text/plain": [
       "-1/250*(2*(25*t - 31)*e^t + 35*t + 55)*cos(t) - 1/250*(4*(25*t - 71)*e^t + 5*t - 10)*sin(t) - 7/250*e^(3*t)"
      ]
     },
     "metadata": {},
     "output_type": "display_data"
    }
   ],
   "source": [
    "# posant condicions inicials x(0)=0, x'(0)=1 i x''(0)=1, tenim:\n",
    "show(sol_final.subs(x01=0,x02=1,x03=1).simplify_full())"
   ]
  }
 ],
 "metadata": {
  "kernelspec": {
   "display_name": "SageMath 9.2",
   "language": "sage",
   "name": "sagemath"
  },
  "language_info": {
   "codemirror_mode": {
    "name": "ipython",
    "version": 3
   },
   "file_extension": ".py",
   "mimetype": "text/x-python",
   "name": "python",
   "nbconvert_exporter": "python",
   "pygments_lexer": "ipython3",
   "version": "3.9.2"
  }
 },
 "nbformat": 4,
 "nbformat_minor": 5
}
