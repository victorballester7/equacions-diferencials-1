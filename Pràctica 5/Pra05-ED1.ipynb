{
 "cells": [
  {
   "cell_type": "markdown",
   "id": "celtic-limitation",
   "metadata": {},
   "source": [
    "# ENTREGA PRÀCTICA 3 EQUACIONS DIFERENCIALS"
   ]
  },
  {
   "cell_type": "markdown",
   "id": "separate-straight",
   "metadata": {},
   "source": [
    "## Víctor Ballester\n",
    "## NIU: 1570866"
   ]
  },
  {
   "cell_type": "code",
   "execution_count": 151,
   "id": "convertible-forward",
   "metadata": {},
   "outputs": [],
   "source": [
    "reset()"
   ]
  },
  {
   "cell_type": "markdown",
   "id": "willing-flavor",
   "metadata": {},
   "source": [
    "### 1 - Equacions d'ordre n"
   ]
  },
  {
   "cell_type": "code",
   "execution_count": 1,
   "id": "impressed-penguin",
   "metadata": {},
   "outputs": [
    {
     "data": {
      "text/plain": [
       "t"
      ]
     },
     "execution_count": 1,
     "metadata": {},
     "output_type": "execute_result"
    }
   ],
   "source": [
    "var('t')"
   ]
  },
  {
   "cell_type": "markdown",
   "id": "private-frequency",
   "metadata": {},
   "source": [
    "##### Apartat a)"
   ]
  },
  {
   "cell_type": "code",
   "execution_count": 2,
   "id": "interstate-handle",
   "metadata": {},
   "outputs": [
    {
     "name": "stdout",
     "output_type": "stream",
     "text": [
      "[ 0  1  0]\n",
      "[ 0  0  1]\n",
      "[ 6 -8  5]\n",
      "\n",
      "(0, 0, 2*cos(t)*e^t + t*sin(t))\n"
     ]
    }
   ],
   "source": [
    "A=matrix(QQ,3,[0,1,0,0,0,1,6,-8,5])\n",
    "b=vector([0,0,t*sin(t)+2*e^t*cos(t)])\n",
    "print(A)\n",
    "print()\n",
    "print(b)"
   ]
  },
  {
   "cell_type": "code",
   "execution_count": 3,
   "id": "italic-vietnamese",
   "metadata": {},
   "outputs": [
    {
     "name": "stdout",
     "output_type": "stream",
     "text": [
      "El sistema associat és d(x1,x2,x3)/dt = A * (x1,x2,x3) + b\n"
     ]
    }
   ],
   "source": [
    "print('El sistema associat és d(x1,x2,x3)/dt = A * (x1,x2,x3) + b')"
   ]
  },
  {
   "cell_type": "markdown",
   "id": "crazy-space",
   "metadata": {},
   "source": [
    "##### Apartat b)"
   ]
  },
  {
   "cell_type": "code",
   "execution_count": 4,
   "id": "consistent-australian",
   "metadata": {},
   "outputs": [
    {
     "data": {
      "text/plain": [
       "x^3 - 5*x^2 + 8*x - 6"
      ]
     },
     "execution_count": 4,
     "metadata": {},
     "output_type": "execute_result"
    }
   ],
   "source": [
    "A.charpoly()"
   ]
  },
  {
   "cell_type": "markdown",
   "id": "protecting-bermuda",
   "metadata": {},
   "source": [
    "##### Apartat c)"
   ]
  },
  {
   "cell_type": "code",
   "execution_count": 5,
   "id": "abandoned-montana",
   "metadata": {},
   "outputs": [
    {
     "data": {
      "text/plain": [
       "(k1, k2, k3)"
      ]
     },
     "execution_count": 5,
     "metadata": {},
     "output_type": "execute_result"
    }
   ],
   "source": [
    "var('k1 k2 k3') # condicions inicials."
   ]
  },
  {
   "cell_type": "code",
   "execution_count": 6,
   "id": "developing-determination",
   "metadata": {},
   "outputs": [],
   "source": [
    "x=function('x')(t)"
   ]
  },
  {
   "cell_type": "code",
   "execution_count": 7,
   "id": "extra-ghana",
   "metadata": {},
   "outputs": [
    {
     "data": {
      "text/plain": [
       "[3, 1 - 1*I, 1 + 1*I]"
      ]
     },
     "execution_count": 7,
     "metadata": {},
     "output_type": "execute_result"
    }
   ],
   "source": [
    "A.eigenvalues()"
   ]
  },
  {
   "cell_type": "code",
   "execution_count": 8,
   "id": "labeled-trust",
   "metadata": {},
   "outputs": [
    {
     "data": {
      "text/plain": [
       "[(3,\n",
       "  [\n",
       "  (1, 3, 9)\n",
       "  ],\n",
       "  1),\n",
       " (1 - 1*I, [(1, 1 - 1*I, -2*I)], 1),\n",
       " (1 + 1*I, [(1, 1 + 1*I, 2*I)], 1)]"
      ]
     },
     "execution_count": 8,
     "metadata": {},
     "output_type": "execute_result"
    }
   ],
   "source": [
    "veps=A.eigenvectors_right()\n",
    "veps"
   ]
  },
  {
   "cell_type": "code",
   "execution_count": 9,
   "id": "ultimate-detector",
   "metadata": {},
   "outputs": [
    {
     "data": {
      "text/plain": [
       "[      1       1       1]\n",
       "[      3 1 - 1*I 1 + 1*I]\n",
       "[      9    -2*I     2*I]"
      ]
     },
     "execution_count": 9,
     "metadata": {},
     "output_type": "execute_result"
    }
   ],
   "source": [
    "BB=matrix(3,[veps[0][1][0],veps[1][1][0],veps[2][1][0]]).transpose()\n",
    "BB"
   ]
  },
  {
   "cell_type": "code",
   "execution_count": 10,
   "id": "retained-southeast",
   "metadata": {},
   "outputs": [
    {
     "data": {
      "text/plain": [
       "[           3.000000000000000? + 0.?e-16*I                       0.?e-17 + 0.?e-17*I                       0.?e-17 + 0.?e-17*I]\n",
       "[                      0.?e-16 + 0.?e-16*I 1.000000000000000? - 1.000000000000000?*I                       0.?e-17 + 0.?e-17*I]\n",
       "[                      0.?e-16 + 0.?e-16*I                       0.?e-17 + 0.?e-17*I 1.000000000000000? + 1.000000000000000?*I]"
      ]
     },
     "execution_count": 10,
     "metadata": {},
     "output_type": "execute_result"
    }
   ],
   "source": [
    "BB^-1*A*BB"
   ]
  },
  {
   "cell_type": "code",
   "execution_count": 11,
   "id": "magnetic-conservation",
   "metadata": {},
   "outputs": [
    {
     "data": {
      "text/plain": [
       "[     1      1      1]\n",
       "[     3 -I + 1  I + 1]\n",
       "[     9   -2*I    2*I]"
      ]
     },
     "execution_count": 11,
     "metadata": {},
     "output_type": "execute_result"
    }
   ],
   "source": [
    "B=matrix(3,[1, 3, 9, 1, 1 - 1*I, -2*I,1, 1 + 1*I, 2*I]).transpose()\n",
    "B"
   ]
  },
  {
   "cell_type": "code",
   "execution_count": 12,
   "id": "spread-writing",
   "metadata": {},
   "outputs": [
    {
     "data": {
      "text/plain": [
       "[     3      0      0]\n",
       "[     0 -I + 1      0]\n",
       "[     0      0  I + 1]"
      ]
     },
     "execution_count": 12,
     "metadata": {},
     "output_type": "execute_result"
    }
   ],
   "source": [
    "B^-1*A*B"
   ]
  },
  {
   "cell_type": "code",
   "execution_count": 13,
   "id": "alpine-neighborhood",
   "metadata": {},
   "outputs": [
    {
     "data": {
      "text/plain": [
       "(k1*e^(3*t), k2*e^(-(I - 1)*t), k3*e^((I + 1)*t))"
      ]
     },
     "execution_count": 13,
     "metadata": {},
     "output_type": "execute_result"
    }
   ],
   "source": [
    "sol1=desolve(diff(x,t)==3*x,x,ivar=t).subs(_C=k1)\n",
    "sol2=desolve(diff(x,t)==(1-I)*x,x,ivar=t).subs(_C=k2)\n",
    "sol3=desolve(diff(x,t)==(1+I)*x,x,ivar=t).subs(_C=k3)\n",
    "\n",
    "sol_homo3=vector([sol1,sol2,sol3])\n",
    "sol_homo3"
   ]
  },
  {
   "cell_type": "code",
   "execution_count": 14,
   "id": "ahead-naples",
   "metadata": {},
   "outputs": [
    {
     "data": {
      "text/html": [
       "<html><script type=\"math/tex; mode=display\">\\newcommand{\\Bold}[1]{\\mathbf{#1}}\\left(k_{1} e^{\\left(3 \\, t\\right)} + k_{3} e^{\\left(\\left(i + 1\\right) \\, t\\right)} + k_{2} e^{\\left(-\\left(i - 1\\right) \\, t\\right)},\\,3 \\, k_{1} e^{\\left(3 \\, t\\right)} + \\left(i + 1\\right) \\, k_{3} e^{\\left(\\left(i + 1\\right) \\, t\\right)} - \\left(i - 1\\right) \\, k_{2} e^{\\left(-\\left(i - 1\\right) \\, t\\right)},\\,9 \\, k_{1} e^{\\left(3 \\, t\\right)} + 2 i \\, k_{3} e^{\\left(\\left(i + 1\\right) \\, t\\right)} - 2 i \\, k_{2} e^{\\left(-\\left(i - 1\\right) \\, t\\right)}\\right)</script></html>"
      ],
      "text/latex": [
       "\\begin{math}\n",
       "\\newcommand{\\Bold}[1]{\\mathbf{#1}}\\left(k_{1} e^{\\left(3 \\, t\\right)} + k_{3} e^{\\left(\\left(i + 1\\right) \\, t\\right)} + k_{2} e^{\\left(-\\left(i - 1\\right) \\, t\\right)},\\,3 \\, k_{1} e^{\\left(3 \\, t\\right)} + \\left(i + 1\\right) \\, k_{3} e^{\\left(\\left(i + 1\\right) \\, t\\right)} - \\left(i - 1\\right) \\, k_{2} e^{\\left(-\\left(i - 1\\right) \\, t\\right)},\\,9 \\, k_{1} e^{\\left(3 \\, t\\right)} + 2 i \\, k_{3} e^{\\left(\\left(i + 1\\right) \\, t\\right)} - 2 i \\, k_{2} e^{\\left(-\\left(i - 1\\right) \\, t\\right)}\\right)\n",
       "\\end{math}"
      ],
      "text/plain": [
       "(k1*e^(3*t) + k3*e^((I + 1)*t) + k2*e^(-(I - 1)*t), 3*k1*e^(3*t) + (I + 1)*k3*e^((I + 1)*t) - (I - 1)*k2*e^(-(I - 1)*t), 9*k1*e^(3*t) + 2*I*k3*e^((I + 1)*t) - 2*I*k2*e^(-(I - 1)*t))"
      ]
     },
     "metadata": {},
     "output_type": "display_data"
    }
   ],
   "source": [
    "sol1_homo=B*sol_homo3\n",
    "show(sol1_homo)"
   ]
  },
  {
   "cell_type": "code",
   "execution_count": 15,
   "id": "changing-nursing",
   "metadata": {},
   "outputs": [
    {
     "name": "stdout",
     "output_type": "stream",
     "text": [
      "0\n",
      "0\n",
      "0\n"
     ]
    }
   ],
   "source": [
    "# Comprovem que hem fet bé els càlculs.\n",
    "print(diff(sol1_homo[0],t)-sol1_homo[1])\n",
    "print(diff(sol1_homo[1],t)-sol1_homo[2])\n",
    "print(diff(sol1_homo[2],t)-(6*sol1_homo[0]-8*sol1_homo[1]+5*sol1_homo[2]))"
   ]
  },
  {
   "cell_type": "markdown",
   "id": "solid-trainer",
   "metadata": {},
   "source": [
    "##### Apartat d)"
   ]
  },
  {
   "cell_type": "code",
   "execution_count": 16,
   "id": "sudden-chemistry",
   "metadata": {},
   "outputs": [
    {
     "data": {
      "text/plain": [
       "(x01, x02, x03)"
      ]
     },
     "execution_count": 16,
     "metadata": {},
     "output_type": "execute_result"
    }
   ],
   "source": [
    "# Imposem condicions inicials: x(0)=x01, x'(0)=x02, x''(0)=x03, on x01, x02 i x03 són reals.\n",
    "var('x01 x02 x03')"
   ]
  },
  {
   "cell_type": "code",
   "execution_count": 17,
   "id": "returning-public",
   "metadata": {},
   "outputs": [
    {
     "data": {
      "text/html": [
       "<html><script type=\"math/tex; mode=display\">\\newcommand{\\Bold}[1]{\\mathbf{#1}}\\left[\\left[k_{1} = \\frac{2}{5} \\, x_{01} - \\frac{2}{5} \\, x_{02} + \\frac{1}{5} \\, x_{03}, k_{2} = -\\left(\\frac{9}{10} i - \\frac{3}{10}\\right) \\, x_{01} + \\left(\\frac{9}{10} i + \\frac{1}{5}\\right) \\, x_{02} - \\left(\\frac{1}{5} i + \\frac{1}{10}\\right) \\, x_{03}, k_{3} = \\left(\\frac{9}{10} i + \\frac{3}{10}\\right) \\, x_{01} - \\left(\\frac{9}{10} i - \\frac{1}{5}\\right) \\, x_{02} + \\left(\\frac{1}{5} i - \\frac{1}{10}\\right) \\, x_{03}\\right]\\right]</script></html>"
      ],
      "text/latex": [
       "\\begin{math}\n",
       "\\newcommand{\\Bold}[1]{\\mathbf{#1}}\\left[\\left[k_{1} = \\frac{2}{5} \\, x_{01} - \\frac{2}{5} \\, x_{02} + \\frac{1}{5} \\, x_{03}, k_{2} = -\\left(\\frac{9}{10} i - \\frac{3}{10}\\right) \\, x_{01} + \\left(\\frac{9}{10} i + \\frac{1}{5}\\right) \\, x_{02} - \\left(\\frac{1}{5} i + \\frac{1}{10}\\right) \\, x_{03}, k_{3} = \\left(\\frac{9}{10} i + \\frac{3}{10}\\right) \\, x_{01} - \\left(\\frac{9}{10} i - \\frac{1}{5}\\right) \\, x_{02} + \\left(\\frac{1}{5} i - \\frac{1}{10}\\right) \\, x_{03}\\right]\\right]\n",
       "\\end{math}"
      ],
      "text/plain": [
       "[[k1 == 2/5*x01 - 2/5*x02 + 1/5*x03, k2 == -(9/10*I - 3/10)*x01 + (9/10*I + 1/5)*x02 - (1/5*I + 1/10)*x03, k3 == (9/10*I + 3/10)*x01 - (9/10*I - 1/5)*x02 + (1/5*I - 1/10)*x03]]"
      ]
     },
     "metadata": {},
     "output_type": "display_data"
    }
   ],
   "source": [
    "solk1=solve([sol1_homo[0](t=0)==x01,diff(sol1_homo[0],t)(t=0)==x02,diff(sol1_homo[0],t,2)(t=0)==x03],k1,k2,k3)\n",
    "show(solk1)"
   ]
  },
  {
   "cell_type": "code",
   "execution_count": 18,
   "id": "broadband-immigration",
   "metadata": {},
   "outputs": [
    {
     "data": {
      "text/plain": [
       "(1/5*(3*cos(t)*e^t - 9*e^t*sin(t) + 2*e^(3*t))*x01 + 1/5*(2*cos(t)*e^t + 9*e^t*sin(t) - 2*e^(3*t))*x02 - 1/5*(cos(t)*e^t + 2*e^t*sin(t) - e^(3*t))*x03, -6/5*(cos(t)*e^t + 2*e^t*sin(t) - e^(3*t))*x01 + 1/5*(11*cos(t)*e^t + 7*e^t*sin(t) - 6*e^(3*t))*x02 - 1/5*(3*cos(t)*e^t + e^t*sin(t) - 3*e^(3*t))*x03, -6/5*(3*cos(t)*e^t + e^t*sin(t) - 3*e^(3*t))*x01 + 2/5*(9*cos(t)*e^t - 2*e^t*sin(t) - 9*e^(3*t))*x02 - 1/5*(4*cos(t)*e^t - 2*e^t*sin(t) - 9*e^(3*t))*x03)"
      ]
     },
     "execution_count": 18,
     "metadata": {},
     "output_type": "execute_result"
    }
   ],
   "source": [
    "sol1_homo_final=sol1_homo.subs(k1=solk1[0][0].rhs(),k2=solk1[0][1].rhs(),k3=solk1[0][2].rhs()).simplify_full()\n",
    "sol1_homo_final"
   ]
  },
  {
   "cell_type": "code",
   "execution_count": 19,
   "id": "sharp-casting",
   "metadata": {},
   "outputs": [
    {
     "data": {
      "text/html": [
       "<html><script type=\"math/tex; mode=display\">\\newcommand{\\Bold}[1]{\\mathbf{#1}}\\frac{1}{5} \\, {\\left(3 \\, \\cos\\left(t\\right) e^{t} - 9 \\, e^{t} \\sin\\left(t\\right) + 2 \\, e^{\\left(3 \\, t\\right)}\\right)} x_{01} + \\frac{1}{5} \\, {\\left(2 \\, \\cos\\left(t\\right) e^{t} + 9 \\, e^{t} \\sin\\left(t\\right) - 2 \\, e^{\\left(3 \\, t\\right)}\\right)} x_{02} - \\frac{1}{5} \\, {\\left(\\cos\\left(t\\right) e^{t} + 2 \\, e^{t} \\sin\\left(t\\right) - e^{\\left(3 \\, t\\right)}\\right)} x_{03}</script></html>"
      ],
      "text/latex": [
       "\\begin{math}\n",
       "\\newcommand{\\Bold}[1]{\\mathbf{#1}}\\frac{1}{5} \\, {\\left(3 \\, \\cos\\left(t\\right) e^{t} - 9 \\, e^{t} \\sin\\left(t\\right) + 2 \\, e^{\\left(3 \\, t\\right)}\\right)} x_{01} + \\frac{1}{5} \\, {\\left(2 \\, \\cos\\left(t\\right) e^{t} + 9 \\, e^{t} \\sin\\left(t\\right) - 2 \\, e^{\\left(3 \\, t\\right)}\\right)} x_{02} - \\frac{1}{5} \\, {\\left(\\cos\\left(t\\right) e^{t} + 2 \\, e^{t} \\sin\\left(t\\right) - e^{\\left(3 \\, t\\right)}\\right)} x_{03}\n",
       "\\end{math}"
      ],
      "text/plain": [
       "1/5*(3*cos(t)*e^t - 9*e^t*sin(t) + 2*e^(3*t))*x01 + 1/5*(2*cos(t)*e^t + 9*e^t*sin(t) - 2*e^(3*t))*x02 - 1/5*(cos(t)*e^t + 2*e^t*sin(t) - e^(3*t))*x03"
      ]
     },
     "metadata": {},
     "output_type": "display_data"
    }
   ],
   "source": [
    "show(sol1_homo_final[0]) # solució de l'equació homogènia inicial."
   ]
  },
  {
   "cell_type": "code",
   "execution_count": 20,
   "id": "filled-armor",
   "metadata": {},
   "outputs": [
    {
     "data": {
      "text/html": [
       "<html><script type=\"math/tex; mode=display\">\\newcommand{\\Bold}[1]{\\mathbf{#1}}\\left(\\frac{1}{5} \\, {\\left(3 \\, \\cos\\left(t\\right) e^{t} - 9 \\, e^{t} \\sin\\left(t\\right) + 2 \\, e^{\\left(3 \\, t\\right)}\\right)} x_{01} + \\frac{1}{5} \\, {\\left(2 \\, \\cos\\left(t\\right) e^{t} + 9 \\, e^{t} \\sin\\left(t\\right) - 2 \\, e^{\\left(3 \\, t\\right)}\\right)} x_{02} - \\frac{1}{5} \\, {\\left(\\cos\\left(t\\right) e^{t} + 2 \\, e^{t} \\sin\\left(t\\right) - e^{\\left(3 \\, t\\right)}\\right)} x_{03},\\,-\\frac{6}{5} \\, {\\left(\\cos\\left(t\\right) e^{t} + 2 \\, e^{t} \\sin\\left(t\\right) - e^{\\left(3 \\, t\\right)}\\right)} x_{01} + \\frac{1}{5} \\, {\\left(11 \\, \\cos\\left(t\\right) e^{t} + 7 \\, e^{t} \\sin\\left(t\\right) - 6 \\, e^{\\left(3 \\, t\\right)}\\right)} x_{02} - \\frac{1}{5} \\, {\\left(3 \\, \\cos\\left(t\\right) e^{t} + e^{t} \\sin\\left(t\\right) - 3 \\, e^{\\left(3 \\, t\\right)}\\right)} x_{03},\\,-\\frac{6}{5} \\, {\\left(3 \\, \\cos\\left(t\\right) e^{t} + e^{t} \\sin\\left(t\\right) - 3 \\, e^{\\left(3 \\, t\\right)}\\right)} x_{01} + \\frac{2}{5} \\, {\\left(9 \\, \\cos\\left(t\\right) e^{t} - 2 \\, e^{t} \\sin\\left(t\\right) - 9 \\, e^{\\left(3 \\, t\\right)}\\right)} x_{02} - \\frac{1}{5} \\, {\\left(4 \\, \\cos\\left(t\\right) e^{t} - 2 \\, e^{t} \\sin\\left(t\\right) - 9 \\, e^{\\left(3 \\, t\\right)}\\right)} x_{03}\\right)</script></html>"
      ],
      "text/latex": [
       "\\begin{math}\n",
       "\\newcommand{\\Bold}[1]{\\mathbf{#1}}\\left(\\frac{1}{5} \\, {\\left(3 \\, \\cos\\left(t\\right) e^{t} - 9 \\, e^{t} \\sin\\left(t\\right) + 2 \\, e^{\\left(3 \\, t\\right)}\\right)} x_{01} + \\frac{1}{5} \\, {\\left(2 \\, \\cos\\left(t\\right) e^{t} + 9 \\, e^{t} \\sin\\left(t\\right) - 2 \\, e^{\\left(3 \\, t\\right)}\\right)} x_{02} - \\frac{1}{5} \\, {\\left(\\cos\\left(t\\right) e^{t} + 2 \\, e^{t} \\sin\\left(t\\right) - e^{\\left(3 \\, t\\right)}\\right)} x_{03},\\,-\\frac{6}{5} \\, {\\left(\\cos\\left(t\\right) e^{t} + 2 \\, e^{t} \\sin\\left(t\\right) - e^{\\left(3 \\, t\\right)}\\right)} x_{01} + \\frac{1}{5} \\, {\\left(11 \\, \\cos\\left(t\\right) e^{t} + 7 \\, e^{t} \\sin\\left(t\\right) - 6 \\, e^{\\left(3 \\, t\\right)}\\right)} x_{02} - \\frac{1}{5} \\, {\\left(3 \\, \\cos\\left(t\\right) e^{t} + e^{t} \\sin\\left(t\\right) - 3 \\, e^{\\left(3 \\, t\\right)}\\right)} x_{03},\\,-\\frac{6}{5} \\, {\\left(3 \\, \\cos\\left(t\\right) e^{t} + e^{t} \\sin\\left(t\\right) - 3 \\, e^{\\left(3 \\, t\\right)}\\right)} x_{01} + \\frac{2}{5} \\, {\\left(9 \\, \\cos\\left(t\\right) e^{t} - 2 \\, e^{t} \\sin\\left(t\\right) - 9 \\, e^{\\left(3 \\, t\\right)}\\right)} x_{02} - \\frac{1}{5} \\, {\\left(4 \\, \\cos\\left(t\\right) e^{t} - 2 \\, e^{t} \\sin\\left(t\\right) - 9 \\, e^{\\left(3 \\, t\\right)}\\right)} x_{03}\\right)\n",
       "\\end{math}"
      ],
      "text/plain": [
       "(1/5*(3*cos(t)*e^t - 9*e^t*sin(t) + 2*e^(3*t))*x01 + 1/5*(2*cos(t)*e^t + 9*e^t*sin(t) - 2*e^(3*t))*x02 - 1/5*(cos(t)*e^t + 2*e^t*sin(t) - e^(3*t))*x03, -6/5*(cos(t)*e^t + 2*e^t*sin(t) - e^(3*t))*x01 + 1/5*(11*cos(t)*e^t + 7*e^t*sin(t) - 6*e^(3*t))*x02 - 1/5*(3*cos(t)*e^t + e^t*sin(t) - 3*e^(3*t))*x03, -6/5*(3*cos(t)*e^t + e^t*sin(t) - 3*e^(3*t))*x01 + 2/5*(9*cos(t)*e^t - 2*e^t*sin(t) - 9*e^(3*t))*x02 - 1/5*(4*cos(t)*e^t - 2*e^t*sin(t) - 9*e^(3*t))*x03)"
      ]
     },
     "metadata": {},
     "output_type": "display_data"
    }
   ],
   "source": [
    "show(sol1_homo_final) # solució de l'equació homogènia del sistema lineal."
   ]
  },
  {
   "cell_type": "markdown",
   "id": "tough-yukon",
   "metadata": {},
   "source": [
    "##### Apartat e)"
   ]
  },
  {
   "cell_type": "code",
   "execution_count": 21,
   "id": "nervous-wesley",
   "metadata": {},
   "outputs": [],
   "source": [
    "# Les solució corresponent al sistema lineal homogeni són: \n",
    "# si L és un vap real de vep v, aleshores una solució és exp(A*t)v=exp(L*t)v.\n",
    "# si L=a+bi és un vap complex de vep v=u+iw, aleshores dues solució són Re(exp(A*t)v) = \n",
    "# Re(exp((a+bi)*t)*(u+iw)) i Im(exp(A*t)v)=Im(exp((a+bi)*t)*(u+iw))."
   ]
  },
  {
   "cell_type": "code",
   "execution_count": 22,
   "id": "czech-committee",
   "metadata": {},
   "outputs": [],
   "source": [
    "# Per tant, de la solució anterior mirant els coeficients de les exponencials i dels cosinus i sinus, deduïm que\n",
    "# els vaps de A són 3, 1+i i 1-i."
   ]
  },
  {
   "cell_type": "markdown",
   "id": "outer-boring",
   "metadata": {},
   "source": [
    "##### Apartat f)"
   ]
  },
  {
   "cell_type": "code",
   "execution_count": 23,
   "id": "general-fraud",
   "metadata": {},
   "outputs": [
    {
     "data": {
      "text/plain": [
       "t*sin(t)"
      ]
     },
     "execution_count": 23,
     "metadata": {},
     "output_type": "execute_result"
    }
   ],
   "source": [
    "f=t*sin(t)\n",
    "f"
   ]
  },
  {
   "cell_type": "code",
   "execution_count": 24,
   "id": "mysterious-quilt",
   "metadata": {},
   "outputs": [
    {
     "data": {
      "text/plain": [
       "t*cos(t) + sin(t)"
      ]
     },
     "execution_count": 24,
     "metadata": {},
     "output_type": "execute_result"
    }
   ],
   "source": [
    "df1=diff(f,t)\n",
    "df1"
   ]
  },
  {
   "cell_type": "code",
   "execution_count": 25,
   "id": "imposed-emergency",
   "metadata": {},
   "outputs": [],
   "source": [
    "# Com que no podem anul·lar el terme t*sin(t) a partir de f1 amb combinacions a coeficients constants,\n",
    "# necessitem una altra derivada."
   ]
  },
  {
   "cell_type": "code",
   "execution_count": 26,
   "id": "consolidated-superintendent",
   "metadata": {},
   "outputs": [
    {
     "data": {
      "text/plain": [
       "-t*sin(t) + 2*cos(t)"
      ]
     },
     "execution_count": 26,
     "metadata": {},
     "output_type": "execute_result"
    }
   ],
   "source": [
    "df2=diff(f,t,2)\n",
    "df2"
   ]
  },
  {
   "cell_type": "code",
   "execution_count": 27,
   "id": "dated-million",
   "metadata": {},
   "outputs": [],
   "source": [
    "# Com que no podem anul·lar el terme t*cos(t) a partir de f i df2 amb combinacions a coeficients constants, \n",
    "# necessitem una altra derivada."
   ]
  },
  {
   "cell_type": "code",
   "execution_count": 28,
   "id": "automatic-synthetic",
   "metadata": {},
   "outputs": [
    {
     "data": {
      "text/plain": [
       "-t*cos(t) - 3*sin(t)"
      ]
     },
     "execution_count": 28,
     "metadata": {},
     "output_type": "execute_result"
    }
   ],
   "source": [
    "df3=diff(f,t,3)\n",
    "df3"
   ]
  },
  {
   "cell_type": "code",
   "execution_count": 29,
   "id": "harmful-neutral",
   "metadata": {},
   "outputs": [],
   "source": [
    "# Com que no podem anul·lar el terme cos(t) a partir de f, df1 i df3 amb combinacions a coeficients constants, \n",
    "# necessitem una altra derivada."
   ]
  },
  {
   "cell_type": "code",
   "execution_count": 30,
   "id": "acting-intelligence",
   "metadata": {},
   "outputs": [
    {
     "data": {
      "text/plain": [
       "t*sin(t) - 4*cos(t)"
      ]
     },
     "execution_count": 30,
     "metadata": {},
     "output_type": "execute_result"
    }
   ],
   "source": [
    "df4=diff(f,t,4)\n",
    "df4"
   ]
  },
  {
   "cell_type": "code",
   "execution_count": 31,
   "id": "artificial-hypothesis",
   "metadata": {},
   "outputs": [
    {
     "data": {
      "text/html": [
       "<html><script type=\"math/tex; mode=display\">\\newcommand{\\Bold}[1]{\\mathbf{#1}}{\\left({\\left(a_{1} - a_{3}\\right)} t + 2 \\, a_{2} - 4 \\, a_{4}\\right)} \\cos\\left(t\\right) + {\\left({\\left(a_{0} - a_{2} + a_{4}\\right)} t + a_{1} - 3 \\, a_{3}\\right)} \\sin\\left(t\\right)</script></html>"
      ],
      "text/latex": [
       "\\begin{math}\n",
       "\\newcommand{\\Bold}[1]{\\mathbf{#1}}{\\left({\\left(a_{1} - a_{3}\\right)} t + 2 \\, a_{2} - 4 \\, a_{4}\\right)} \\cos\\left(t\\right) + {\\left({\\left(a_{0} - a_{2} + a_{4}\\right)} t + a_{1} - 3 \\, a_{3}\\right)} \\sin\\left(t\\right)\n",
       "\\end{math}"
      ],
      "text/plain": [
       "((a1 - a3)*t + 2*a2 - 4*a4)*cos(t) + ((a0 - a2 + a4)*t + a1 - 3*a3)*sin(t)"
      ]
     },
     "metadata": {},
     "output_type": "display_data"
    }
   ],
   "source": [
    "# Ara sí que hauríem de poder anul·lar tots els termes entre si a partir d'una combinació lineal entre ells.\n",
    "var('a0 a1 a2 a3 a4')\n",
    "edo1=(a0*f+a1*df1+a2*df2+a3*df3+a4*df4).simplify_full()\n",
    "show(edo1)"
   ]
  },
  {
   "cell_type": "code",
   "execution_count": 32,
   "id": "continued-butler",
   "metadata": {},
   "outputs": [
    {
     "data": {
      "text/plain": [
       "[[a0 == r1, a1 == 0, a2 == 2*r1, a3 == 0, a4 == r1]]"
      ]
     },
     "execution_count": 32,
     "metadata": {},
     "output_type": "execute_result"
    }
   ],
   "source": [
    "sol_sist1=solve([a1-a3==0,2*a2-4*a4==0,a0-a2+a4==0,a1-3*a3==0],a0, a1, a2, a3, a4)\n",
    "sol_sist1"
   ]
  },
  {
   "cell_type": "code",
   "execution_count": 33,
   "id": "deluxe-amino",
   "metadata": {},
   "outputs": [],
   "source": [
    "# Si el paràmetre lliure l'igualem a 1, obtenim a0=1, a1=0, a2=2, a3=0 i a4=1\n",
    "# Per tant, la edo que satifà t*sin(t) és y+2*y''+y^(4)=0"
   ]
  },
  {
   "cell_type": "markdown",
   "id": "connected-subscriber",
   "metadata": {},
   "source": [
    "##### Apartat g)"
   ]
  },
  {
   "cell_type": "code",
   "execution_count": 34,
   "id": "registered-leadership",
   "metadata": {},
   "outputs": [],
   "source": [
    "# Si anomenem y=t*sin(t) tenim que per l'apartat f), y+2*y''+y^(4)=0. Ara volem resoldre l'equació: \n",
    "# x'''-5*x''+ 8*x'-6*x=y. Derivant dues i quatre vegades obtenim:"
   ]
  },
  {
   "cell_type": "code",
   "execution_count": 35,
   "id": "talented-keyboard",
   "metadata": {},
   "outputs": [],
   "source": [
    "x=function('x')(t)\n",
    "y=function('y')(t)"
   ]
  },
  {
   "cell_type": "code",
   "execution_count": 36,
   "id": "contrary-campaign",
   "metadata": {},
   "outputs": [],
   "source": [
    "h1=diff(x,t,3)-5*diff(x,t,2)+ 8*diff(x,t)-6*x==y"
   ]
  },
  {
   "cell_type": "code",
   "execution_count": 37,
   "id": "informed-manchester",
   "metadata": {},
   "outputs": [
    {
     "data": {
      "text/plain": [
       "-6*diff(x(t), t, t) + 8*diff(x(t), t, t, t) - 5*diff(x(t), t, t, t, t) + diff(x(t), t, t, t, t, t) == diff(y(t), t, t)"
      ]
     },
     "execution_count": 37,
     "metadata": {},
     "output_type": "execute_result"
    }
   ],
   "source": [
    "dh12=diff(h1,t,2)\n",
    "dh12"
   ]
  },
  {
   "cell_type": "code",
   "execution_count": 38,
   "id": "floating-vertical",
   "metadata": {},
   "outputs": [
    {
     "data": {
      "text/plain": [
       "-6*diff(x(t), t, t, t, t) + 8*diff(x(t), t, t, t, t, t) - 5*diff(x(t), t, t, t, t, t, t) + diff(x(t), t, t, t, t, t, t, t) == diff(y(t), t, t, t, t)"
      ]
     },
     "execution_count": 38,
     "metadata": {},
     "output_type": "execute_result"
    }
   ],
   "source": [
    "dh14=diff(h1,t,4)\n",
    "dh14"
   ]
  },
  {
   "cell_type": "code",
   "execution_count": 39,
   "id": "stuck-heath",
   "metadata": {},
   "outputs": [
    {
     "data": {
      "text/plain": [
       "-6*x(t) + 8*diff(x(t), t) - 17*diff(x(t), t, t) + 17*diff(x(t), t, t, t) - 16*diff(x(t), t, t, t, t) + 10*diff(x(t), t, t, t, t, t) - 5*diff(x(t), t, t, t, t, t, t) + diff(x(t), t, t, t, t, t, t, t) == 0"
      ]
     },
     "execution_count": 39,
     "metadata": {},
     "output_type": "execute_result"
    }
   ],
   "source": [
    "# Sumant les equacions podenrant-les de tal manera que s'anulin els termes en y, obtenim:\n",
    "(h1+2*dh12+dh14).subs(diff(y,t,4)+2*diff(y,t,2)+y==0)"
   ]
  },
  {
   "cell_type": "code",
   "execution_count": 40,
   "id": "robust-atmosphere",
   "metadata": {},
   "outputs": [
    {
     "data": {
      "text/plain": [
       "[  0   1   0   0   0   0   0]\n",
       "[  0   0   1   0   0   0   0]\n",
       "[  0   0   0   1   0   0   0]\n",
       "[  0   0   0   0   1   0   0]\n",
       "[  0   0   0   0   0   1   0]\n",
       "[  0   0   0   0   0   0   1]\n",
       "[  6  -8  17 -17  16 -10   5]"
      ]
     },
     "execution_count": 40,
     "metadata": {},
     "output_type": "execute_result"
    }
   ],
   "source": [
    "# que és un equació diferencial d'ordre 7. Resolem-la:\n",
    "# Matriu del sistema lineal associat:\n",
    "A2=matrix(QQ,7,[0,1,0,0,0,0,0,0,0,1,0,0,0,0,0,0,0,1,0,0,0,0,0,0,0,1,0,0,0,0,0,0,0,1,0,0,0,0,0,0,0,1,6,-8,17,-17,16,-10,5])\n",
    "A2"
   ]
  },
  {
   "cell_type": "code",
   "execution_count": 41,
   "id": "contained-passport",
   "metadata": {},
   "outputs": [
    {
     "data": {
      "text/plain": [
       "[3, 1 - 1*I, 1 + 1*I, -1*I, -1*I, 1*I, 1*I]"
      ]
     },
     "execution_count": 41,
     "metadata": {},
     "output_type": "execute_result"
    }
   ],
   "source": [
    "A2.eigenvalues()"
   ]
  },
  {
   "cell_type": "code",
   "execution_count": 42,
   "id": "optical-scholarship",
   "metadata": {},
   "outputs": [
    {
     "data": {
      "text/plain": [
       "[(3,\n",
       "  [\n",
       "  (1, 3, 9, 27, 81, 243, 729)\n",
       "  ],\n",
       "  1),\n",
       " (1 - 1*I, [(1, 1 - 1*I, -2*I, -2 - 2*I, -4, -4 + 4*I, 8*I)], 1),\n",
       " (1 + 1*I, [(1, 1 + 1*I, 2*I, -2 + 2*I, -4, -4 - 4*I, -8*I)], 1),\n",
       " (-1*I, [(1, -1*I, -1, 1*I, 1, -1*I, -1)], 2),\n",
       " (1*I, [(1, 1*I, -1, -1*I, 1, 1*I, -1)], 2)]"
      ]
     },
     "execution_count": 42,
     "metadata": {},
     "output_type": "execute_result"
    }
   ],
   "source": [
    "A2.eigenvectors_right()"
   ]
  },
  {
   "cell_type": "code",
   "execution_count": 43,
   "id": "specified-pursuit",
   "metadata": {},
   "outputs": [],
   "source": [
    "v1=vector([1, 3, 9, 27, 81, 243, 729])\n",
    "v2=vector([1,1 - 1*I, -2*I, -2 - 2*I, -4, -4 + 4*I, 8*I])\n",
    "v3=vector([1, 1 + 1*I, 2*I, -2 + 2*I, -4, -4 - 4*I, -8*I])\n",
    "v4=vector([1, -1*I, -1, 1*I, 1, -1*I, -1])\n",
    "v5=(A2+I*identity_matrix(7)).solve_right((1, -1*I, -1, 1*I, 1, -1*I, -1)) # vep generalitzat de vap -I\n",
    "v6=vector([1, 1*I, -1, -1*I, 1, 1*I, -1])\n",
    "v7=(A2-I*identity_matrix(7)).solve_right((1, 1*I, -1, -1*I, 1, 1*I, -1)) # vep generalitzat de vap I"
   ]
  },
  {
   "cell_type": "code",
   "execution_count": 44,
   "id": "spare-auckland",
   "metadata": {},
   "outputs": [
    {
     "data": {
      "text/plain": [
       "[       1        1        1        1     -6*I        1      6*I]\n",
       "[       3   -I + 1    I + 1       -I       -5        I       -5]\n",
       "[       9     -2*I      2*I       -1      4*I       -1     -4*I]\n",
       "[      27 -2*I - 2  2*I - 2        I        3       -I        3]\n",
       "[      81       -4       -4        1     -2*I        1      2*I]\n",
       "[     243  4*I - 4 -4*I - 4       -I       -1        I       -1]\n",
       "[     729      8*I     -8*I       -1        0       -1        0]"
      ]
     },
     "execution_count": 44,
     "metadata": {},
     "output_type": "execute_result"
    }
   ],
   "source": [
    "B2=matrix(7,[v1,v2,v3,v4,v5,v6,v7]).transpose()\n",
    "B2"
   ]
  },
  {
   "cell_type": "code",
   "execution_count": 45,
   "id": "weekly-copying",
   "metadata": {},
   "outputs": [
    {
     "data": {
      "text/plain": [
       "[     3      0      0      0      0      0      0]\n",
       "[     0 -I + 1      0      0      0      0      0]\n",
       "[     0      0  I + 1      0      0      0      0]\n",
       "[     0      0      0     -I      1      0      0]\n",
       "[     0      0      0      0     -I      0      0]\n",
       "[     0      0      0      0      0      I      1]\n",
       "[     0      0      0      0      0      0      I]"
      ]
     },
     "execution_count": 45,
     "metadata": {},
     "output_type": "execute_result"
    }
   ],
   "source": [
    "B2^(-1)*A2*B2"
   ]
  },
  {
   "cell_type": "code",
   "execution_count": 46,
   "id": "persistent-cleanup",
   "metadata": {},
   "outputs": [
    {
     "data": {
      "text/plain": [
       "[k1*e^(3*t), k2*e^(-(I - 1)*t), k3*e^((I + 1)*t), k5*e^(-I*t), k7*e^(I*t)]"
      ]
     },
     "execution_count": 46,
     "metadata": {},
     "output_type": "execute_result"
    }
   ],
   "source": [
    "var('k1 k2 k3 k4 k5 k6 k7')\n",
    "s=[]\n",
    "vaps2=[3, 1 - I, 1 + I, - I, I]\n",
    "const=[k1, k2, k3, k5, k7]\n",
    "for i in range(0,5):\n",
    "    s.append(desolve(diff(x,t)==vaps2[i]*x,x,ivar=t).subs(_C=const[i]))\n",
    "s"
   ]
  },
  {
   "cell_type": "code",
   "execution_count": 47,
   "id": "unavailable-august",
   "metadata": {},
   "outputs": [
    {
     "name": "stdout",
     "output_type": "stream",
     "text": [
      "(k5*t + k4)*e^(-I*t) , (k7*t + k6)*e^(I*t)\n"
     ]
    }
   ],
   "source": [
    "sol4=desolve(diff(x,t)==-I*x+s[3],x,ivar=t).subs(_C=k4)\n",
    "sol6=desolve(diff(x,t)==I*x+s[4],x,ivar=t).subs(_C=k6)\n",
    "print(sol4,',',sol6)"
   ]
  },
  {
   "cell_type": "code",
   "execution_count": 48,
   "id": "separated-islam",
   "metadata": {},
   "outputs": [
    {
     "data": {
      "text/plain": [
       "(k1*e^(3*t), k2*e^(-(I - 1)*t), k3*e^((I + 1)*t), (k5*t + k4)*e^(-I*t), k5*e^(-I*t), (k7*t + k6)*e^(I*t), k7*e^(I*t))"
      ]
     },
     "execution_count": 48,
     "metadata": {},
     "output_type": "execute_result"
    }
   ],
   "source": [
    "sol_homo7=vector([s[0],s[1],s[2],sol4,s[3],sol6,s[4]])\n",
    "sol_homo7"
   ]
  },
  {
   "cell_type": "code",
   "execution_count": 49,
   "id": "rural-latino",
   "metadata": {
    "scrolled": true
   },
   "outputs": [
    {
     "data": {
      "text/plain": [
       "(k1*e^(3*t) + k3*e^((I + 1)*t) + k2*e^(-(I - 1)*t) + (k7*t + k6)*e^(I*t) + 6*I*k7*e^(I*t) + (k5*t + k4)*e^(-I*t) - 6*I*k5*e^(-I*t), 3*k1*e^(3*t) + (I + 1)*k3*e^((I + 1)*t) - (I - 1)*k2*e^(-(I - 1)*t) + I*(k7*t + k6)*e^(I*t) - 5*k7*e^(I*t) - I*(k5*t + k4)*e^(-I*t) - 5*k5*e^(-I*t), 9*k1*e^(3*t) + 2*I*k3*e^((I + 1)*t) - 2*I*k2*e^(-(I - 1)*t) - (k7*t + k6)*e^(I*t) - 4*I*k7*e^(I*t) - (k5*t + k4)*e^(-I*t) + 4*I*k5*e^(-I*t), 27*k1*e^(3*t) + (2*I - 2)*k3*e^((I + 1)*t) - (2*I + 2)*k2*e^(-(I - 1)*t) - I*(k7*t + k6)*e^(I*t) + 3*k7*e^(I*t) + I*(k5*t + k4)*e^(-I*t) + 3*k5*e^(-I*t), 81*k1*e^(3*t) - 4*k3*e^((I + 1)*t) - 4*k2*e^(-(I - 1)*t) + (k7*t + k6)*e^(I*t) + 2*I*k7*e^(I*t) + (k5*t + k4)*e^(-I*t) - 2*I*k5*e^(-I*t), 243*k1*e^(3*t) - (4*I + 4)*k3*e^((I + 1)*t) + (4*I - 4)*k2*e^(-(I - 1)*t) + I*(k7*t + k6)*e^(I*t) - k7*e^(I*t) - I*(k5*t + k4)*e^(-I*t) - k5*e^(-I*t), 729*k1*e^(3*t) - 8*I*k3*e^((I + 1)*t) + 8*I*k2*e^(-(I - 1)*t) - (k7*t + k6)*e^(I*t) - (k5*t + k4)*e^(-I*t))"
      ]
     },
     "execution_count": 49,
     "metadata": {},
     "output_type": "execute_result"
    }
   ],
   "source": [
    "sol2_homo=B2*sol_homo7\n",
    "sol2_homo"
   ]
  },
  {
   "cell_type": "code",
   "execution_count": 50,
   "id": "million-jerusalem",
   "metadata": {},
   "outputs": [
    {
     "name": "stdout",
     "output_type": "stream",
     "text": [
      "0\n",
      "0\n",
      "0\n",
      "0\n",
      "0\n",
      "0\n",
      "0\n"
     ]
    }
   ],
   "source": [
    "# Comprovem que haguem fet bé els càlculs\n",
    "for i in range(0,6):\n",
    "    print(diff(sol2_homo[i],t)-sol2_homo[i+1])\n",
    "print(diff(sol2_homo[6],t)- (6*sol2_homo[0]  -8*sol2_homo[1]  +17*sol2_homo[2] -17*sol2_homo[3]+16*sol2_homo[4] -10*sol2_homo[5]+5*sol2_homo[6]))"
   ]
  },
  {
   "cell_type": "code",
   "execution_count": 51,
   "id": "automated-hydrogen",
   "metadata": {},
   "outputs": [
    {
     "data": {
      "text/html": [
       "<html><script type=\"math/tex; mode=display\">\\newcommand{\\Bold}[1]{\\mathbf{#1}}k_{1} e^{\\left(3 \\, t\\right)} + k_{3} e^{\\left(\\left(i + 1\\right) \\, t\\right)} + k_{2} e^{\\left(-\\left(i - 1\\right) \\, t\\right)} + {\\left(k_{7} t + k_{6}\\right)} e^{\\left(i \\, t\\right)} + 6 i \\, k_{7} e^{\\left(i \\, t\\right)} + {\\left(k_{5} t + k_{4}\\right)} e^{\\left(-i \\, t\\right)} - 6 i \\, k_{5} e^{\\left(-i \\, t\\right)}</script></html>"
      ],
      "text/latex": [
       "\\begin{math}\n",
       "\\newcommand{\\Bold}[1]{\\mathbf{#1}}k_{1} e^{\\left(3 \\, t\\right)} + k_{3} e^{\\left(\\left(i + 1\\right) \\, t\\right)} + k_{2} e^{\\left(-\\left(i - 1\\right) \\, t\\right)} + {\\left(k_{7} t + k_{6}\\right)} e^{\\left(i \\, t\\right)} + 6 i \\, k_{7} e^{\\left(i \\, t\\right)} + {\\left(k_{5} t + k_{4}\\right)} e^{\\left(-i \\, t\\right)} - 6 i \\, k_{5} e^{\\left(-i \\, t\\right)}\n",
       "\\end{math}"
      ],
      "text/plain": [
       "k1*e^(3*t) + k3*e^((I + 1)*t) + k2*e^(-(I - 1)*t) + (k7*t + k6)*e^(I*t) + 6*I*k7*e^(I*t) + (k5*t + k4)*e^(-I*t) - 6*I*k5*e^(-I*t)"
      ]
     },
     "metadata": {},
     "output_type": "display_data"
    }
   ],
   "source": [
    "show(sol2_homo[0]) # solució de l'equació diferencial que ens demanàven."
   ]
  },
  {
   "cell_type": "code",
   "execution_count": 52,
   "id": "minor-cyprus",
   "metadata": {},
   "outputs": [
    {
     "name": "stdout",
     "output_type": "stream",
     "text": [
      "0\n",
      "0\n",
      "2\n",
      "0\n"
     ]
    }
   ],
   "source": [
    "# Però tenim 7 condicions inicials en un problema d'una equació diferencial d'ordre 3. Falta imposar les \n",
    "# condicions per a y!\n",
    "# Observem que:\n",
    "print(f(0))\n",
    "print(df1(0))\n",
    "print(df2(0))\n",
    "print(df3(0))"
   ]
  },
  {
   "cell_type": "code",
   "execution_count": 53,
   "id": "protective-cattle",
   "metadata": {},
   "outputs": [
    {
     "data": {
      "text/plain": [
       "(7*I - 1)*(k7*t + k6)*e^(I*t) - (16*I + 37)*k7*e^(I*t) - (7*I + 1)*(k5*t + k4)*e^(-I*t) + (16*I - 37)*k5*e^(-I*t)"
      ]
     },
     "execution_count": 53,
     "metadata": {},
     "output_type": "execute_result"
    }
   ],
   "source": [
    "H=sol2_homo[3]-5*sol2_homo[2]+8*sol2_homo[1]-6*sol2_homo[0]\n",
    "H"
   ]
  },
  {
   "cell_type": "code",
   "execution_count": 102,
   "id": "comfortable-offense",
   "metadata": {},
   "outputs": [
    {
     "data": {
      "text/plain": [
       "[[k4 == (-2/5*I - 1/20), k5 == (-1/100*I - 7/100), k6 == (2/5*I - 1/20), k7 == (1/100*I - 7/100)]]"
      ]
     },
     "execution_count": 102,
     "metadata": {},
     "output_type": "execute_result"
    }
   ],
   "source": [
    "solk1=solve([H(t=0)==f(0),diff(H,t)(t=0)==df1(0),diff(H,t,2)(t=0)==df2(0),diff(H,t,3)(t=0)==df3(0)],k4,k5,k6,k7)\n",
    "solk1"
   ]
  },
  {
   "cell_type": "code",
   "execution_count": 55,
   "id": "motivated-subsection",
   "metadata": {},
   "outputs": [
    {
     "data": {
      "text/plain": [
       "k1*e^(3*t) + k3*e^((I + 1)*t) + k2*e^(-(I - 1)*t) - 1/100*(-(I - 7)*t - 40*I + 5)*e^(I*t) - 1/100*((I + 7)*t + 40*I + 5)*e^(-I*t) - (21/50*I + 3/50)*e^(I*t) + (21/50*I - 3/50)*e^(-I*t)"
      ]
     },
     "execution_count": 55,
     "metadata": {},
     "output_type": "execute_result"
    }
   ],
   "source": [
    "sol2_homok=sol2_homo[0].subs(k4=solk1[0][0].rhs(),k5=solk1[0][1].rhs(),k6=solk1[0][2].rhs(),k7=solk1[0][3].rhs())\n",
    "sol2_homok"
   ]
  },
  {
   "cell_type": "code",
   "execution_count": 56,
   "id": "canadian-island",
   "metadata": {},
   "outputs": [
    {
     "data": {
      "text/plain": [
       "[[k1 == 2/5*x01 - 2/5*x02 + 1/5*x03 + 3/250, k2 == -(9/10*I - 3/10)*x01 + (9/10*I + 1/5)*x02 - (1/5*I + 1/10)*x03 - 9/125*I + 13/125, k3 == (9/10*I + 3/10)*x01 - (9/10*I - 1/5)*x02 + (1/5*I - 1/10)*x03 + 9/125*I + 13/125]]"
      ]
     },
     "execution_count": 56,
     "metadata": {},
     "output_type": "execute_result"
    }
   ],
   "source": [
    "solk2=solve([sol2_homok(t=0)==x01,diff(sol2_homok,t)(t=0)==x02,diff(sol2_homok,t,2)(t=0)==x03],k1,k2,k3)\n",
    "solk2"
   ]
  },
  {
   "cell_type": "code",
   "execution_count": 57,
   "id": "changing-exhaust",
   "metadata": {},
   "outputs": [
    {
     "data": {
      "text/html": [
       "<html><script type=\"math/tex; mode=display\">\\newcommand{\\Bold}[1]{\\mathbf{#1}}\\frac{1}{5} \\, {\\left(3 \\, \\cos\\left(t\\right) e^{t} - 9 \\, e^{t} \\sin\\left(t\\right) + 2 \\, e^{\\left(3 \\, t\\right)}\\right)} x_{01} + \\frac{1}{5} \\, {\\left(2 \\, \\cos\\left(t\\right) e^{t} + 9 \\, e^{t} \\sin\\left(t\\right) - 2 \\, e^{\\left(3 \\, t\\right)}\\right)} x_{02} - \\frac{1}{5} \\, {\\left(\\cos\\left(t\\right) e^{t} + 2 \\, e^{t} \\sin\\left(t\\right) - e^{\\left(3 \\, t\\right)}\\right)} x_{03} - \\frac{1}{250} \\, {\\left(35 \\, t - 52 \\, e^{t} + 55\\right)} \\cos\\left(t\\right) - \\frac{1}{250} \\, {\\left(5 \\, t + 36 \\, e^{t} - 10\\right)} \\sin\\left(t\\right) + \\frac{3}{250} \\, e^{\\left(3 \\, t\\right)}</script></html>"
      ],
      "text/latex": [
       "\\begin{math}\n",
       "\\newcommand{\\Bold}[1]{\\mathbf{#1}}\\frac{1}{5} \\, {\\left(3 \\, \\cos\\left(t\\right) e^{t} - 9 \\, e^{t} \\sin\\left(t\\right) + 2 \\, e^{\\left(3 \\, t\\right)}\\right)} x_{01} + \\frac{1}{5} \\, {\\left(2 \\, \\cos\\left(t\\right) e^{t} + 9 \\, e^{t} \\sin\\left(t\\right) - 2 \\, e^{\\left(3 \\, t\\right)}\\right)} x_{02} - \\frac{1}{5} \\, {\\left(\\cos\\left(t\\right) e^{t} + 2 \\, e^{t} \\sin\\left(t\\right) - e^{\\left(3 \\, t\\right)}\\right)} x_{03} - \\frac{1}{250} \\, {\\left(35 \\, t - 52 \\, e^{t} + 55\\right)} \\cos\\left(t\\right) - \\frac{1}{250} \\, {\\left(5 \\, t + 36 \\, e^{t} - 10\\right)} \\sin\\left(t\\right) + \\frac{3}{250} \\, e^{\\left(3 \\, t\\right)}\n",
       "\\end{math}"
      ],
      "text/plain": [
       "1/5*(3*cos(t)*e^t - 9*e^t*sin(t) + 2*e^(3*t))*x01 + 1/5*(2*cos(t)*e^t + 9*e^t*sin(t) - 2*e^(3*t))*x02 - 1/5*(cos(t)*e^t + 2*e^t*sin(t) - e^(3*t))*x03 - 1/250*(35*t - 52*e^t + 55)*cos(t) - 1/250*(5*t + 36*e^t - 10)*sin(t) + 3/250*e^(3*t)"
      ]
     },
     "metadata": {},
     "output_type": "display_data"
    }
   ],
   "source": [
    "sol2_homo_final=sol2_homok.subs(k1=solk2[0][0].rhs(),k2=solk2[0][1].rhs(),k3=solk2[0][2].rhs()).simplify_full()\n",
    "show(sol2_homo_final)"
   ]
  },
  {
   "cell_type": "code",
   "execution_count": 58,
   "id": "silent-pierre",
   "metadata": {},
   "outputs": [
    {
     "data": {
      "text/plain": [
       "t*sin(t)"
      ]
     },
     "execution_count": 58,
     "metadata": {},
     "output_type": "execute_result"
    }
   ],
   "source": [
    "# comprovem que és solució:\n",
    "(diff(sol2_homo_final,t,3)-5*diff(sol2_homo_final,t,2)+8*diff(sol2_homo_final,t)-6*sol2_homo_final).simplify_full()"
   ]
  },
  {
   "cell_type": "markdown",
   "id": "therapeutic-gasoline",
   "metadata": {},
   "source": [
    "##### Apartat h)"
   ]
  },
  {
   "cell_type": "code",
   "execution_count": 59,
   "id": "correct-client",
   "metadata": {},
   "outputs": [
    {
     "data": {
      "text/plain": [
       "cos(t)*e^t"
      ]
     },
     "execution_count": 59,
     "metadata": {},
     "output_type": "execute_result"
    }
   ],
   "source": [
    "g=exp(t)*cos(t)\n",
    "g"
   ]
  },
  {
   "cell_type": "code",
   "execution_count": 60,
   "id": "collectible-youth",
   "metadata": {},
   "outputs": [
    {
     "data": {
      "text/plain": [
       "cos(t)*e^t - e^t*sin(t)"
      ]
     },
     "execution_count": 60,
     "metadata": {},
     "output_type": "execute_result"
    }
   ],
   "source": [
    "dg1=diff(g,t)\n",
    "dg1"
   ]
  },
  {
   "cell_type": "code",
   "execution_count": 61,
   "id": "consistent-belle",
   "metadata": {},
   "outputs": [],
   "source": [
    "# Com que no podem anul·lar el terme e^t*sin(t) a partir de g amb combinacions a coeficients constants,\n",
    "# necessitem una altra derivada."
   ]
  },
  {
   "cell_type": "code",
   "execution_count": 62,
   "id": "powerful-choice",
   "metadata": {},
   "outputs": [
    {
     "data": {
      "text/plain": [
       "-2*e^t*sin(t)"
      ]
     },
     "execution_count": 62,
     "metadata": {},
     "output_type": "execute_result"
    }
   ],
   "source": [
    "dg2=diff(g,t,2)\n",
    "dg2"
   ]
  },
  {
   "cell_type": "code",
   "execution_count": 63,
   "id": "exterior-stick",
   "metadata": {},
   "outputs": [
    {
     "data": {
      "text/html": [
       "<html><script type=\"math/tex; mode=display\">\\newcommand{\\Bold}[1]{\\mathbf{#1}}{\\left(a_{0} + a_{1}\\right)} \\cos\\left(t\\right) e^{t} - {\\left(a_{1} + 2 \\, a_{2}\\right)} e^{t} \\sin\\left(t\\right)</script></html>"
      ],
      "text/latex": [
       "\\begin{math}\n",
       "\\newcommand{\\Bold}[1]{\\mathbf{#1}}{\\left(a_{0} + a_{1}\\right)} \\cos\\left(t\\right) e^{t} - {\\left(a_{1} + 2 \\, a_{2}\\right)} e^{t} \\sin\\left(t\\right)\n",
       "\\end{math}"
      ],
      "text/plain": [
       "(a0 + a1)*cos(t)*e^t - (a1 + 2*a2)*e^t*sin(t)"
      ]
     },
     "metadata": {},
     "output_type": "display_data"
    }
   ],
   "source": [
    "# Ara sí que hauríem de poder anul·lar tots els termes entre si a partir d'una combinació lineal entre ells.\n",
    "var('a0 a1 a2')\n",
    "edo2=(a0*g+a1*dg1+a2*dg2).simplify_full()\n",
    "show(edo2)"
   ]
  },
  {
   "cell_type": "code",
   "execution_count": 64,
   "id": "functional-connecticut",
   "metadata": {},
   "outputs": [
    {
     "data": {
      "text/plain": [
       "[[a0 == 2*r2, a1 == -2*r2, a2 == r2]]"
      ]
     },
     "execution_count": 64,
     "metadata": {},
     "output_type": "execute_result"
    }
   ],
   "source": [
    "sol_sist2=solve([a0+a1==0,a1+2*a2==0],a0,a1,a2)\n",
    "sol_sist2"
   ]
  },
  {
   "cell_type": "code",
   "execution_count": 65,
   "id": "magnetic-chile",
   "metadata": {},
   "outputs": [],
   "source": [
    "# # Si el paràmetre lliure l'igualem a 1, obtenim a=2, b=-2 i c=1\n",
    "# Per tant, la edo que satifà t*sin(t) és 2*y-2*y'+y''=0"
   ]
  },
  {
   "cell_type": "code",
   "execution_count": 66,
   "id": "numerical-relation",
   "metadata": {},
   "outputs": [],
   "source": [
    "# Si anomenem y=exp(t)*cos(t) tenim que, 2*y-2*y'+y''=0. Ara volem resoldre l'equació: \n",
    "# x'''-5*x''+ 8*x'-6*x=y. Derivant una i dues vegades obtenim:"
   ]
  },
  {
   "cell_type": "code",
   "execution_count": 67,
   "id": "sustainable-legislation",
   "metadata": {},
   "outputs": [],
   "source": [
    "j=diff(x,t,3)-5*diff(x,t,2)+ 8*diff(x,t)-6*x==y"
   ]
  },
  {
   "cell_type": "code",
   "execution_count": 68,
   "id": "early-dragon",
   "metadata": {},
   "outputs": [
    {
     "data": {
      "text/plain": [
       "-6*diff(x(t), t) + 8*diff(x(t), t, t) - 5*diff(x(t), t, t, t) + diff(x(t), t, t, t, t) == diff(y(t), t)"
      ]
     },
     "execution_count": 68,
     "metadata": {},
     "output_type": "execute_result"
    }
   ],
   "source": [
    "dj1=diff(j,t)\n",
    "dj1"
   ]
  },
  {
   "cell_type": "code",
   "execution_count": 69,
   "id": "adolescent-concern",
   "metadata": {},
   "outputs": [
    {
     "data": {
      "text/plain": [
       "-6*diff(x(t), t, t) + 8*diff(x(t), t, t, t) - 5*diff(x(t), t, t, t, t) + diff(x(t), t, t, t, t, t) == diff(y(t), t, t)"
      ]
     },
     "execution_count": 69,
     "metadata": {},
     "output_type": "execute_result"
    }
   ],
   "source": [
    "dj2=diff(j,t,2)\n",
    "dj2"
   ]
  },
  {
   "cell_type": "code",
   "execution_count": 70,
   "id": "neither-transsexual",
   "metadata": {},
   "outputs": [
    {
     "data": {
      "text/plain": [
       "-12*x(t) + 28*diff(x(t), t) - 32*diff(x(t), t, t) + 20*diff(x(t), t, t, t) - 7*diff(x(t), t, t, t, t) + diff(x(t), t, t, t, t, t) == 0"
      ]
     },
     "execution_count": 70,
     "metadata": {},
     "output_type": "execute_result"
    }
   ],
   "source": [
    "# Sumant les equacions podenrant-les de tal manera que s'anulin els termes en y, obtenim:\n",
    "(dj2-2*dj1+2*j).subs(diff(y,t,2)-2*diff(y,t)+2*y==0)"
   ]
  },
  {
   "cell_type": "code",
   "execution_count": 71,
   "id": "cardiac-basement",
   "metadata": {},
   "outputs": [
    {
     "data": {
      "text/plain": [
       "[  0   1   0   0   0]\n",
       "[  0   0   1   0   0]\n",
       "[  0   0   0   1   0]\n",
       "[  0   0   0   0   1]\n",
       "[ 12 -28  32 -20   7]"
      ]
     },
     "execution_count": 71,
     "metadata": {},
     "output_type": "execute_result"
    }
   ],
   "source": [
    "# que és un equació diferencial d'ordre 5. Resolem-la:\n",
    "# matriu del sistema lineal associat:\n",
    "A3=matrix(QQ,5,[0,1,0,0,0,0,0,1,0,0,0,0,0,1,0,0,0,0,0,1,12,-28,32,-20,7])\n",
    "A3"
   ]
  },
  {
   "cell_type": "code",
   "execution_count": 72,
   "id": "atmospheric-scale",
   "metadata": {},
   "outputs": [
    {
     "data": {
      "text/plain": [
       "[3, 1 - 1*I, 1 - 1*I, 1 + 1*I, 1 + 1*I]"
      ]
     },
     "execution_count": 72,
     "metadata": {},
     "output_type": "execute_result"
    }
   ],
   "source": [
    "A3.eigenvalues()"
   ]
  },
  {
   "cell_type": "code",
   "execution_count": 73,
   "id": "dramatic-travel",
   "metadata": {},
   "outputs": [
    {
     "data": {
      "text/plain": [
       "[(3,\n",
       "  [\n",
       "  (1, 3, 9, 27, 81)\n",
       "  ],\n",
       "  1),\n",
       " (1 - 1*I, [(1, 1 - 1*I, -2*I, -2 - 2*I, -4)], 2),\n",
       " (1 + 1*I, [(1, 1 + 1*I, 2*I, -2 + 2*I, -4)], 2)]"
      ]
     },
     "execution_count": 73,
     "metadata": {},
     "output_type": "execute_result"
    }
   ],
   "source": [
    "A3.eigenvectors_right()"
   ]
  },
  {
   "cell_type": "code",
   "execution_count": 74,
   "id": "rotary-relative",
   "metadata": {},
   "outputs": [],
   "source": [
    "u1=vector([1, 3, 9, 27, 81])\n",
    "u2=vector([1, 1 - I, -2*I, -2 - 2*I, -4])\n",
    "u3=(A3-(1-I)*identity_matrix(5)).solve_right((1, 1 - I, -2*I, -2 - 2*I, -4)) # vep generalitzat de vap 1-I\n",
    "u4=vector([1, 1 + 1*I, 2*I, -2 + 2*I, -4])\n",
    "u5=(A3-(1+I)*identity_matrix(5)).solve_right((1, 1 + I, +2*I, -2 + 2*I, -4)) # vep generalitzat de vap 1+I"
   ]
  },
  {
   "cell_type": "code",
   "execution_count": 75,
   "id": "roman-filter",
   "metadata": {},
   "outputs": [
    {
     "data": {
      "text/plain": [
       "[       1        1 -2*I - 2        1  2*I - 2]\n",
       "[       3   -I + 1       -3    I + 1       -3]\n",
       "[       9     -2*I  2*I - 2      2*I -2*I - 2]\n",
       "[      27 -2*I - 2      2*I  2*I - 2     -2*I]\n",
       "[      81       -4        0       -4        0]"
      ]
     },
     "execution_count": 75,
     "metadata": {},
     "output_type": "execute_result"
    }
   ],
   "source": [
    "B3=matrix(5,[u1,u2,u3,u4,u5]).transpose()\n",
    "B3"
   ]
  },
  {
   "cell_type": "code",
   "execution_count": 76,
   "id": "polar-novelty",
   "metadata": {},
   "outputs": [
    {
     "data": {
      "text/plain": [
       "[     3      0      0      0      0]\n",
       "[     0 -I + 1      1      0      0]\n",
       "[     0      0 -I + 1      0      0]\n",
       "[     0      0      0  I + 1      1]\n",
       "[     0      0      0      0  I + 1]"
      ]
     },
     "execution_count": 76,
     "metadata": {},
     "output_type": "execute_result"
    }
   ],
   "source": [
    "B3^-1*A3*B3"
   ]
  },
  {
   "cell_type": "code",
   "execution_count": 77,
   "id": "vietnamese-organizer",
   "metadata": {
    "scrolled": true
   },
   "outputs": [
    {
     "data": {
      "text/plain": [
       "[k1*e^(3*t), k3*e^(-(I - 1)*t), k5*e^((I + 1)*t)]"
      ]
     },
     "execution_count": 77,
     "metadata": {},
     "output_type": "execute_result"
    }
   ],
   "source": [
    "var('k1 k2 k3 k4 k5')\n",
    "s=[]\n",
    "vaps3=[3, 1 - I, 1 + I]\n",
    "const2=[k1, k3, k5]\n",
    "for i in range(0,3):\n",
    "    s.append(desolve(diff(x,t)==vaps3[i]*x,x,ivar=t).subs(_C=const2[i]))\n",
    "s"
   ]
  },
  {
   "cell_type": "code",
   "execution_count": 81,
   "id": "fancy-jackson",
   "metadata": {
    "scrolled": true
   },
   "outputs": [
    {
     "data": {
      "text/plain": [
       "(k3*t + k2)*e^(a*t)"
      ]
     },
     "execution_count": 81,
     "metadata": {},
     "output_type": "execute_result"
    }
   ],
   "source": [
    "var('a')\n",
    "sol=desolve(diff(x,t)==a*x+k3*exp(a*t),x,ivar=t).subs(_C=k2)\n",
    "sol\n",
    "# Nota: ho faig així perquè la instrucció \"desolve(diff(x,t)==(1-I)*x+k3*exp((1-I)*t),x,ivar=t)\" dona error i \n",
    "# sé exactament per què."
   ]
  },
  {
   "cell_type": "code",
   "execution_count": 88,
   "id": "hungry-portfolio",
   "metadata": {},
   "outputs": [],
   "source": [
    "sol2=sol.subs(a=1-I)\n",
    "sol4=sol.subs(a=1+I).subs(k2=k4).subs(k3=k5)"
   ]
  },
  {
   "cell_type": "code",
   "execution_count": 89,
   "id": "meaning-spoke",
   "metadata": {},
   "outputs": [
    {
     "data": {
      "text/plain": [
       "(k1*e^(3*t), (k3*t + k2)*e^(-(I - 1)*t), k3*e^(-(I - 1)*t), (k5*t + k4)*e^((I + 1)*t), k5*e^((I + 1)*t))"
      ]
     },
     "execution_count": 89,
     "metadata": {},
     "output_type": "execute_result"
    }
   ],
   "source": [
    "sol_homo5=vector([s[0],sol2,s[1],sol4,s[2]])\n",
    "sol_homo5"
   ]
  },
  {
   "cell_type": "code",
   "execution_count": 90,
   "id": "absent-graham",
   "metadata": {},
   "outputs": [
    {
     "data": {
      "text/plain": [
       "(k1*e^(3*t) + (k5*t + k4)*e^((I + 1)*t) + (2*I - 2)*k5*e^((I + 1)*t) + (k3*t + k2)*e^(-(I - 1)*t) - (2*I + 2)*k3*e^(-(I - 1)*t), 3*k1*e^(3*t) + (I + 1)*(k5*t + k4)*e^((I + 1)*t) - 3*k5*e^((I + 1)*t) - (I - 1)*(k3*t + k2)*e^(-(I - 1)*t) - 3*k3*e^(-(I - 1)*t), 9*k1*e^(3*t) + 2*I*(k5*t + k4)*e^((I + 1)*t) - (2*I + 2)*k5*e^((I + 1)*t) - 2*I*(k3*t + k2)*e^(-(I - 1)*t) + (2*I - 2)*k3*e^(-(I - 1)*t), 27*k1*e^(3*t) + (2*I - 2)*(k5*t + k4)*e^((I + 1)*t) - 2*I*k5*e^((I + 1)*t) - (2*I + 2)*(k3*t + k2)*e^(-(I - 1)*t) + 2*I*k3*e^(-(I - 1)*t), 81*k1*e^(3*t) - 4*(k5*t + k4)*e^((I + 1)*t) - 4*(k3*t + k2)*e^(-(I - 1)*t))"
      ]
     },
     "execution_count": 90,
     "metadata": {},
     "output_type": "execute_result"
    }
   ],
   "source": [
    "sol3_homo=B3*sol_homo5\n",
    "sol3_homo"
   ]
  },
  {
   "cell_type": "code",
   "execution_count": 94,
   "id": "thirty-association",
   "metadata": {},
   "outputs": [
    {
     "name": "stdout",
     "output_type": "stream",
     "text": [
      "0\n",
      "0\n",
      "0\n",
      "0\n",
      "0\n"
     ]
    }
   ],
   "source": [
    "# Comprovem que haguem fet bé els càlculs\n",
    "for i in range(0,4):\n",
    "    print(diff(sol3_homo[i],t)-sol3_homo[i+1])\n",
    "print(diff(sol3_homo[4],t)- (12*sol3_homo[0]  -28*sol3_homo[1] +32*sol3_homo[2]  -20*sol3_homo[3] +7*sol3_homo[4]))"
   ]
  },
  {
   "cell_type": "code",
   "execution_count": 95,
   "id": "permanent-integrity",
   "metadata": {},
   "outputs": [
    {
     "data": {
      "text/html": [
       "<html><script type=\"math/tex; mode=display\">\\newcommand{\\Bold}[1]{\\mathbf{#1}}k_{1} e^{\\left(3 \\, t\\right)} + {\\left(k_{5} t + k_{4}\\right)} e^{\\left(\\left(i + 1\\right) \\, t\\right)} + \\left(2 i - 2\\right) \\, k_{5} e^{\\left(\\left(i + 1\\right) \\, t\\right)} + {\\left(k_{3} t + k_{2}\\right)} e^{\\left(-\\left(i - 1\\right) \\, t\\right)} - \\left(2 i + 2\\right) \\, k_{3} e^{\\left(-\\left(i - 1\\right) \\, t\\right)}</script></html>"
      ],
      "text/latex": [
       "\\begin{math}\n",
       "\\newcommand{\\Bold}[1]{\\mathbf{#1}}k_{1} e^{\\left(3 \\, t\\right)} + {\\left(k_{5} t + k_{4}\\right)} e^{\\left(\\left(i + 1\\right) \\, t\\right)} + \\left(2 i - 2\\right) \\, k_{5} e^{\\left(\\left(i + 1\\right) \\, t\\right)} + {\\left(k_{3} t + k_{2}\\right)} e^{\\left(-\\left(i - 1\\right) \\, t\\right)} - \\left(2 i + 2\\right) \\, k_{3} e^{\\left(-\\left(i - 1\\right) \\, t\\right)}\n",
       "\\end{math}"
      ],
      "text/plain": [
       "k1*e^(3*t) + (k5*t + k4)*e^((I + 1)*t) + (2*I - 2)*k5*e^((I + 1)*t) + (k3*t + k2)*e^(-(I - 1)*t) - (2*I + 2)*k3*e^(-(I - 1)*t)"
      ]
     },
     "metadata": {},
     "output_type": "display_data"
    }
   ],
   "source": [
    "show(sol3_homo[0]) # solució de l'equació diferencial que ens demanàven."
   ]
  },
  {
   "cell_type": "code",
   "execution_count": 96,
   "id": "geographic-numbers",
   "metadata": {},
   "outputs": [
    {
     "name": "stdout",
     "output_type": "stream",
     "text": [
      "1\n",
      "1\n"
     ]
    }
   ],
   "source": [
    "# Però tenim 5 condicions inicials en un problema d'una equació diferencial d'ordre 3. Falta imposar les \n",
    "# condicions per a y!\n",
    "# Observem que:\n",
    "print(g(0))\n",
    "print(dg1(0))"
   ]
  },
  {
   "cell_type": "code",
   "execution_count": 97,
   "id": "minor-election",
   "metadata": {},
   "outputs": [
    {
     "data": {
      "text/plain": [
       "-(4*I + 2)*k5*e^((I + 1)*t) + (4*I - 2)*k3*e^(-(I - 1)*t)"
      ]
     },
     "execution_count": 97,
     "metadata": {},
     "output_type": "execute_result"
    }
   ],
   "source": [
    "J=sol3_homo[3]-5*sol3_homo[2]+8*sol3_homo[1]-6*sol3_homo[0]\n",
    "J"
   ]
  },
  {
   "cell_type": "code",
   "execution_count": 100,
   "id": "needed-grant",
   "metadata": {},
   "outputs": [
    {
     "data": {
      "text/plain": [
       "[[k3 == (-1/10*I - 1/20), k5 == (1/10*I - 1/20)]]"
      ]
     },
     "execution_count": 100,
     "metadata": {},
     "output_type": "execute_result"
    }
   ],
   "source": [
    "sol2k1=solve([J(t=0)==g(0),diff(J,t)(t=0)==dg1(0)],k3,k5)\n",
    "sol2k1"
   ]
  },
  {
   "cell_type": "code",
   "execution_count": 101,
   "id": "wired-corruption",
   "metadata": {},
   "outputs": [
    {
     "data": {
      "text/plain": [
       "k1*e^(3*t) + 1/20*(20*k4 + (2*I - 1)*t)*e^((I + 1)*t) + 1/20*(20*k2 - (2*I + 1)*t)*e^(-(I - 1)*t) - (3/10*I + 1/10)*e^((I + 1)*t) + (3/10*I - 1/10)*e^(-(I - 1)*t)"
      ]
     },
     "execution_count": 101,
     "metadata": {},
     "output_type": "execute_result"
    }
   ],
   "source": [
    "sol3_homok=sol3_homo[0].subs(k3=sol2k1[0][0].rhs(),k5=sol2k1[0][1].rhs())\n",
    "sol3_homok"
   ]
  },
  {
   "cell_type": "code",
   "execution_count": 103,
   "id": "composite-retail",
   "metadata": {},
   "outputs": [
    {
     "data": {
      "text/plain": [
       "[[k1 == 2/5*x01 - 2/5*x02 + 1/5*x03 + 2/25, k2 == -(9/10*I - 3/10)*x01 + (9/10*I + 1/5)*x02 - (1/5*I + 1/10)*x03 - 33/100*I + 3/50, k4 == (9/10*I + 3/10)*x01 - (9/10*I - 1/5)*x02 + (1/5*I - 1/10)*x03 + 33/100*I + 3/50]]"
      ]
     },
     "execution_count": 103,
     "metadata": {},
     "output_type": "execute_result"
    }
   ],
   "source": [
    "sol2k2=solve([sol3_homok(t=0)==x01,diff(sol3_homok,t)(t=0)==x02,diff(sol3_homok,t,2)(t=0)==x03],k1,k2,k4)\n",
    "sol2k2"
   ]
  },
  {
   "cell_type": "code",
   "execution_count": 104,
   "id": "convenient-clinic",
   "metadata": {},
   "outputs": [
    {
     "data": {
      "text/html": [
       "<html><script type=\"math/tex; mode=display\">\\newcommand{\\Bold}[1]{\\mathbf{#1}}-\\frac{1}{50} \\, {\\left(5 \\, t + 4\\right)} \\cos\\left(t\\right) e^{t} - \\frac{1}{50} \\, {\\left(10 \\, t + 3\\right)} e^{t} \\sin\\left(t\\right) + \\frac{1}{5} \\, {\\left(3 \\, \\cos\\left(t\\right) e^{t} - 9 \\, e^{t} \\sin\\left(t\\right) + 2 \\, e^{\\left(3 \\, t\\right)}\\right)} x_{01} + \\frac{1}{5} \\, {\\left(2 \\, \\cos\\left(t\\right) e^{t} + 9 \\, e^{t} \\sin\\left(t\\right) - 2 \\, e^{\\left(3 \\, t\\right)}\\right)} x_{02} - \\frac{1}{5} \\, {\\left(\\cos\\left(t\\right) e^{t} + 2 \\, e^{t} \\sin\\left(t\\right) - e^{\\left(3 \\, t\\right)}\\right)} x_{03} + \\frac{2}{25} \\, e^{\\left(3 \\, t\\right)}</script></html>"
      ],
      "text/latex": [
       "\\begin{math}\n",
       "\\newcommand{\\Bold}[1]{\\mathbf{#1}}-\\frac{1}{50} \\, {\\left(5 \\, t + 4\\right)} \\cos\\left(t\\right) e^{t} - \\frac{1}{50} \\, {\\left(10 \\, t + 3\\right)} e^{t} \\sin\\left(t\\right) + \\frac{1}{5} \\, {\\left(3 \\, \\cos\\left(t\\right) e^{t} - 9 \\, e^{t} \\sin\\left(t\\right) + 2 \\, e^{\\left(3 \\, t\\right)}\\right)} x_{01} + \\frac{1}{5} \\, {\\left(2 \\, \\cos\\left(t\\right) e^{t} + 9 \\, e^{t} \\sin\\left(t\\right) - 2 \\, e^{\\left(3 \\, t\\right)}\\right)} x_{02} - \\frac{1}{5} \\, {\\left(\\cos\\left(t\\right) e^{t} + 2 \\, e^{t} \\sin\\left(t\\right) - e^{\\left(3 \\, t\\right)}\\right)} x_{03} + \\frac{2}{25} \\, e^{\\left(3 \\, t\\right)}\n",
       "\\end{math}"
      ],
      "text/plain": [
       "-1/50*(5*t + 4)*cos(t)*e^t - 1/50*(10*t + 3)*e^t*sin(t) + 1/5*(3*cos(t)*e^t - 9*e^t*sin(t) + 2*e^(3*t))*x01 + 1/5*(2*cos(t)*e^t + 9*e^t*sin(t) - 2*e^(3*t))*x02 - 1/5*(cos(t)*e^t + 2*e^t*sin(t) - e^(3*t))*x03 + 2/25*e^(3*t)"
      ]
     },
     "metadata": {},
     "output_type": "display_data"
    }
   ],
   "source": [
    "sol3_homo_final=sol3_homok.subs(k1=sol2k2[0][0].rhs(),k2=sol2k2[0][1].rhs(),k4=sol2k2[0][2].rhs()).simplify_full()\n",
    "show(sol3_homo_final)"
   ]
  },
  {
   "cell_type": "code",
   "execution_count": 105,
   "id": "corrected-seventh",
   "metadata": {},
   "outputs": [
    {
     "data": {
      "text/plain": [
       "cos(t)*e^t"
      ]
     },
     "execution_count": 105,
     "metadata": {},
     "output_type": "execute_result"
    }
   ],
   "source": [
    "# comprovem que és solució:\n",
    "(diff(sol3_homo_final,t,3)-5*diff(sol3_homo_final,t,2)+8*diff(sol3_homo_final,t)-6*sol3_homo_final).simplify_full()"
   ]
  },
  {
   "cell_type": "markdown",
   "id": "everyday-monaco",
   "metadata": {},
   "source": [
    "##### Apartat i)"
   ]
  },
  {
   "cell_type": "code",
   "execution_count": 130,
   "id": "signal-tactics",
   "metadata": {},
   "outputs": [
    {
     "data": {
      "text/plain": [
       "cos(t)*e^t + t*sin(t)"
      ]
     },
     "execution_count": 130,
     "metadata": {},
     "output_type": "execute_result"
    }
   ],
   "source": [
    "# si tenim una solució x que compleix x'''-5x''+8x'-6x=t*sin(t) i una altra y que compleix \n",
    "# y'''-5y''+8y'-6y=e^t*cos(t), alshesores per linealitat de la derivada la funció z=x+y complirà\n",
    "# z'''-5z''+8z'-6z=t*sin(t)+e^t*cos(t).\n",
    "# Comprovem-ho:\n",
    "sol4_homo_final=sol2_homo_final+sol3_homo_final\n",
    "(diff(sol4_homo_final,t,3)-5*diff(sol4_homo_final,t,2)+8*diff(sol4_homo_final,t)-6*sol4_homo_final).simplify_full()"
   ]
  },
  {
   "cell_type": "code",
   "execution_count": 131,
   "id": "meaning-maple",
   "metadata": {},
   "outputs": [
    {
     "name": "stdout",
     "output_type": "stream",
     "text": [
      "2*x01\n",
      "2*x02\n",
      "2*x03\n"
     ]
    }
   ],
   "source": [
    "# Per observem que llavors les condicions incials deixen de ser x01, x02 i x03.\n",
    "print(sol4_homo_final(0))\n",
    "print(diff(sol4_homo_final,t)(0))\n",
    "print(diff(sol4_homo_final,t,2)(0))"
   ]
  },
  {
   "cell_type": "code",
   "execution_count": 132,
   "id": "swedish-footwear",
   "metadata": {},
   "outputs": [
    {
     "data": {
      "text/plain": [
       "cos(t)*e^t + t*sin(t)"
      ]
     },
     "execution_count": 132,
     "metadata": {},
     "output_type": "execute_result"
    }
   ],
   "source": [
    "# El que hem de fer doncs és restar a sol4_homo_final la solució homogènia del problema, ja que (de nou per \n",
    "# linealitat) no alterarà la part no homogènia de la equació però sí que alterarà les condicions inicals.\n",
    "# Comprovem-ho:\n",
    "sol_homo_final=sol2_homo_final+sol3_homo_final-sol1_homo_final[0]\n",
    "(diff(sol_homo_final,t,3)-5*diff(sol_homo_final,t,2)+8*diff(sol_homo_final,t)-6*sol_homo_final).simplify_full()"
   ]
  },
  {
   "cell_type": "code",
   "execution_count": 133,
   "id": "alternative-neutral",
   "metadata": {},
   "outputs": [
    {
     "name": "stdout",
     "output_type": "stream",
     "text": [
      "x01\n",
      "x02\n",
      "x03\n"
     ]
    }
   ],
   "source": [
    "print(sol_homo_final(0))\n",
    "print(diff(sol_homo_final,t)(0))\n",
    "print(diff(sol_homo_final,t,2)(0))"
   ]
  },
  {
   "cell_type": "code",
   "execution_count": 134,
   "id": "separated-czech",
   "metadata": {},
   "outputs": [
    {
     "data": {
      "text/html": [
       "<html><script type=\"math/tex; mode=display\">\\newcommand{\\Bold}[1]{\\mathbf{#1}}-\\frac{1}{50} \\, {\\left(5 \\, t + 4\\right)} \\cos\\left(t\\right) e^{t} - \\frac{1}{50} \\, {\\left(10 \\, t + 3\\right)} e^{t} \\sin\\left(t\\right) + \\frac{1}{5} \\, {\\left(3 \\, \\cos\\left(t\\right) e^{t} - 9 \\, e^{t} \\sin\\left(t\\right) + 2 \\, e^{\\left(3 \\, t\\right)}\\right)} x_{01} + \\frac{1}{5} \\, {\\left(2 \\, \\cos\\left(t\\right) e^{t} + 9 \\, e^{t} \\sin\\left(t\\right) - 2 \\, e^{\\left(3 \\, t\\right)}\\right)} x_{02} - \\frac{1}{5} \\, {\\left(\\cos\\left(t\\right) e^{t} + 2 \\, e^{t} \\sin\\left(t\\right) - e^{\\left(3 \\, t\\right)}\\right)} x_{03} - \\frac{1}{250} \\, {\\left(35 \\, t - 52 \\, e^{t} + 55\\right)} \\cos\\left(t\\right) - \\frac{1}{250} \\, {\\left(5 \\, t + 36 \\, e^{t} - 10\\right)} \\sin\\left(t\\right) + \\frac{23}{250} \\, e^{\\left(3 \\, t\\right)}</script></html>"
      ],
      "text/latex": [
       "\\begin{math}\n",
       "\\newcommand{\\Bold}[1]{\\mathbf{#1}}-\\frac{1}{50} \\, {\\left(5 \\, t + 4\\right)} \\cos\\left(t\\right) e^{t} - \\frac{1}{50} \\, {\\left(10 \\, t + 3\\right)} e^{t} \\sin\\left(t\\right) + \\frac{1}{5} \\, {\\left(3 \\, \\cos\\left(t\\right) e^{t} - 9 \\, e^{t} \\sin\\left(t\\right) + 2 \\, e^{\\left(3 \\, t\\right)}\\right)} x_{01} + \\frac{1}{5} \\, {\\left(2 \\, \\cos\\left(t\\right) e^{t} + 9 \\, e^{t} \\sin\\left(t\\right) - 2 \\, e^{\\left(3 \\, t\\right)}\\right)} x_{02} - \\frac{1}{5} \\, {\\left(\\cos\\left(t\\right) e^{t} + 2 \\, e^{t} \\sin\\left(t\\right) - e^{\\left(3 \\, t\\right)}\\right)} x_{03} - \\frac{1}{250} \\, {\\left(35 \\, t - 52 \\, e^{t} + 55\\right)} \\cos\\left(t\\right) - \\frac{1}{250} \\, {\\left(5 \\, t + 36 \\, e^{t} - 10\\right)} \\sin\\left(t\\right) + \\frac{23}{250} \\, e^{\\left(3 \\, t\\right)}\n",
       "\\end{math}"
      ],
      "text/plain": [
       "-1/50*(5*t + 4)*cos(t)*e^t - 1/50*(10*t + 3)*e^t*sin(t) + 1/5*(3*cos(t)*e^t - 9*e^t*sin(t) + 2*e^(3*t))*x01 + 1/5*(2*cos(t)*e^t + 9*e^t*sin(t) - 2*e^(3*t))*x02 - 1/5*(cos(t)*e^t + 2*e^t*sin(t) - e^(3*t))*x03 - 1/250*(35*t - 52*e^t + 55)*cos(t) - 1/250*(5*t + 36*e^t - 10)*sin(t) + 23/250*e^(3*t)"
      ]
     },
     "metadata": {},
     "output_type": "display_data"
    }
   ],
   "source": [
    "# Per tant, la solució final és: \n",
    "show(sol_homo_final)"
   ]
  },
  {
   "cell_type": "markdown",
   "id": "joined-springfield",
   "metadata": {},
   "source": [
    "##### Apartat j)"
   ]
  },
  {
   "cell_type": "code",
   "execution_count": 136,
   "id": "mighty-fancy",
   "metadata": {},
   "outputs": [
    {
     "data": {
      "text/html": [
       "<html><script type=\"math/tex; mode=display\">\\newcommand{\\Bold}[1]{\\mathbf{#1}}-\\frac{1}{250} \\, {\\left({\\left(25 \\, t - 82\\right)} e^{t} + 35 \\, t + 55\\right)} \\cos\\left(t\\right) - \\frac{1}{250} \\, {\\left({\\left(50 \\, t - 299\\right)} e^{t} + 5 \\, t - 10\\right)} \\sin\\left(t\\right) - \\frac{27}{250} \\, e^{\\left(3 \\, t\\right)}</script></html>"
      ],
      "text/latex": [
       "\\begin{math}\n",
       "\\newcommand{\\Bold}[1]{\\mathbf{#1}}-\\frac{1}{250} \\, {\\left({\\left(25 \\, t - 82\\right)} e^{t} + 35 \\, t + 55\\right)} \\cos\\left(t\\right) - \\frac{1}{250} \\, {\\left({\\left(50 \\, t - 299\\right)} e^{t} + 5 \\, t - 10\\right)} \\sin\\left(t\\right) - \\frac{27}{250} \\, e^{\\left(3 \\, t\\right)}\n",
       "\\end{math}"
      ],
      "text/plain": [
       "-1/250*((25*t - 82)*e^t + 35*t + 55)*cos(t) - 1/250*((50*t - 299)*e^t + 5*t - 10)*sin(t) - 27/250*e^(3*t)"
      ]
     },
     "metadata": {},
     "output_type": "display_data"
    }
   ],
   "source": [
    "# posant condicions inicials x(0)=0, x'(0)=1 i x''(0)=1, tenim:\n",
    "show(sol_homo_final.subs(x01=0,x02=1,x03=1).simplify_full())"
   ]
  },
  {
   "cell_type": "code",
   "execution_count": null,
   "id": "blocked-boston",
   "metadata": {},
   "outputs": [],
   "source": []
  },
  {
   "cell_type": "code",
   "execution_count": null,
   "id": "seasonal-current",
   "metadata": {},
   "outputs": [],
   "source": []
  },
  {
   "cell_type": "code",
   "execution_count": 20,
   "id": "grateful-flavor",
   "metadata": {},
   "outputs": [
    {
     "data": {
      "text/plain": [
       "(e^((1 - 1*I)*t), (1 - 1*I)*e^((1 - 1*I)*t), -2*I*e^((1 - 1*I)*t))"
      ]
     },
     "execution_count": 20,
     "metadata": {},
     "output_type": "execute_result"
    }
   ],
   "source": [
    "\n",
    "u=veps[1][1][0]\n",
    "sol_complexa=exp(vaps[1]*t)*u\n",
    "sol_complexa"
   ]
  },
  {
   "cell_type": "code",
   "execution_count": 28,
   "id": "collect-static",
   "metadata": {},
   "outputs": [
    {
     "data": {
      "text/plain": [
       "(cos(-t)*e^t, cos(-t)*e^t + e^t*sin(-t), 2*e^t*sin(-t))"
      ]
     },
     "execution_count": 28,
     "metadata": {},
     "output_type": "execute_result"
    }
   ],
   "source": [
    "sol2=vector([sol_complexa[0].real(),sol_complexa[1].real(),sol_complexa[2].real()])\n",
    "sol2"
   ]
  },
  {
   "cell_type": "code",
   "execution_count": 29,
   "id": "weekly-cheat",
   "metadata": {},
   "outputs": [
    {
     "data": {
      "text/plain": [
       "(e^t*sin(-t), -cos(-t)*e^t + e^t*sin(-t), -2*cos(-t)*e^t)"
      ]
     },
     "execution_count": 29,
     "metadata": {},
     "output_type": "execute_result"
    }
   ],
   "source": [
    "sol3=vector([sol_complexa[0].imag(),sol_complexa[1].imag(),sol_complexa[2].imag()])\n",
    "sol3"
   ]
  },
  {
   "cell_type": "code",
   "execution_count": 31,
   "id": "rocky-hundred",
   "metadata": {},
   "outputs": [
    {
     "data": {
      "text/plain": [
       "True"
      ]
     },
     "execution_count": 31,
     "metadata": {},
     "output_type": "execute_result"
    }
   ],
   "source": [
    "# comprovem que aquests dos vectors són efectivament solucions.\n",
    "bool(diff(sol2,t)==A*sol2)"
   ]
  },
  {
   "cell_type": "code",
   "execution_count": 32,
   "id": "parallel-testimony",
   "metadata": {},
   "outputs": [
    {
     "data": {
      "text/plain": [
       "True"
      ]
     },
     "execution_count": 32,
     "metadata": {},
     "output_type": "execute_result"
    }
   ],
   "source": [
    "bool(diff(sol3,t)==A*sol3)"
   ]
  },
  {
   "cell_type": "code",
   "execution_count": 34,
   "id": "sweet-surgery",
   "metadata": {},
   "outputs": [
    {
     "name": "stdout",
     "output_type": "stream",
     "text": [
      "(1, 3, 9)\n",
      "(1, 1, 0)\n",
      "(0, -1, -2)\n"
     ]
    }
   ],
   "source": [
    "# Per tant, tenim 3 solucions independents perquè els vectors en t=0 són independents:\n",
    "print(sol1(0))\n",
    "print(sol2(0))\n",
    "print(sol3(0))"
   ]
  },
  {
   "cell_type": "code",
   "execution_count": 40,
   "id": "backed-harvey",
   "metadata": {},
   "outputs": [
    {
     "data": {
      "text/plain": [
       "-5"
      ]
     },
     "execution_count": 40,
     "metadata": {},
     "output_type": "execute_result"
    }
   ],
   "source": [
    "B=matrix(3,[sol1,sol2,sol3])\n",
    "det(B(t=0))"
   ]
  },
  {
   "cell_type": "code",
   "execution_count": null,
   "id": "instant-qualification",
   "metadata": {},
   "outputs": [],
   "source": [
    "# que és diferent de 0. Per tant, les solucions són l.i. en 0 i per tant, les solucions són linealment \n",
    "# independents en tot valor de t."
   ]
  },
  {
   "cell_type": "code",
   "execution_count": 41,
   "id": "daily-haiti",
   "metadata": {},
   "outputs": [
    {
     "data": {
      "text/plain": [
       "(x01, x02, x03)"
      ]
     },
     "execution_count": 41,
     "metadata": {},
     "output_type": "execute_result"
    }
   ],
   "source": [
    "var('x01 x02 x03') # condicions inicials."
   ]
  },
  {
   "cell_type": "code",
   "execution_count": 45,
   "id": "robust-links",
   "metadata": {},
   "outputs": [
    {
     "data": {
      "text/html": [
       "<html><script type=\"math/tex; mode=display\">\\newcommand{\\Bold}[1]{\\mathbf{#1}}\\left(x_{02} \\cos\\left(-t\\right) e^{t} + x_{03} e^{t} \\sin\\left(-t\\right) + x_{01} e^{\\left(3 \\, t\\right)},\\,{\\left(\\cos\\left(-t\\right) e^{t} + e^{t} \\sin\\left(-t\\right)\\right)} x_{02} - {\\left(\\cos\\left(-t\\right) e^{t} - e^{t} \\sin\\left(-t\\right)\\right)} x_{03} + 3 \\, x_{01} e^{\\left(3 \\, t\\right)},\\,-2 \\, x_{03} \\cos\\left(-t\\right) e^{t} + 2 \\, x_{02} e^{t} \\sin\\left(-t\\right) + 9 \\, x_{01} e^{\\left(3 \\, t\\right)}\\right)</script></html>"
      ],
      "text/latex": [
       "\\begin{math}\n",
       "\\newcommand{\\Bold}[1]{\\mathbf{#1}}\\left(x_{02} \\cos\\left(-t\\right) e^{t} + x_{03} e^{t} \\sin\\left(-t\\right) + x_{01} e^{\\left(3 \\, t\\right)},\\,{\\left(\\cos\\left(-t\\right) e^{t} + e^{t} \\sin\\left(-t\\right)\\right)} x_{02} - {\\left(\\cos\\left(-t\\right) e^{t} - e^{t} \\sin\\left(-t\\right)\\right)} x_{03} + 3 \\, x_{01} e^{\\left(3 \\, t\\right)},\\,-2 \\, x_{03} \\cos\\left(-t\\right) e^{t} + 2 \\, x_{02} e^{t} \\sin\\left(-t\\right) + 9 \\, x_{01} e^{\\left(3 \\, t\\right)}\\right)\n",
       "\\end{math}"
      ],
      "text/plain": [
       "(x02*cos(-t)*e^t + x03*e^t*sin(-t) + x01*e^(3*t), (cos(-t)*e^t + e^t*sin(-t))*x02 - (cos(-t)*e^t - e^t*sin(-t))*x03 + 3*x01*e^(3*t), -2*x03*cos(-t)*e^t + 2*x02*e^t*sin(-t) + 9*x01*e^(3*t))"
      ]
     },
     "metadata": {},
     "output_type": "display_data"
    }
   ],
   "source": [
    "sol_homo3=x01*sol1+x02*sol2+x03*sol3\n",
    "show(sol_homo3)"
   ]
  },
  {
   "cell_type": "code",
   "execution_count": null,
   "id": "greater-romantic",
   "metadata": {},
   "outputs": [],
   "source": [
    "# Per obtenir la solució de l"
   ]
  },
  {
   "cell_type": "code",
   "execution_count": null,
   "id": "matched-slave",
   "metadata": {},
   "outputs": [],
   "source": []
  },
  {
   "cell_type": "markdown",
   "id": "prostate-shipping",
   "metadata": {},
   "source": [
    "### 2 - Reconstruint equacions"
   ]
  },
  {
   "cell_type": "code",
   "execution_count": 100,
   "id": "celtic-tuner",
   "metadata": {},
   "outputs": [],
   "source": [
    "reset()"
   ]
  },
  {
   "cell_type": "code",
   "execution_count": 101,
   "id": "liquid-alcohol",
   "metadata": {},
   "outputs": [
    {
     "data": {
      "text/plain": [
       "t"
      ]
     },
     "execution_count": 101,
     "metadata": {},
     "output_type": "execute_result"
    }
   ],
   "source": [
    "var('t')"
   ]
  },
  {
   "cell_type": "code",
   "execution_count": 102,
   "id": "similar-catholic",
   "metadata": {},
   "outputs": [],
   "source": [
    "x1=function('x1')(t)\n",
    "x2=function('x2')(t)\n",
    "x3=function('x3')(t)\n",
    "x4=function('x4')(t)\n",
    "x5=function('x5')(t)\n",
    "x6=function('x6')(t)\n",
    "x7=function('x7')(t)"
   ]
  },
  {
   "cell_type": "code",
   "execution_count": 103,
   "id": "going-personal",
   "metadata": {},
   "outputs": [],
   "source": [
    "x1=exp(2*t)\n",
    "x2=2*exp(3*t)\n",
    "x3=3*exp(7*t)\n",
    "x4=7*exp(4*t)*sin(2*t)\n",
    "x5=-exp(-4*t)*cos(2*t)\n",
    "x6=4*t^2*exp(3*t)*sin(4*t)\n",
    "x7=5*t^4*exp(3*t)*sin(4*t)"
   ]
  },
  {
   "cell_type": "markdown",
   "id": "civilian-liabilities",
   "metadata": {},
   "source": [
    "##### Apartat a)"
   ]
  },
  {
   "cell_type": "code",
   "execution_count": 195,
   "id": "pregnant-vancouver",
   "metadata": {},
   "outputs": [
    {
     "data": {
      "text/plain": [
       "(e^(2*t), 2*e^(3*t), 3*e^(7*t))"
      ]
     },
     "execution_count": 195,
     "metadata": {},
     "output_type": "execute_result"
    }
   ],
   "source": [
    "v=vector([x1,x2,x3])\n",
    "v"
   ]
  },
  {
   "cell_type": "code",
   "execution_count": 186,
   "id": "stuffed-vinyl",
   "metadata": {
    "scrolled": true
   },
   "outputs": [
    {
     "data": {
      "text/plain": [
       "(2*e^(2*t), 6*e^(3*t), 21*e^(7*t))"
      ]
     },
     "execution_count": 186,
     "metadata": {},
     "output_type": "execute_result"
    }
   ],
   "source": [
    "dv=diff(v,t)\n",
    "dv"
   ]
  },
  {
   "cell_type": "code",
   "execution_count": 201,
   "id": "broken-institute",
   "metadata": {},
   "outputs": [
    {
     "data": {
      "text/plain": [
       "(4*e^(2*t), 18*e^(3*t), 147*e^(7*t))"
      ]
     },
     "execution_count": 201,
     "metadata": {},
     "output_type": "execute_result"
    }
   ],
   "source": [
    "dv2=diff(v,t,2)\n",
    "dv2"
   ]
  },
  {
   "cell_type": "code",
   "execution_count": 200,
   "id": "accessible-representation",
   "metadata": {},
   "outputs": [
    {
     "data": {
      "text/plain": [
       "(8*e^(2*t), 54*e^(3*t), 1029*e^(7*t))"
      ]
     },
     "execution_count": 200,
     "metadata": {},
     "output_type": "execute_result"
    }
   ],
   "source": [
    "dv3=diff(v,t,3)\n",
    "dv3"
   ]
  },
  {
   "cell_type": "code",
   "execution_count": 203,
   "id": "moral-pantyhose",
   "metadata": {},
   "outputs": [
    {
     "data": {
      "text/plain": [
       "[  4*e^(2*t)   2*e^(2*t)     e^(2*t)]\n",
       "[ 18*e^(3*t)   6*e^(3*t)   2*e^(3*t)]\n",
       "[147*e^(7*t)  21*e^(7*t)   3*e^(7*t)]"
      ]
     },
     "execution_count": 203,
     "metadata": {},
     "output_type": "execute_result"
    }
   ],
   "source": [
    "# observem que com que x1, x2, x3 són l.i., com a mínim l'equació diferencial ha de ser d'ordre 3.\n",
    "# volem intentar resoldre: dv3+a*dv2+b*dv+c*v=(0,0,0)\n",
    "A=matrix(3,[dv2,dv,v]).transpose()\n",
    "A"
   ]
  },
  {
   "cell_type": "code",
   "execution_count": 207,
   "id": "worth-official",
   "metadata": {},
   "outputs": [
    {
     "data": {
      "text/plain": [
       "(-12, 41, -42)"
      ]
     },
     "execution_count": 207,
     "metadata": {},
     "output_type": "execute_result"
    }
   ],
   "source": [
    "A.solve_right(-dv3)"
   ]
  },
  {
   "cell_type": "code",
   "execution_count": 208,
   "id": "absent-witch",
   "metadata": {},
   "outputs": [],
   "source": [
    "# Per tant, el sistema demanat és x'''-12*x''+41*x'-42*x=0"
   ]
  },
  {
   "cell_type": "code",
   "execution_count": 209,
   "id": "existing-display",
   "metadata": {},
   "outputs": [
    {
     "name": "stdout",
     "output_type": "stream",
     "text": [
      "0\n",
      "0\n",
      "0\n"
     ]
    }
   ],
   "source": [
    "# Comprovació: \n",
    "for i in range(0,3):\n",
    "    print(diff(v[i],t,3)-12*diff(v[i],t,2)+41*diff(v[i],t)-42*v[i])"
   ]
  },
  {
   "cell_type": "markdown",
   "id": "bound-action",
   "metadata": {},
   "source": [
    "##### Apartat b)"
   ]
  },
  {
   "cell_type": "code",
   "execution_count": 136,
   "id": "respective-operator",
   "metadata": {},
   "outputs": [
    {
     "data": {
      "text/plain": [
       "(7*e^(4*t)*sin(2*t), -cos(2*t)*e^(-4*t))"
      ]
     },
     "execution_count": 136,
     "metadata": {},
     "output_type": "execute_result"
    }
   ],
   "source": [
    "u=vector([x4,x5])\n",
    "u"
   ]
  },
  {
   "cell_type": "code",
   "execution_count": 138,
   "id": "suspended-benefit",
   "metadata": {},
   "outputs": [
    {
     "data": {
      "text/plain": [
       "(14*cos(2*t)*e^(4*t) + 28*e^(4*t)*sin(2*t), 4*cos(2*t)*e^(-4*t) + 2*e^(-4*t)*sin(2*t))"
      ]
     },
     "execution_count": 138,
     "metadata": {},
     "output_type": "execute_result"
    }
   ],
   "source": [
    "du=diff(u,t)\n",
    "du"
   ]
  },
  {
   "cell_type": "code",
   "execution_count": 25,
   "id": "indonesian-clock",
   "metadata": {},
   "outputs": [],
   "source": [
    "# Com que no podem anul·lar el terme 14*cos(2*t)*e^(4*t) a partir de u amb combinacions a coeficients constants,\n",
    "# necessitem una altra derivada."
   ]
  },
  {
   "cell_type": "code",
   "execution_count": 139,
   "id": "listed-arizona",
   "metadata": {},
   "outputs": [
    {
     "data": {
      "text/plain": [
       "(112*cos(2*t)*e^(4*t) + 84*e^(4*t)*sin(2*t), -12*cos(2*t)*e^(-4*t) - 16*e^(-4*t)*sin(2*t))"
      ]
     },
     "execution_count": 139,
     "metadata": {},
     "output_type": "execute_result"
    }
   ],
   "source": [
    "du2=diff(u,t,2)\n",
    "du2"
   ]
  },
  {
   "cell_type": "code",
   "execution_count": 210,
   "id": "regulated-interference",
   "metadata": {},
   "outputs": [
    {
     "data": {
      "text/plain": [
       "[14*cos(2*t)*e^(4*t) + 28*e^(4*t)*sin(2*t)                        7*e^(4*t)*sin(2*t)]\n",
       "[4*cos(2*t)*e^(-4*t) + 2*e^(-4*t)*sin(2*t)                        -cos(2*t)*e^(-4*t)]"
      ]
     },
     "execution_count": 210,
     "metadata": {},
     "output_type": "execute_result"
    }
   ],
   "source": [
    "# PRIMER INTENT\n",
    "# volem intentar resoldre: du2+a*du+b*u=(0,0)\n",
    "B=matrix(2,[du,u]).transpose()\n",
    "B"
   ]
  },
  {
   "cell_type": "code",
   "execution_count": 239,
   "id": "victorian-wrong",
   "metadata": {},
   "outputs": [
    {
     "data": {
      "text/html": [
       "<html><script type=\"math/tex; mode=display\">\\newcommand{\\Bold}[1]{\\mathbf{#1}}\\left(-\\frac{8 \\, {\\left(8 \\, \\cos\\left(t\\right)^{4} - 8 \\, \\cos\\left(t\\right)^{2} + 1\\right)}}{8 \\, {\\left(2 \\, \\cos\\left(t\\right)^{3} - \\cos\\left(t\\right)\\right)} \\sin\\left(t\\right) + 1},\\,-\\frac{4 \\, {\\left(40 \\, {\\left(2 \\, \\cos\\left(t\\right)^{3} - \\cos\\left(t\\right)\\right)} \\sin\\left(t\\right) + 11\\right)}}{8 \\, {\\left(2 \\, \\cos\\left(t\\right)^{3} - \\cos\\left(t\\right)\\right)} \\sin\\left(t\\right) + 1}\\right)</script></html>"
      ],
      "text/latex": [
       "\\begin{math}\n",
       "\\newcommand{\\Bold}[1]{\\mathbf{#1}}\\left(-\\frac{8 \\, {\\left(8 \\, \\cos\\left(t\\right)^{4} - 8 \\, \\cos\\left(t\\right)^{2} + 1\\right)}}{8 \\, {\\left(2 \\, \\cos\\left(t\\right)^{3} - \\cos\\left(t\\right)\\right)} \\sin\\left(t\\right) + 1},\\,-\\frac{4 \\, {\\left(40 \\, {\\left(2 \\, \\cos\\left(t\\right)^{3} - \\cos\\left(t\\right)\\right)} \\sin\\left(t\\right) + 11\\right)}}{8 \\, {\\left(2 \\, \\cos\\left(t\\right)^{3} - \\cos\\left(t\\right)\\right)} \\sin\\left(t\\right) + 1}\\right)\n",
       "\\end{math}"
      ],
      "text/plain": [
       "(-8*(8*cos(t)^4 - 8*cos(t)^2 + 1)/(8*(2*cos(t)^3 - cos(t))*sin(t) + 1), -4*(40*(2*cos(t)^3 - cos(t))*sin(t) + 11)/(8*(2*cos(t)^3 - cos(t))*sin(t) + 1))"
      ]
     },
     "metadata": {},
     "output_type": "display_data"
    }
   ],
   "source": [
    "b1=(B.solve_right(-du2)).simplify_full()\n",
    "show(b1)"
   ]
  },
  {
   "cell_type": "code",
   "execution_count": 219,
   "id": "activated-chaos",
   "metadata": {},
   "outputs": [
    {
     "name": "stdout",
     "output_type": "stream",
     "text": [
      "(-8, -44) (-10.1812658802998, 26.7285179048240)\n"
     ]
    }
   ],
   "source": [
    "print(b1(0),b1(1).n()) # depèn del temps. Els coeficients NO són constants. Per tant, hem d'augmentar el grau."
   ]
  },
  {
   "cell_type": "code",
   "execution_count": 220,
   "id": "engaging-slide",
   "metadata": {},
   "outputs": [
    {
     "data": {
      "text/plain": [
       "(616*cos(2*t)*e^(4*t) + 112*e^(4*t)*sin(2*t), 16*cos(2*t)*e^(-4*t) + 88*e^(-4*t)*sin(2*t))"
      ]
     },
     "execution_count": 220,
     "metadata": {},
     "output_type": "execute_result"
    }
   ],
   "source": [
    "du3=diff(u,t,3)\n",
    "du3"
   ]
  },
  {
   "cell_type": "code",
   "execution_count": 261,
   "id": "portuguese-blend",
   "metadata": {
    "scrolled": true
   },
   "outputs": [
    {
     "data": {
      "text/plain": [
       "[  112*cos(2*t)*e^(4*t) + 84*e^(4*t)*sin(2*t)    14*cos(2*t)*e^(4*t) + 28*e^(4*t)*sin(2*t)                           7*e^(4*t)*sin(2*t)]\n",
       "[-12*cos(2*t)*e^(-4*t) - 16*e^(-4*t)*sin(2*t)    4*cos(2*t)*e^(-4*t) + 2*e^(-4*t)*sin(2*t)                           -cos(2*t)*e^(-4*t)]"
      ]
     },
     "execution_count": 261,
     "metadata": {},
     "output_type": "execute_result"
    }
   ],
   "source": [
    "# SEGON INTENT\n",
    "# volem intentar resoldre: du3+a*du2+b*du+c*u=(0,0)\n",
    "BB=matrix(3,2,[du2,du,u]).transpose()\n",
    "BB"
   ]
  },
  {
   "cell_type": "code",
   "execution_count": 262,
   "id": "completed-basic",
   "metadata": {},
   "outputs": [
    {
     "data": {
      "text/html": [
       "<html><script type=\"math/tex; mode=display\">\\newcommand{\\Bold}[1]{\\mathbf{#1}}\\left(\\begin{array}{rrrr}\n",
       "112 \\, \\cos\\left(2 \\, t\\right) e^{\\left(4 \\, t\\right)} + 84 \\, e^{\\left(4 \\, t\\right)} \\sin\\left(2 \\, t\\right) & 14 \\, \\cos\\left(2 \\, t\\right) e^{\\left(4 \\, t\\right)} + 28 \\, e^{\\left(4 \\, t\\right)} \\sin\\left(2 \\, t\\right) & 7 \\, e^{\\left(4 \\, t\\right)} \\sin\\left(2 \\, t\\right) & -616 \\, \\cos\\left(2 \\, t\\right) e^{\\left(4 \\, t\\right)} - 112 \\, e^{\\left(4 \\, t\\right)} \\sin\\left(2 \\, t\\right) \\\\\n",
       "-12 \\, \\cos\\left(2 \\, t\\right) e^{\\left(-4 \\, t\\right)} - 16 \\, e^{\\left(-4 \\, t\\right)} \\sin\\left(2 \\, t\\right) & 4 \\, \\cos\\left(2 \\, t\\right) e^{\\left(-4 \\, t\\right)} + 2 \\, e^{\\left(-4 \\, t\\right)} \\sin\\left(2 \\, t\\right) & -\\cos\\left(2 \\, t\\right) e^{\\left(-4 \\, t\\right)} & -16 \\, \\cos\\left(2 \\, t\\right) e^{\\left(-4 \\, t\\right)} - 88 \\, e^{\\left(-4 \\, t\\right)} \\sin\\left(2 \\, t\\right)\n",
       "\\end{array}\\right)</script></html>"
      ],
      "text/latex": [
       "\\begin{math}\n",
       "\\newcommand{\\Bold}[1]{\\mathbf{#1}}\\left(\\begin{array}{rrrr}\n",
       "112 \\, \\cos\\left(2 \\, t\\right) e^{\\left(4 \\, t\\right)} + 84 \\, e^{\\left(4 \\, t\\right)} \\sin\\left(2 \\, t\\right) & 14 \\, \\cos\\left(2 \\, t\\right) e^{\\left(4 \\, t\\right)} + 28 \\, e^{\\left(4 \\, t\\right)} \\sin\\left(2 \\, t\\right) & 7 \\, e^{\\left(4 \\, t\\right)} \\sin\\left(2 \\, t\\right) & -616 \\, \\cos\\left(2 \\, t\\right) e^{\\left(4 \\, t\\right)} - 112 \\, e^{\\left(4 \\, t\\right)} \\sin\\left(2 \\, t\\right) \\\\\n",
       "-12 \\, \\cos\\left(2 \\, t\\right) e^{\\left(-4 \\, t\\right)} - 16 \\, e^{\\left(-4 \\, t\\right)} \\sin\\left(2 \\, t\\right) & 4 \\, \\cos\\left(2 \\, t\\right) e^{\\left(-4 \\, t\\right)} + 2 \\, e^{\\left(-4 \\, t\\right)} \\sin\\left(2 \\, t\\right) & -\\cos\\left(2 \\, t\\right) e^{\\left(-4 \\, t\\right)} & -16 \\, \\cos\\left(2 \\, t\\right) e^{\\left(-4 \\, t\\right)} - 88 \\, e^{\\left(-4 \\, t\\right)} \\sin\\left(2 \\, t\\right)\n",
       "\\end{array}\\right)\n",
       "\\end{math}"
      ],
      "text/plain": [
       "[  112*cos(2*t)*e^(4*t) + 84*e^(4*t)*sin(2*t)    14*cos(2*t)*e^(4*t) + 28*e^(4*t)*sin(2*t)                           7*e^(4*t)*sin(2*t) -616*cos(2*t)*e^(4*t) - 112*e^(4*t)*sin(2*t)]\n",
       "[-12*cos(2*t)*e^(-4*t) - 16*e^(-4*t)*sin(2*t)    4*cos(2*t)*e^(-4*t) + 2*e^(-4*t)*sin(2*t)                           -cos(2*t)*e^(-4*t) -16*cos(2*t)*e^(-4*t) - 88*e^(-4*t)*sin(2*t)]"
      ]
     },
     "metadata": {},
     "output_type": "display_data"
    }
   ],
   "source": [
    "BB2=BB.augment(-du3)\n",
    "show(BB2)"
   ]
  },
  {
   "cell_type": "code",
   "execution_count": 272,
   "id": "reflected-interface",
   "metadata": {},
   "outputs": [
    {
     "data": {
      "text/html": [
       "<html><script type=\"math/tex; mode=display\">\\newcommand{\\Bold}[1]{\\mathbf{#1}}\\left(\\begin{array}{rrrr}\n",
       "1 & 0 & \\frac{8 \\, {\\left(2 \\, \\cos\\left(t\\right)^{3} - \\cos\\left(t\\right)\\right)} \\sin\\left(t\\right) + 1}{4 \\, {\\left(40 \\, {\\left(2 \\, \\cos\\left(t\\right)^{3} - \\cos\\left(t\\right)\\right)} \\sin\\left(t\\right) + 11\\right)}} & -\\frac{40 \\, {\\left(8 \\, \\cos\\left(t\\right)^{4} - 8 \\, \\cos\\left(t\\right)^{2} + 1\\right)}}{40 \\, {\\left(2 \\, \\cos\\left(t\\right)^{3} - \\cos\\left(t\\right)\\right)} \\sin\\left(t\\right) + 11} \\\\\n",
       "0 & 1 & -\\frac{2 \\, {\\left(8 \\, \\cos\\left(t\\right)^{4} - 8 \\, \\cos\\left(t\\right)^{2} + 1\\right)}}{40 \\, {\\left(2 \\, \\cos\\left(t\\right)^{3} - \\cos\\left(t\\right)\\right)} \\sin\\left(t\\right) + 11} & -\\frac{4 \\, {\\left(200 \\, {\\left(2 \\, \\cos\\left(t\\right)^{3} - \\cos\\left(t\\right)\\right)} \\sin\\left(t\\right) + 41\\right)}}{40 \\, {\\left(2 \\, \\cos\\left(t\\right)^{3} - \\cos\\left(t\\right)\\right)} \\sin\\left(t\\right) + 11}\n",
       "\\end{array}\\right)</script></html>"
      ],
      "text/latex": [
       "\\begin{math}\n",
       "\\newcommand{\\Bold}[1]{\\mathbf{#1}}\\left(\\begin{array}{rrrr}\n",
       "1 & 0 & \\frac{8 \\, {\\left(2 \\, \\cos\\left(t\\right)^{3} - \\cos\\left(t\\right)\\right)} \\sin\\left(t\\right) + 1}{4 \\, {\\left(40 \\, {\\left(2 \\, \\cos\\left(t\\right)^{3} - \\cos\\left(t\\right)\\right)} \\sin\\left(t\\right) + 11\\right)}} & -\\frac{40 \\, {\\left(8 \\, \\cos\\left(t\\right)^{4} - 8 \\, \\cos\\left(t\\right)^{2} + 1\\right)}}{40 \\, {\\left(2 \\, \\cos\\left(t\\right)^{3} - \\cos\\left(t\\right)\\right)} \\sin\\left(t\\right) + 11} \\\\\n",
       "0 & 1 & -\\frac{2 \\, {\\left(8 \\, \\cos\\left(t\\right)^{4} - 8 \\, \\cos\\left(t\\right)^{2} + 1\\right)}}{40 \\, {\\left(2 \\, \\cos\\left(t\\right)^{3} - \\cos\\left(t\\right)\\right)} \\sin\\left(t\\right) + 11} & -\\frac{4 \\, {\\left(200 \\, {\\left(2 \\, \\cos\\left(t\\right)^{3} - \\cos\\left(t\\right)\\right)} \\sin\\left(t\\right) + 41\\right)}}{40 \\, {\\left(2 \\, \\cos\\left(t\\right)^{3} - \\cos\\left(t\\right)\\right)} \\sin\\left(t\\right) + 11}\n",
       "\\end{array}\\right)\n",
       "\\end{math}"
      ],
      "text/plain": [
       "[                                                                                1                                                                                 0   1/4*(8*(2*cos(t)^3 - cos(t))*sin(t) + 1)/(40*(2*cos(t)^3 - cos(t))*sin(t) + 11)          -40*(8*cos(t)^4 - 8*cos(t)^2 + 1)/(40*(2*cos(t)^3 - cos(t))*sin(t) + 11)]\n",
       "[                                                                                0                                                                                 1           -2*(8*cos(t)^4 - 8*cos(t)^2 + 1)/(40*(2*cos(t)^3 - cos(t))*sin(t) + 11) -4*(200*(2*cos(t)^3 - cos(t))*sin(t) + 41)/(40*(2*cos(t)^3 - cos(t))*sin(t) + 11)]"
      ]
     },
     "metadata": {},
     "output_type": "display_data"
    },
    {
     "data": {
      "text/plain": [
       "[                                                                                1                                                                                 0   1/4*(8*(2*cos(t)^3 - cos(t))*sin(t) + 1)/(40*(2*cos(t)^3 - cos(t))*sin(t) + 11)          -40*(8*cos(t)^4 - 8*cos(t)^2 + 1)/(40*(2*cos(t)^3 - cos(t))*sin(t) + 11)]\n",
       "[                                                                                0                                                                                 1           -2*(8*cos(t)^4 - 8*cos(t)^2 + 1)/(40*(2*cos(t)^3 - cos(t))*sin(t) + 11) -4*(200*(2*cos(t)^3 - cos(t))*sin(t) + 41)/(40*(2*cos(t)^3 - cos(t))*sin(t) + 11)]"
      ]
     },
     "execution_count": 272,
     "metadata": {},
     "output_type": "execute_result"
    }
   ],
   "source": [
    "show(BB2.rref().simplify_full())\n",
    "BB2.rref().simplify_full()"
   ]
  },
  {
   "cell_type": "code",
   "execution_count": 273,
   "id": "supposed-forth",
   "metadata": {},
   "outputs": [],
   "source": [
    "eq1=-a*(1/4*(8*(2*cos(t)^3 - cos(t))*sin(t) + 1)/(40*(2*cos(t)^3 - cos(t))*sin(t) + 11))-40*(8*cos(t)^4 - 8*cos(t)^2 + 1)/(40*(2*cos(t)^3 - cos(t))*sin(t) + 11)"
   ]
  },
  {
   "cell_type": "code",
   "execution_count": 275,
   "id": "occupational-cannon",
   "metadata": {},
   "outputs": [
    {
     "data": {
      "text/html": [
       "<html><script type=\"math/tex; mode=display\">\\newcommand{\\Bold}[1]{\\mathbf{#1}}\\frac{16 \\, a \\cos\\left(t\\right) \\sin\\left(t\\right)^{3} - 1280 \\, \\sin\\left(t\\right)^{4} - 8 \\, a \\cos\\left(t\\right) \\sin\\left(t\\right) + 1280 \\, \\sin\\left(t\\right)^{2} - a - 160}{4 \\, {\\left(40 \\, {\\left(2 \\, \\cos\\left(t\\right)^{3} - \\cos\\left(t\\right)\\right)} \\sin\\left(t\\right) + 11\\right)}}</script></html>"
      ],
      "text/latex": [
       "\\begin{math}\n",
       "\\newcommand{\\Bold}[1]{\\mathbf{#1}}\\frac{16 \\, a \\cos\\left(t\\right) \\sin\\left(t\\right)^{3} - 1280 \\, \\sin\\left(t\\right)^{4} - 8 \\, a \\cos\\left(t\\right) \\sin\\left(t\\right) + 1280 \\, \\sin\\left(t\\right)^{2} - a - 160}{4 \\, {\\left(40 \\, {\\left(2 \\, \\cos\\left(t\\right)^{3} - \\cos\\left(t\\right)\\right)} \\sin\\left(t\\right) + 11\\right)}}\n",
       "\\end{math}"
      ],
      "text/plain": [
       "1/4*(16*a*cos(t)*sin(t)^3 - 1280*sin(t)^4 - 8*a*cos(t)*sin(t) + 1280*sin(t)^2 - a - 160)/(40*(2*cos(t)^3 - cos(t))*sin(t) + 11)"
      ]
     },
     "metadata": {},
     "output_type": "display_data"
    }
   ],
   "source": [
    "show(eq1.simplify_full()==)"
   ]
  },
  {
   "cell_type": "code",
   "execution_count": null,
   "id": "pediatric-method",
   "metadata": {},
   "outputs": [],
   "source": []
  },
  {
   "cell_type": "code",
   "execution_count": null,
   "id": "floating-toyota",
   "metadata": {},
   "outputs": [],
   "source": []
  },
  {
   "cell_type": "code",
   "execution_count": null,
   "id": "proof-smile",
   "metadata": {},
   "outputs": [],
   "source": []
  },
  {
   "cell_type": "code",
   "execution_count": null,
   "id": "elect-promotion",
   "metadata": {},
   "outputs": [],
   "source": []
  },
  {
   "cell_type": "code",
   "execution_count": 276,
   "id": "enormous-crime",
   "metadata": {
    "scrolled": true
   },
   "outputs": [
    {
     "data": {
      "text/plain": [
       "(a, b, c, d)"
      ]
     },
     "execution_count": 276,
     "metadata": {},
     "output_type": "execute_result"
    }
   ],
   "source": [
    "var('a b c d')"
   ]
  },
  {
   "cell_type": "code",
   "execution_count": 279,
   "id": "incorrect-chuck",
   "metadata": {},
   "outputs": [
    {
     "data": {
      "text/html": [
       "<html><script type=\"math/tex; mode=display\">\\newcommand{\\Bold}[1]{\\mathbf{#1}}\\left[\\left[b = r_{60}, c = -\\frac{2 \\, {\\left({\\left(r_{60} + 8\\right)} \\cos\\left(2 \\, t\\right) + 2 \\, {\\left(r_{60} + 3\\right)} \\sin\\left(2 \\, t\\right)\\right)}}{\\sin\\left(2 \\, t\\right)}\\right]\\right]</script></html>"
      ],
      "text/latex": [
       "\\begin{math}\n",
       "\\newcommand{\\Bold}[1]{\\mathbf{#1}}\\left[\\left[b = r_{60}, c = -\\frac{2 \\, {\\left({\\left(r_{60} + 8\\right)} \\cos\\left(2 \\, t\\right) + 2 \\, {\\left(r_{60} + 3\\right)} \\sin\\left(2 \\, t\\right)\\right)}}{\\sin\\left(2 \\, t\\right)}\\right]\\right]\n",
       "\\end{math}"
      ],
      "text/plain": [
       "[[b == r60, c == -2*((r60 + 8)*cos(2*t) + 2*(r60 + 3)*sin(2*t))/sin(2*t)]]"
      ]
     },
     "metadata": {},
     "output_type": "display_data"
    }
   ],
   "source": [
    "show(solve(du2[0]+b*du[0]+c*u[0],b,c))"
   ]
  },
  {
   "cell_type": "code",
   "execution_count": 280,
   "id": "commercial-director",
   "metadata": {
    "scrolled": true
   },
   "outputs": [
    {
     "data": {
      "text/plain": [
       "0"
      ]
     },
     "execution_count": 280,
     "metadata": {},
     "output_type": "execute_result"
    }
   ],
   "source": [
    "# si agafem b=-8, aleshores c=20. Per tant u[0] satisfà la edo: x''-8*x'+20*x=0\n",
    "# comprovem-ho:\n",
    "diff(u[0],t,2)-8*diff(u[0],t)+20*u[0]"
   ]
  },
  {
   "cell_type": "code",
   "execution_count": 281,
   "id": "harmful-installation",
   "metadata": {},
   "outputs": [
    {
     "data": {
      "text/html": [
       "<html><script type=\"math/tex; mode=display\">\\newcommand{\\Bold}[1]{\\mathbf{#1}}\\left[\\left[b = r_{61}, c = \\frac{2 \\, {\\left(2 \\, r_{61}^{2} + {\\left(r_{61} - 8\\right)} \\cos\\left(2 \\, t\\right) - 6 \\, r_{61}\\right)}}{r_{61}}\\right]\\right]</script></html>"
      ],
      "text/latex": [
       "\\begin{math}\n",
       "\\newcommand{\\Bold}[1]{\\mathbf{#1}}\\left[\\left[b = r_{61}, c = \\frac{2 \\, {\\left(2 \\, r_{61}^{2} + {\\left(r_{61} - 8\\right)} \\cos\\left(2 \\, t\\right) - 6 \\, r_{61}\\right)}}{r_{61}}\\right]\\right]\n",
       "\\end{math}"
      ],
      "text/plain": [
       "[[b == r61, c == 2*(2*r61^2 + (r61 - 8)*cos(2*t) - 6*r61)/r61]]"
      ]
     },
     "metadata": {},
     "output_type": "display_data"
    }
   ],
   "source": [
    "show(solve(du2[1]+b*du[1]+c*u[1],b,c))"
   ]
  },
  {
   "cell_type": "code",
   "execution_count": 283,
   "id": "utility-america",
   "metadata": {
    "scrolled": true
   },
   "outputs": [
    {
     "data": {
      "text/plain": [
       "0"
      ]
     },
     "execution_count": 283,
     "metadata": {},
     "output_type": "execute_result"
    }
   ],
   "source": [
    "# si agafem b=8, aleshores c=20. Per tant u[1] satisfà la edo: x''+8*x'+20*x=0\n",
    "# comprovem-ho:\n",
    "diff(u[1],t,2)+8*diff(u[1],t)+20*u[1]"
   ]
  },
  {
   "cell_type": "code",
   "execution_count": null,
   "id": "nonprofit-customer",
   "metadata": {},
   "outputs": [],
   "source": []
  },
  {
   "cell_type": "code",
   "execution_count": null,
   "id": "clear-jordan",
   "metadata": {},
   "outputs": [],
   "source": []
  },
  {
   "cell_type": "code",
   "execution_count": null,
   "id": "nonprofit-cologne",
   "metadata": {},
   "outputs": [],
   "source": []
  },
  {
   "cell_type": "code",
   "execution_count": null,
   "id": "homeless-butter",
   "metadata": {},
   "outputs": [],
   "source": []
  },
  {
   "cell_type": "code",
   "execution_count": null,
   "id": "single-peninsula",
   "metadata": {},
   "outputs": [],
   "source": []
  },
  {
   "cell_type": "code",
   "execution_count": 249,
   "id": "mental-raleigh",
   "metadata": {},
   "outputs": [
    {
     "data": {
      "text/html": [
       "<html><script type=\"math/tex; mode=display\">\\newcommand{\\Bold}[1]{\\mathbf{#1}}\\left(-\\frac{40 \\, {\\left(8 \\, \\cos\\left(t\\right)^{4} - 8 \\, \\cos\\left(t\\right)^{2} + 1\\right)}}{40 \\, {\\left(2 \\, \\cos\\left(t\\right)^{3} - \\cos\\left(t\\right)\\right)} \\sin\\left(t\\right) + 11},\\,-\\frac{4 \\, {\\left(200 \\, {\\left(2 \\, \\cos\\left(t\\right)^{3} - \\cos\\left(t\\right)\\right)} \\sin\\left(t\\right) + 41\\right)}}{40 \\, {\\left(2 \\, \\cos\\left(t\\right)^{3} - \\cos\\left(t\\right)\\right)} \\sin\\left(t\\right) + 11},\\,0\\right)</script></html>"
      ],
      "text/latex": [
       "\\begin{math}\n",
       "\\newcommand{\\Bold}[1]{\\mathbf{#1}}\\left(-\\frac{40 \\, {\\left(8 \\, \\cos\\left(t\\right)^{4} - 8 \\, \\cos\\left(t\\right)^{2} + 1\\right)}}{40 \\, {\\left(2 \\, \\cos\\left(t\\right)^{3} - \\cos\\left(t\\right)\\right)} \\sin\\left(t\\right) + 11},\\,-\\frac{4 \\, {\\left(200 \\, {\\left(2 \\, \\cos\\left(t\\right)^{3} - \\cos\\left(t\\right)\\right)} \\sin\\left(t\\right) + 41\\right)}}{40 \\, {\\left(2 \\, \\cos\\left(t\\right)^{3} - \\cos\\left(t\\right)\\right)} \\sin\\left(t\\right) + 11},\\,0\\right)\n",
       "\\end{math}"
      ],
      "text/plain": [
       "(-40*(8*cos(t)^4 - 8*cos(t)^2 + 1)/(40*(2*cos(t)^3 - cos(t))*sin(t) + 11), -4*(200*(2*cos(t)^3 - cos(t))*sin(t) + 41)/(40*(2*cos(t)^3 - cos(t))*sin(t) + 11), 0)"
      ]
     },
     "metadata": {},
     "output_type": "display_data"
    }
   ],
   "source": [
    "b2=BB.solve_right(-du3).simplify_full()\n",
    "show(b2)"
   ]
  },
  {
   "cell_type": "code",
   "execution_count": 250,
   "id": "spectacular-haven",
   "metadata": {
    "scrolled": true
   },
   "outputs": [
    {
     "name": "stdout",
     "output_type": "stream",
     "text": [
      "(-40/11, -164/11, 0) (7.61827940969539, -3.68286504581523, 0.000000000000000)\n"
     ]
    }
   ],
   "source": [
    "print(b2(t=0),b2(t=1).n()) # depèn del temps. Els coeficients NO són constants. Per tant, hem d'augmentar el grau."
   ]
  },
  {
   "cell_type": "code",
   "execution_count": 251,
   "id": "mature-cleaning",
   "metadata": {},
   "outputs": [
    {
     "data": {
      "text/plain": [
       "(2688*cos(2*t)*e^(4*t) - 784*e^(4*t)*sin(2*t), 112*cos(2*t)*e^(-4*t) - 384*e^(-4*t)*sin(2*t))"
      ]
     },
     "execution_count": 251,
     "metadata": {},
     "output_type": "execute_result"
    }
   ],
   "source": [
    "du4=diff(u,t,4)\n",
    "du4"
   ]
  },
  {
   "cell_type": "code",
   "execution_count": 252,
   "id": "satisfied-amber",
   "metadata": {
    "scrolled": true
   },
   "outputs": [
    {
     "data": {
      "text/plain": [
       "[ 616*cos(2*t)*e^(4*t) + 112*e^(4*t)*sin(2*t)   112*cos(2*t)*e^(4*t) + 84*e^(4*t)*sin(2*t)    14*cos(2*t)*e^(4*t) + 28*e^(4*t)*sin(2*t)                           7*e^(4*t)*sin(2*t)]\n",
       "[ 16*cos(2*t)*e^(-4*t) + 88*e^(-4*t)*sin(2*t) -12*cos(2*t)*e^(-4*t) - 16*e^(-4*t)*sin(2*t)    4*cos(2*t)*e^(-4*t) + 2*e^(-4*t)*sin(2*t)                           -cos(2*t)*e^(-4*t)]"
      ]
     },
     "execution_count": 252,
     "metadata": {},
     "output_type": "execute_result"
    }
   ],
   "source": [
    "# TERCER INTENT\n",
    "# volem intentar resoldre: du4+a*du3+b*du2+c*du+d*u=(0,0)\n",
    "BBB=matrix(4,[du3,du2,du,u]).transpose()\n",
    "BBB"
   ]
  },
  {
   "cell_type": "code",
   "execution_count": 255,
   "id": "physical-distribution",
   "metadata": {},
   "outputs": [
    {
     "data": {
      "text/html": [
       "<html><script type=\"math/tex; mode=display\">\\newcommand{\\Bold}[1]{\\mathbf{#1}}\\left(-\\frac{200 \\, {\\left(8 \\, \\cos\\left(t\\right)^{4} - 8 \\, \\cos\\left(t\\right)^{2} + 1\\right)}}{200 \\, {\\left(2 \\, \\cos\\left(t\\right)^{3} - \\cos\\left(t\\right)\\right)} \\sin\\left(t\\right) + 41},\\,-\\frac{4 \\, {\\left(1000 \\, {\\left(2 \\, \\cos\\left(t\\right)^{3} - \\cos\\left(t\\right)\\right)} \\sin\\left(t\\right) - 29\\right)}}{200 \\, {\\left(2 \\, \\cos\\left(t\\right)^{3} - \\cos\\left(t\\right)\\right)} \\sin\\left(t\\right) + 41},\\,0,\\,0\\right)</script></html>"
      ],
      "text/latex": [
       "\\begin{math}\n",
       "\\newcommand{\\Bold}[1]{\\mathbf{#1}}\\left(-\\frac{200 \\, {\\left(8 \\, \\cos\\left(t\\right)^{4} - 8 \\, \\cos\\left(t\\right)^{2} + 1\\right)}}{200 \\, {\\left(2 \\, \\cos\\left(t\\right)^{3} - \\cos\\left(t\\right)\\right)} \\sin\\left(t\\right) + 41},\\,-\\frac{4 \\, {\\left(1000 \\, {\\left(2 \\, \\cos\\left(t\\right)^{3} - \\cos\\left(t\\right)\\right)} \\sin\\left(t\\right) - 29\\right)}}{200 \\, {\\left(2 \\, \\cos\\left(t\\right)^{3} - \\cos\\left(t\\right)\\right)} \\sin\\left(t\\right) + 41},\\,0,\\,0\\right)\n",
       "\\end{math}"
      ],
      "text/plain": [
       "(-200*(8*cos(t)^4 - 8*cos(t)^2 + 1)/(200*(2*cos(t)^3 - cos(t))*sin(t) + 41), -4*(1000*(2*cos(t)^3 - cos(t))*sin(t) - 29)/(200*(2*cos(t)^3 - cos(t))*sin(t) + 41), 0, 0)"
      ]
     },
     "metadata": {},
     "output_type": "display_data"
    }
   ],
   "source": [
    "b3=BBB.solve_right(-du4).simplify_full()\n",
    "show(b3)"
   ]
  },
  {
   "cell_type": "code",
   "execution_count": 254,
   "id": "severe-surgeon",
   "metadata": {
    "scrolled": true
   },
   "outputs": [
    {
     "name": "stdout",
     "output_type": "stream",
     "text": [
      "(-200/41, 116/41, 0, 0) (41.3714828804379, 276.214226989067, 0.000000000000000, 0.000000000000000)\n"
     ]
    }
   ],
   "source": [
    "print(b3(t=0),b3(t=1).n()) # depèn del temps. Els coeficients NO són constants. Per tant, hem d'augmentar el grau."
   ]
  },
  {
   "cell_type": "code",
   "execution_count": 269,
   "id": "involved-knock",
   "metadata": {},
   "outputs": [
    {
     "data": {
      "text/plain": [
       "(9184*cos(2*t)*e^(4*t) - 8512*e^(4*t)*sin(2*t), -1216*cos(2*t)*e^(-4*t) + 1312*e^(-4*t)*sin(2*t))"
      ]
     },
     "execution_count": 269,
     "metadata": {},
     "output_type": "execute_result"
    }
   ],
   "source": [
    "du5=diff(u,t,5)\n",
    "du5"
   ]
  },
  {
   "cell_type": "code",
   "execution_count": 270,
   "id": "expired-armenia",
   "metadata": {
    "scrolled": true
   },
   "outputs": [
    {
     "data": {
      "text/plain": [
       "[ 2688*cos(2*t)*e^(4*t) - 784*e^(4*t)*sin(2*t)   616*cos(2*t)*e^(4*t) + 112*e^(4*t)*sin(2*t)    112*cos(2*t)*e^(4*t) + 84*e^(4*t)*sin(2*t)     14*cos(2*t)*e^(4*t) + 28*e^(4*t)*sin(2*t)                            7*e^(4*t)*sin(2*t)]\n",
       "[112*cos(2*t)*e^(-4*t) - 384*e^(-4*t)*sin(2*t)   16*cos(2*t)*e^(-4*t) + 88*e^(-4*t)*sin(2*t)  -12*cos(2*t)*e^(-4*t) - 16*e^(-4*t)*sin(2*t)     4*cos(2*t)*e^(-4*t) + 2*e^(-4*t)*sin(2*t)                            -cos(2*t)*e^(-4*t)]"
      ]
     },
     "execution_count": 270,
     "metadata": {},
     "output_type": "execute_result"
    }
   ],
   "source": [
    "# QUART INTENT\n",
    "# volem intentar resoldre: du4+a*du3+b*du2+c*du+d*u=(0,0)\n",
    "B4=matrix(5,[du4,du3,du2,du,u]).transpose()\n",
    "B4"
   ]
  },
  {
   "cell_type": "code",
   "execution_count": 271,
   "id": "impressed-cyprus",
   "metadata": {},
   "outputs": [
    {
     "data": {
      "text/html": [
       "<html><script type=\"math/tex; mode=display\">\\newcommand{\\Bold}[1]{\\mathbf{#1}}\\left(-\\frac{1000 \\, {\\left(8 \\, \\cos\\left(t\\right)^{4} - 8 \\, \\cos\\left(t\\right)^{2} + 1\\right)}}{1000 \\, {\\left(2 \\, \\cos\\left(t\\right)^{3} - \\cos\\left(t\\right)\\right)} \\sin\\left(t\\right) - 29},\\,-\\frac{4 \\, {\\left(5000 \\, {\\left(2 \\, \\cos\\left(t\\right)^{3} - \\cos\\left(t\\right)\\right)} \\sin\\left(t\\right) - 1199\\right)}}{1000 \\, {\\left(2 \\, \\cos\\left(t\\right)^{3} - \\cos\\left(t\\right)\\right)} \\sin\\left(t\\right) - 29},\\,0,\\,0,\\,0\\right)</script></html>"
      ],
      "text/latex": [
       "\\begin{math}\n",
       "\\newcommand{\\Bold}[1]{\\mathbf{#1}}\\left(-\\frac{1000 \\, {\\left(8 \\, \\cos\\left(t\\right)^{4} - 8 \\, \\cos\\left(t\\right)^{2} + 1\\right)}}{1000 \\, {\\left(2 \\, \\cos\\left(t\\right)^{3} - \\cos\\left(t\\right)\\right)} \\sin\\left(t\\right) - 29},\\,-\\frac{4 \\, {\\left(5000 \\, {\\left(2 \\, \\cos\\left(t\\right)^{3} - \\cos\\left(t\\right)\\right)} \\sin\\left(t\\right) - 1199\\right)}}{1000 \\, {\\left(2 \\, \\cos\\left(t\\right)^{3} - \\cos\\left(t\\right)\\right)} \\sin\\left(t\\right) - 29},\\,0,\\,0,\\,0\\right)\n",
       "\\end{math}"
      ],
      "text/plain": [
       "(-1000*(8*cos(t)^4 - 8*cos(t)^2 + 1)/(1000*(2*cos(t)^3 - cos(t))*sin(t) - 29), -4*(5000*(2*cos(t)^3 - cos(t))*sin(t) - 1199)/(1000*(2*cos(t)^3 - cos(t))*sin(t) - 29), 0, 0, 0)"
      ]
     },
     "metadata": {},
     "output_type": "display_data"
    }
   ],
   "source": [
    "b4=B4.solve_right(-du5).simplify_full()\n",
    "show(b4)"
   ]
  },
  {
   "cell_type": "code",
   "execution_count": 254,
   "id": "humanitarian-accessory",
   "metadata": {
    "scrolled": true
   },
   "outputs": [
    {
     "name": "stdout",
     "output_type": "stream",
     "text": [
      "(-200/41, 116/41, 0, 0) (41.3714828804379, 276.214226989067, 0.000000000000000, 0.000000000000000)\n"
     ]
    }
   ],
   "source": [
    "print(b3(t=0),b3(t=1).n()) # depèn del temps. Els coeficients NO són constants. Per tant, hem d'augmentar el grau."
   ]
  },
  {
   "cell_type": "code",
   "execution_count": null,
   "id": "composed-appreciation",
   "metadata": {},
   "outputs": [],
   "source": []
  },
  {
   "cell_type": "code",
   "execution_count": 155,
   "id": "expected-traffic",
   "metadata": {},
   "outputs": [],
   "source": [
    "# provem matrius de la forma\n",
    "var('b11 b12 b21 b22 c11 c12 c21 c22')\n",
    "B=matrix(2,[b11, b12, b21, b22])\n",
    "C=matrix(2,[c11, c12, c21, c22])"
   ]
  },
  {
   "cell_type": "code",
   "execution_count": 159,
   "id": "cubic-bulgarian",
   "metadata": {},
   "outputs": [
    {
     "data": {
      "text/html": [
       "<html><script type=\"math/tex; mode=display\">\\newcommand{\\Bold}[1]{\\mathbf{#1}}\\left[\\left[b_{11} = r_{53}, b_{12} = r_{55}, b_{21} = r_{58}, b_{22} = r_{57}, c_{11} = r_{56}, c_{12} = \\frac{2 \\, {\\left(7 \\, {\\left(r_{53} - 8\\right)} e^{\\left(8 \\, t\\right)} + 2 \\, r_{55}\\right)} \\cos\\left(2 \\, t\\right) + {\\left(7 \\, {\\left(4 \\, r_{53} + r_{56} - 12\\right)} e^{\\left(8 \\, t\\right)} + 2 \\, r_{55}\\right)} \\sin\\left(2 \\, t\\right)}{\\cos\\left(2 \\, t\\right)}, c_{21} = r_{54}, c_{22} = \\frac{2 \\, {\\left(7 \\, r_{58} e^{\\left(8 \\, t\\right)} + 2 \\, r_{57} + 6\\right)} \\cos\\left(2 \\, t\\right) + {\\left(7 \\, {\\left(r_{54} + 4 \\, r_{58}\\right)} e^{\\left(8 \\, t\\right)} + 2 \\, r_{57} + 16\\right)} \\sin\\left(2 \\, t\\right)}{\\cos\\left(2 \\, t\\right)}\\right]\\right]</script></html>"
      ],
      "text/latex": [
       "\\begin{math}\n",
       "\\newcommand{\\Bold}[1]{\\mathbf{#1}}\\left[\\left[b_{11} = r_{53}, b_{12} = r_{55}, b_{21} = r_{58}, b_{22} = r_{57}, c_{11} = r_{56}, c_{12} = \\frac{2 \\, {\\left(7 \\, {\\left(r_{53} - 8\\right)} e^{\\left(8 \\, t\\right)} + 2 \\, r_{55}\\right)} \\cos\\left(2 \\, t\\right) + {\\left(7 \\, {\\left(4 \\, r_{53} + r_{56} - 12\\right)} e^{\\left(8 \\, t\\right)} + 2 \\, r_{55}\\right)} \\sin\\left(2 \\, t\\right)}{\\cos\\left(2 \\, t\\right)}, c_{21} = r_{54}, c_{22} = \\frac{2 \\, {\\left(7 \\, r_{58} e^{\\left(8 \\, t\\right)} + 2 \\, r_{57} + 6\\right)} \\cos\\left(2 \\, t\\right) + {\\left(7 \\, {\\left(r_{54} + 4 \\, r_{58}\\right)} e^{\\left(8 \\, t\\right)} + 2 \\, r_{57} + 16\\right)} \\sin\\left(2 \\, t\\right)}{\\cos\\left(2 \\, t\\right)}\\right]\\right]\n",
       "\\end{math}"
      ],
      "text/plain": [
       "[[b11 == r53, b12 == r55, b21 == r58, b22 == r57, c11 == r56, c12 == (2*(7*(r53 - 8)*e^(8*t) + 2*r55)*cos(2*t) + (7*(4*r53 + r56 - 12)*e^(8*t) + 2*r55)*sin(2*t))/cos(2*t), c21 == r54, c22 == (2*(7*r58*e^(8*t) + 2*r57 + 6)*cos(2*t) + (7*(r54 + 4*r58)*e^(8*t) + 2*r57 + 16)*sin(2*t))/cos(2*t)]]"
      ]
     },
     "metadata": {},
     "output_type": "display_data"
    }
   ],
   "source": [
    "sol_b=solve([du2[0]==(B*du)[0]+(C*u)[0],du2[1]==(B*du)[1]+(C*u)[1]],b11, b12, b21, b22, c11, c12, c21, c22)\n",
    "show(sol_b)"
   ]
  },
  {
   "cell_type": "code",
   "execution_count": 166,
   "id": "appointed-eagle",
   "metadata": {},
   "outputs": [
    {
     "data": {
      "text/html": [
       "<html><script type=\"math/tex; mode=display\">\\newcommand{\\Bold}[1]{\\mathbf{#1}}c_{12} = \\frac{2 \\, {\\left(7 \\, {\\left(r_{53} - 8\\right)} e^{\\left(8 \\, t\\right)} + 2 \\, r_{55}\\right)} \\cos\\left(2 \\, t\\right) + {\\left(7 \\, {\\left(4 \\, r_{53} + r_{56} - 12\\right)} e^{\\left(8 \\, t\\right)} + 2 \\, r_{55}\\right)} \\sin\\left(2 \\, t\\right)}{\\cos\\left(2 \\, t\\right)}</script></html>"
      ],
      "text/latex": [
       "\\begin{math}\n",
       "\\newcommand{\\Bold}[1]{\\mathbf{#1}}c_{12} = \\frac{2 \\, {\\left(7 \\, {\\left(r_{53} - 8\\right)} e^{\\left(8 \\, t\\right)} + 2 \\, r_{55}\\right)} \\cos\\left(2 \\, t\\right) + {\\left(7 \\, {\\left(4 \\, r_{53} + r_{56} - 12\\right)} e^{\\left(8 \\, t\\right)} + 2 \\, r_{55}\\right)} \\sin\\left(2 \\, t\\right)}{\\cos\\left(2 \\, t\\right)}\n",
       "\\end{math}"
      ],
      "text/plain": [
       "c12 == (2*(7*(r53 - 8)*e^(8*t) + 2*r55)*cos(2*t) + (7*(4*r53 + r56 - 12)*e^(8*t) + 2*r55)*sin(2*t))/cos(2*t)"
      ]
     },
     "metadata": {},
     "output_type": "display_data"
    }
   ],
   "source": [
    "# volem que els coeficients siguin constants. Per això necesitem que s'anul·lin tots els termes depenen en t de c12\n",
    "# i de c22.\n",
    "# Termes de c12\n",
    "show(sol_b[0][5])"
   ]
  },
  {
   "cell_type": "code",
   "execution_count": 173,
   "id": "severe-render",
   "metadata": {},
   "outputs": [],
   "source": [
    "# pel primer terme sumand en el numerador tenim que b11=8 i pel segon sumand, c11=12-4*b11=-20 i a més b12=0.\n",
    "# Per tant, tindrem c12=0."
   ]
  },
  {
   "cell_type": "code",
   "execution_count": 174,
   "id": "rising-nevada",
   "metadata": {},
   "outputs": [
    {
     "data": {
      "text/html": [
       "<html><script type=\"math/tex; mode=display\">\\newcommand{\\Bold}[1]{\\mathbf{#1}}c_{22} = \\frac{2 \\, {\\left(7 \\, r_{58} e^{\\left(8 \\, t\\right)} + 2 \\, r_{57} + 6\\right)} \\cos\\left(2 \\, t\\right) + {\\left(7 \\, {\\left(r_{54} + 4 \\, r_{58}\\right)} e^{\\left(8 \\, t\\right)} + 2 \\, r_{57} + 16\\right)} \\sin\\left(2 \\, t\\right)}{\\cos\\left(2 \\, t\\right)}</script></html>"
      ],
      "text/latex": [
       "\\begin{math}\n",
       "\\newcommand{\\Bold}[1]{\\mathbf{#1}}c_{22} = \\frac{2 \\, {\\left(7 \\, r_{58} e^{\\left(8 \\, t\\right)} + 2 \\, r_{57} + 6\\right)} \\cos\\left(2 \\, t\\right) + {\\left(7 \\, {\\left(r_{54} + 4 \\, r_{58}\\right)} e^{\\left(8 \\, t\\right)} + 2 \\, r_{57} + 16\\right)} \\sin\\left(2 \\, t\\right)}{\\cos\\left(2 \\, t\\right)}\n",
       "\\end{math}"
      ],
      "text/plain": [
       "c22 == (2*(7*r58*e^(8*t) + 2*r57 + 6)*cos(2*t) + (7*(r54 + 4*r58)*e^(8*t) + 2*r57 + 16)*sin(2*t))/cos(2*t)"
      ]
     },
     "metadata": {},
     "output_type": "display_data"
    }
   ],
   "source": [
    "# Termes de c22\n",
    "show(sol_b[0][7])"
   ]
  },
  {
   "cell_type": "code",
   "execution_count": 179,
   "id": "subsequent-tension",
   "metadata": {},
   "outputs": [
    {
     "data": {
      "text/html": [
       "<html><script type=\"math/tex; mode=display\">\\newcommand{\\Bold}[1]{\\mathbf{#1}}\\left(\\begin{array}{rr}\n",
       "8 & 0 \\\\\n",
       "0 & -8\n",
       "\\end{array}\\right) \\left(\\begin{array}{rr}\n",
       "-20 & 0 \\\\\n",
       "0 & -20\n",
       "\\end{array}\\right)</script></html>"
      ],
      "text/latex": [
       "\\begin{math}\n",
       "\\newcommand{\\Bold}[1]{\\mathbf{#1}}\\left(\\begin{array}{rr}\n",
       "8 & 0 \\\\\n",
       "0 & -8\n",
       "\\end{array}\\right) \\left(\\begin{array}{rr}\n",
       "-20 & 0 \\\\\n",
       "0 & -20\n",
       "\\end{array}\\right)\n",
       "\\end{math}"
      ],
      "text/plain": [
       "[ 8  0]\n",
       "[ 0 -8] [-20   0]\n",
       "[  0 -20]"
      ]
     },
     "metadata": {},
     "output_type": "display_data"
    }
   ],
   "source": [
    "# pel primer terme sumand en el numerador tenim que b21=0 i pel segon sumand, c21=-4*b21=0 i a més b22=-16/2=-8.\n",
    "# Per tant, tindrem c22=-20.\n",
    "# Finalment:\n",
    "BB=B.subs(b11=8, b12=0, b21=0, b22=-8)\n",
    "CC=C.subs(c11=-20, c12=0, c21=0, c22=-20)\n",
    "show(BB,CC)"
   ]
  },
  {
   "cell_type": "code",
   "execution_count": 194,
   "id": "fleet-contract",
   "metadata": {},
   "outputs": [
    {
     "data": {
      "text/plain": [
       "(0, 0)"
      ]
     },
     "execution_count": 194,
     "metadata": {},
     "output_type": "execute_result"
    }
   ],
   "source": [
    "# Comprovació:\n",
    "du2-BB*du-CC*u"
   ]
  },
  {
   "cell_type": "markdown",
   "id": "funky-period",
   "metadata": {},
   "source": [
    "##### Apartat c)"
   ]
  },
  {
   "cell_type": "code",
   "execution_count": null,
   "id": "affiliated-plaintiff",
   "metadata": {},
   "outputs": [],
   "source": []
  },
  {
   "cell_type": "code",
   "execution_count": null,
   "id": "dimensional-merchandise",
   "metadata": {},
   "outputs": [],
   "source": []
  },
  {
   "cell_type": "code",
   "execution_count": null,
   "id": "intended-rabbit",
   "metadata": {},
   "outputs": [],
   "source": []
  },
  {
   "cell_type": "code",
   "execution_count": null,
   "id": "naughty-grant",
   "metadata": {},
   "outputs": [],
   "source": []
  },
  {
   "cell_type": "markdown",
   "id": "bearing-warner",
   "metadata": {},
   "source": [
    "##### Apartat d)"
   ]
  },
  {
   "cell_type": "markdown",
   "id": "charming-bones",
   "metadata": {},
   "source": [
    "### 3 - Equacions i wronskians"
   ]
  },
  {
   "cell_type": "markdown",
   "id": "optional-highland",
   "metadata": {},
   "source": [
    "##### Apartat a)"
   ]
  },
  {
   "cell_type": "markdown",
   "id": "unable-novelty",
   "metadata": {},
   "source": [
    "##### Apartat b)"
   ]
  },
  {
   "cell_type": "markdown",
   "id": "municipal-mobility",
   "metadata": {},
   "source": [
    "##### Apartat c)"
   ]
  },
  {
   "cell_type": "markdown",
   "id": "focused-cargo",
   "metadata": {},
   "source": [
    "##### Apartat d)"
   ]
  },
  {
   "cell_type": "markdown",
   "id": "conditional-ordering",
   "metadata": {},
   "source": [
    "##### Apartat e)"
   ]
  },
  {
   "cell_type": "code",
   "execution_count": null,
   "id": "august-playback",
   "metadata": {},
   "outputs": [],
   "source": []
  }
 ],
 "metadata": {
  "kernelspec": {
   "display_name": "SageMath 9.2",
   "language": "sage",
   "name": "sagemath"
  },
  "language_info": {
   "codemirror_mode": {
    "name": "ipython",
    "version": 3
   },
   "file_extension": ".py",
   "mimetype": "text/x-python",
   "name": "python",
   "nbconvert_exporter": "python",
   "pygments_lexer": "ipython3",
   "version": "3.9.2"
  }
 },
 "nbformat": 4,
 "nbformat_minor": 5
}
