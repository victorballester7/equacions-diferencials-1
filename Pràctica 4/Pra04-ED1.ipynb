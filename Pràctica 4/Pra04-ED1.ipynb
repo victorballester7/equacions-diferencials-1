{
 "cells": [
  {
   "cell_type": "markdown",
   "id": "lesbian-principle",
   "metadata": {},
   "source": [
    "# Pràctica 4"
   ]
  },
  {
   "cell_type": "code",
   "execution_count": 19,
   "id": "above-stretch",
   "metadata": {},
   "outputs": [],
   "source": [
    "reset()"
   ]
  },
  {
   "cell_type": "markdown",
   "id": "favorite-riverside",
   "metadata": {},
   "source": [
    "#### Problema 1"
   ]
  },
  {
   "cell_type": "code",
   "execution_count": 2,
   "id": "detected-transportation",
   "metadata": {},
   "outputs": [
    {
     "data": {
      "text/plain": [
       "(a, b, x, y)"
      ]
     },
     "execution_count": 2,
     "metadata": {},
     "output_type": "execute_result"
    }
   ],
   "source": [
    "var('a b x y')"
   ]
  },
  {
   "cell_type": "code",
   "execution_count": 3,
   "id": "brief-reputation",
   "metadata": {},
   "outputs": [],
   "source": [
    "y=function('y')(x)"
   ]
  },
  {
   "cell_type": "code",
   "execution_count": 4,
   "id": "dirty-custody",
   "metadata": {},
   "outputs": [],
   "source": [
    "edo1= y==(-1/diff(y,x))*(x-a)+b"
   ]
  },
  {
   "cell_type": "code",
   "execution_count": 5,
   "id": "analyzed-holocaust",
   "metadata": {},
   "outputs": [
    {
     "data": {
      "text/plain": [
       "[b*y(x) - 1/2*y(x)^2 == -a*x + 1/2*x^2 + _C]"
      ]
     },
     "execution_count": 5,
     "metadata": {},
     "output_type": "execute_result"
    }
   ],
   "source": [
    "sol1=desolve(edo1,ivar=x,dvar=y,contrib_ode=True)\n",
    "sol1"
   ]
  },
  {
   "cell_type": "code",
   "execution_count": 6,
   "id": "alpine-addiction",
   "metadata": {},
   "outputs": [],
   "source": [
    "# És l'equació d'una circumferència"
   ]
  },
  {
   "cell_type": "markdown",
   "id": "informed-bronze",
   "metadata": {},
   "source": [
    "#### Problema 2"
   ]
  },
  {
   "cell_type": "code",
   "execution_count": 25,
   "id": "unlikely-india",
   "metadata": {},
   "outputs": [],
   "source": [
    "edo2= y/diff(y,x)==2*x"
   ]
  },
  {
   "cell_type": "code",
   "execution_count": 26,
   "id": "adequate-emerald",
   "metadata": {},
   "outputs": [
    {
     "data": {
      "text/plain": [
       "[y(x) == _C*sqrt(x)]"
      ]
     },
     "execution_count": 26,
     "metadata": {},
     "output_type": "execute_result"
    }
   ],
   "source": [
    "desolve(edo2,ivar=x,dvar=y,contrib_ode=True)"
   ]
  },
  {
   "cell_type": "markdown",
   "id": "broad-drive",
   "metadata": {},
   "source": [
    "#### Problema 3"
   ]
  },
  {
   "cell_type": "code",
   "execution_count": 7,
   "id": "latin-modem",
   "metadata": {},
   "outputs": [
    {
     "data": {
      "text/plain": [
       "(t, v, k)"
      ]
     },
     "execution_count": 7,
     "metadata": {},
     "output_type": "execute_result"
    }
   ],
   "source": [
    "var('t v k')"
   ]
  },
  {
   "cell_type": "code",
   "execution_count": 8,
   "id": "traditional-brave",
   "metadata": {},
   "outputs": [],
   "source": [
    "v=function('v')(t)"
   ]
  },
  {
   "cell_type": "code",
   "execution_count": 9,
   "id": "after-essex",
   "metadata": {},
   "outputs": [],
   "source": [
    "edo3 = diff(v,t)==-v*k"
   ]
  },
  {
   "cell_type": "code",
   "execution_count": 10,
   "id": "distinct-cigarette",
   "metadata": {
    "scrolled": true
   },
   "outputs": [
    {
     "data": {
      "text/plain": [
       "100*e^(-k*t)"
      ]
     },
     "execution_count": 10,
     "metadata": {},
     "output_type": "execute_result"
    }
   ],
   "source": [
    "sol3=desolve(edo3,ivar=t,dvar=v,ics=[0,100])\n",
    "sol3"
   ]
  },
  {
   "cell_type": "code",
   "execution_count": 14,
   "id": "analyzed-commerce",
   "metadata": {},
   "outputs": [],
   "source": [
    "def real_sols(L):\n",
    "    return [s for s in L if s.rhs().is_real()]"
   ]
  },
  {
   "cell_type": "code",
   "execution_count": 19,
   "id": "nervous-wealth",
   "metadata": {},
   "outputs": [
    {
     "data": {
      "text/plain": [
       "[k == log(5/3)]"
      ]
     },
     "execution_count": 19,
     "metadata": {},
     "output_type": "execute_result"
    }
   ],
   "source": [
    "real_sols(solve(60==sol3(t=1),k))"
   ]
  },
  {
   "cell_type": "markdown",
   "id": "hidden-public",
   "metadata": {},
   "source": [
    "#### Problema 4"
   ]
  },
  {
   "cell_type": "code",
   "execution_count": 21,
   "id": "allied-franchise",
   "metadata": {},
   "outputs": [
    {
     "data": {
      "text/plain": [
       "(p, h, k)"
      ]
     },
     "execution_count": 21,
     "metadata": {},
     "output_type": "execute_result"
    }
   ],
   "source": [
    "var('p h k')"
   ]
  },
  {
   "cell_type": "code",
   "execution_count": 22,
   "id": "ideal-flower",
   "metadata": {},
   "outputs": [],
   "source": [
    "p=function('p')(h)"
   ]
  },
  {
   "cell_type": "code",
   "execution_count": 25,
   "id": "digital-program",
   "metadata": {},
   "outputs": [],
   "source": [
    "# la presió dependrà del pes de la columna d'aire per sobre. Ara bé \n",
    "# dp=k*dm*g=\\rho*dV*g=\\rho*S*g*dh on S és la secció de la columna i per\n",
    "# la llei de Marriot això és dp=k*p*dh (on k és una constant de \n",
    "# proporcionalitat)\n",
    "\n",
    "edo4= diff(p,h)==k*p"
   ]
  },
  {
   "cell_type": "code",
   "execution_count": 26,
   "id": "proprietary-gospel",
   "metadata": {},
   "outputs": [
    {
     "data": {
      "text/plain": [
       "e^(h*k)"
      ]
     },
     "execution_count": 26,
     "metadata": {},
     "output_type": "execute_result"
    }
   ],
   "source": [
    "sol4=desolve(edo4,ivar=h,dvar=p,ics=[0,1])\n",
    "sol4"
   ]
  },
  {
   "cell_type": "code",
   "execution_count": 35,
   "id": "competitive-accommodation",
   "metadata": {},
   "outputs": [
    {
     "data": {
      "text/plain": [
       "[k == (-3458687/27948803500)]"
      ]
     },
     "execution_count": 35,
     "metadata": {},
     "output_type": "execute_result"
    }
   ],
   "source": [
    "solk=solve(log(0.94)==log(sol4).simplify_full().subs(h=500),k)\n",
    "solk"
   ]
  },
  {
   "cell_type": "code",
   "execution_count": 36,
   "id": "mobile-theorem",
   "metadata": {},
   "outputs": [
    {
     "data": {
      "text/plain": [
       "-0.000123750807436175"
      ]
     },
     "execution_count": 36,
     "metadata": {},
     "output_type": "execute_result"
    }
   ],
   "source": [
    "solk[0].rhs().n()"
   ]
  },
  {
   "cell_type": "markdown",
   "id": "expensive-investing",
   "metadata": {},
   "source": [
    "#### Problema 5"
   ]
  },
  {
   "cell_type": "code",
   "execution_count": 37,
   "id": "humanitarian-desert",
   "metadata": {},
   "outputs": [
    {
     "data": {
      "text/plain": [
       "(x, t, m, t0)"
      ]
     },
     "execution_count": 37,
     "metadata": {},
     "output_type": "execute_result"
    }
   ],
   "source": [
    "var('x t m t0')"
   ]
  },
  {
   "cell_type": "code",
   "execution_count": 38,
   "id": "russian-metropolitan",
   "metadata": {},
   "outputs": [],
   "source": [
    "x=function('x')(t)"
   ]
  },
  {
   "cell_type": "code",
   "execution_count": 40,
   "id": "junior-scoop",
   "metadata": {},
   "outputs": [],
   "source": [
    "# Com que neva amb regularitat, l'alçada de neu en un temps t és \n",
    "# h(t)=h(0)+k*t=k2*(t+t0) on t0 és el temps que ha passat des que \n",
    "# ha començat a nevar i les 12:00, i t el temps que ha passat des de \n",
    "# es 12:00.\n",
    "# La velocitat de les màquines és v(t)=x(t)/t.\n",
    "# La quantitat de neu que treuen és Q(t)=x(t)*h(t).\n",
    "# Per tant, v(t)=Q(t)/t * (1/h(t)).\n",
    "# Si la quantitat de neu que treuen per unitat de temps és constant,\n",
    "# llavors Q(t)/t=c.\n",
    "# Per tant, v(t)=c/h(t) i llavors: dx/dt=m/(t+t0) on m=c/k\n",
    "\n",
    "edo5= diff(x,t)==m/(t+t0)"
   ]
  },
  {
   "cell_type": "code",
   "execution_count": 41,
   "id": "french-pollution",
   "metadata": {},
   "outputs": [
    {
     "data": {
      "text/plain": [
       "m*log(t + t0) - m*log(t0)"
      ]
     },
     "execution_count": 41,
     "metadata": {},
     "output_type": "execute_result"
    }
   ],
   "source": [
    "sol5=desolve(edo5,x,ivar=t,ics=[0,0])\n",
    "sol5"
   ]
  },
  {
   "cell_type": "code",
   "execution_count": 43,
   "id": "aggressive-brazil",
   "metadata": {},
   "outputs": [
    {
     "data": {
      "text/plain": [
       "[log(t0) == -log(t0 + 3) + 2*log(t0 + 1)]"
      ]
     },
     "execution_count": 43,
     "metadata": {},
     "output_type": "execute_result"
    }
   ],
   "source": [
    "solve(2*sol5(t=1)==sol5(t=3),t0)"
   ]
  },
  {
   "cell_type": "code",
   "execution_count": 44,
   "id": "configured-assurance",
   "metadata": {},
   "outputs": [
    {
     "data": {
      "text/plain": [
       "[t0 == 1]"
      ]
     },
     "execution_count": 44,
     "metadata": {},
     "output_type": "execute_result"
    }
   ],
   "source": [
    "solve(t0 == (t0 + 3)^(-1)*(t0 + 1)^2,t0)"
   ]
  },
  {
   "cell_type": "code",
   "execution_count": 57,
   "id": "acknowledged-manchester",
   "metadata": {},
   "outputs": [],
   "source": [
    "# Ha començat a nevar a les 12:00:00 - 01:00:00 = 11:00:00"
   ]
  },
  {
   "cell_type": "code",
   "execution_count": 45,
   "id": "proper-keeping",
   "metadata": {},
   "outputs": [
    {
     "data": {
      "text/plain": [
       "[log(t0) == -2*log(t0 + 2) + 3*log(t0 + 1)]"
      ]
     },
     "execution_count": 45,
     "metadata": {},
     "output_type": "execute_result"
    }
   ],
   "source": [
    "solve(3/2*sol5(t=1)==sol5(t=2),t0)"
   ]
  },
  {
   "cell_type": "code",
   "execution_count": 47,
   "id": "competent-cleaning",
   "metadata": {},
   "outputs": [
    {
     "data": {
      "text/plain": [
       "[t0 == -1/2*sqrt(5) - 1/2, t0 == 1/2*sqrt(5) - 1/2]"
      ]
     },
     "execution_count": 47,
     "metadata": {},
     "output_type": "execute_result"
    }
   ],
   "source": [
    "solve(t0 == (t0 + 2)^(-2)*(t0 + 1)^3,t0)"
   ]
  },
  {
   "cell_type": "code",
   "execution_count": 49,
   "id": "collected-georgia",
   "metadata": {},
   "outputs": [
    {
     "data": {
      "text/plain": [
       "1/2*sqrt(5) - 1/2"
      ]
     },
     "execution_count": 49,
     "metadata": {},
     "output_type": "execute_result"
    }
   ],
   "source": [
    "t0=_[1].rhs()\n",
    "t0"
   ]
  },
  {
   "cell_type": "code",
   "execution_count": 52,
   "id": "perceived-composite",
   "metadata": {},
   "outputs": [],
   "source": [
    "t0=t0.n()"
   ]
  },
  {
   "cell_type": "code",
   "execution_count": 53,
   "id": "blessed-connection",
   "metadata": {},
   "outputs": [
    {
     "data": {
      "text/plain": [
       "37.0820393249937"
      ]
     },
     "execution_count": 53,
     "metadata": {},
     "output_type": "execute_result"
    }
   ],
   "source": [
    "t0*60"
   ]
  },
  {
   "cell_type": "code",
   "execution_count": 55,
   "id": "broke-value",
   "metadata": {},
   "outputs": [
    {
     "data": {
      "text/plain": [
       "4.92235949962165"
      ]
     },
     "execution_count": 55,
     "metadata": {},
     "output_type": "execute_result"
    }
   ],
   "source": [
    "frac(t0*60)*60"
   ]
  },
  {
   "cell_type": "code",
   "execution_count": 56,
   "id": "persistent-sally",
   "metadata": {},
   "outputs": [],
   "source": [
    "# Ha començat a nevar a les 12:00:00 - 00:37:05 = 11:22:55"
   ]
  },
  {
   "cell_type": "markdown",
   "id": "collect-kidney",
   "metadata": {},
   "source": [
    "#### Problema 6"
   ]
  },
  {
   "cell_type": "code",
   "execution_count": 96,
   "id": "muslim-volume",
   "metadata": {},
   "outputs": [
    {
     "data": {
      "text/plain": [
       "(v, t, g, k)"
      ]
     },
     "execution_count": 96,
     "metadata": {},
     "output_type": "execute_result"
    }
   ],
   "source": [
    "var('v t g k')"
   ]
  },
  {
   "cell_type": "code",
   "execution_count": 102,
   "id": "brief-technical",
   "metadata": {},
   "outputs": [],
   "source": [
    "assume(k>0,g>0) # g=8.81"
   ]
  },
  {
   "cell_type": "code",
   "execution_count": 103,
   "id": "instructional-narrow",
   "metadata": {},
   "outputs": [],
   "source": [
    "v=function('v')(t)"
   ]
  },
  {
   "cell_type": "code",
   "execution_count": 104,
   "id": "understanding-singing",
   "metadata": {},
   "outputs": [
    {
     "data": {
      "text/plain": [
       "diff(v(t), t) == -k*v(t)^2 + g"
      ]
     },
     "execution_count": 104,
     "metadata": {},
     "output_type": "execute_result"
    }
   ],
   "source": [
    "edo6= diff(v,t)==g-k*v^2 # ma=mg - kv^2\n",
    "edo6"
   ]
  },
  {
   "cell_type": "code",
   "execution_count": 105,
   "id": "young-kidney",
   "metadata": {
    "scrolled": true
   },
   "outputs": [
    {
     "data": {
      "text/plain": [
       "-1/2*log((k*v(t) - sqrt(g*k))/(k*v(t) + sqrt(g*k)))/sqrt(g*k) == _C + t"
      ]
     },
     "execution_count": 105,
     "metadata": {},
     "output_type": "execute_result"
    }
   ],
   "source": [
    "sol6=desolve(edo6,v,ivar=t)\n",
    "sol6"
   ]
  },
  {
   "cell_type": "code",
   "execution_count": 106,
   "id": "vietnamese-sweden",
   "metadata": {},
   "outputs": [
    {
     "data": {
      "text/plain": [
       "-(sqrt(g*k)*e^(-2*sqrt(g*k)*_C - 2*sqrt(g*k)*t) + sqrt(g*k))/(k*e^(-2*sqrt(g*k)*_C - 2*sqrt(g*k)*t) - k)"
      ]
     },
     "execution_count": 106,
     "metadata": {},
     "output_type": "execute_result"
    }
   ],
   "source": [
    "sol66=solve(sol6,v)[0].rhs()\n",
    "sol66"
   ]
  },
  {
   "cell_type": "code",
   "execution_count": 107,
   "id": "theoretical-halifax",
   "metadata": {},
   "outputs": [
    {
     "data": {
      "text/plain": [
       "sqrt(g*k)/k"
      ]
     },
     "execution_count": 107,
     "metadata": {},
     "output_type": "execute_result"
    }
   ],
   "source": [
    "limit(sol66,t=oo)"
   ]
  },
  {
   "cell_type": "markdown",
   "id": "ruled-pottery",
   "metadata": {},
   "source": [
    "#### Problema 7"
   ]
  },
  {
   "cell_type": "code",
   "execution_count": 59,
   "id": "brief-semiconductor",
   "metadata": {},
   "outputs": [
    {
     "data": {
      "text/plain": [
       "(y, x)"
      ]
     },
     "execution_count": 59,
     "metadata": {},
     "output_type": "execute_result"
    }
   ],
   "source": [
    "var('y x')"
   ]
  },
  {
   "cell_type": "code",
   "execution_count": 60,
   "id": "clinical-diversity",
   "metadata": {},
   "outputs": [],
   "source": [
    "y=function('y')(x)"
   ]
  },
  {
   "cell_type": "code",
   "execution_count": 61,
   "id": "together-exception",
   "metadata": {},
   "outputs": [
    {
     "data": {
      "text/plain": [
       "tan(x)*y(x) + diff(y(x), x) == x*tan(x) + 1"
      ]
     },
     "execution_count": 61,
     "metadata": {},
     "output_type": "execute_result"
    }
   ],
   "source": [
    "edo7= diff(y,x)+y*tan(x)==x*tan(x)+1\n",
    "edo7"
   ]
  },
  {
   "cell_type": "code",
   "execution_count": 62,
   "id": "genetic-letters",
   "metadata": {},
   "outputs": [
    {
     "data": {
      "text/plain": [
       "D[0](y)(0) == 1"
      ]
     },
     "execution_count": 62,
     "metadata": {},
     "output_type": "execute_result"
    }
   ],
   "source": [
    "edo7.subs(x=0)"
   ]
  },
  {
   "cell_type": "code",
   "execution_count": 65,
   "id": "adjustable-alert",
   "metadata": {},
   "outputs": [
    {
     "data": {
      "text/plain": [
       "diff(y(x), x) == 1"
      ]
     },
     "execution_count": 65,
     "metadata": {},
     "output_type": "execute_result"
    }
   ],
   "source": [
    "edo77= diff(y,x)==1 # fent x=0\n",
    "edo77"
   ]
  },
  {
   "cell_type": "code",
   "execution_count": 66,
   "id": "czech-chicken",
   "metadata": {},
   "outputs": [
    {
     "data": {
      "text/plain": [
       "_C + x"
      ]
     },
     "execution_count": 66,
     "metadata": {},
     "output_type": "execute_result"
    }
   ],
   "source": [
    "sol7=desolve(edo77,y,ivar=x)\n",
    "sol7"
   ]
  },
  {
   "cell_type": "code",
   "execution_count": 115,
   "id": "supposed-attraction",
   "metadata": {},
   "outputs": [
    {
     "data": {
      "text/plain": [
       "_C"
      ]
     },
     "execution_count": 115,
     "metadata": {},
     "output_type": "execute_result"
    }
   ],
   "source": [
    "sol7(x=0) # constant"
   ]
  },
  {
   "cell_type": "code",
   "execution_count": 67,
   "id": "light-wireless",
   "metadata": {},
   "outputs": [],
   "source": [
    "# Com que diff(y,x)==1, l'angle amb el que tallaran les rectes l'eix d'abscises és pi/4."
   ]
  },
  {
   "cell_type": "markdown",
   "id": "generic-participant",
   "metadata": {},
   "source": [
    "#### Problema 8"
   ]
  },
  {
   "cell_type": "code",
   "execution_count": 125,
   "id": "assured-hampton",
   "metadata": {},
   "outputs": [
    {
     "data": {
      "text/plain": [
       "(y, x, c, k, y1)"
      ]
     },
     "execution_count": 125,
     "metadata": {},
     "output_type": "execute_result"
    }
   ],
   "source": [
    "var('y x c k y1')"
   ]
  },
  {
   "cell_type": "code",
   "execution_count": 126,
   "id": "spare-attack",
   "metadata": {},
   "outputs": [],
   "source": [
    "y=function('y')(x)"
   ]
  },
  {
   "cell_type": "code",
   "execution_count": 127,
   "id": "terminal-vampire",
   "metadata": {},
   "outputs": [],
   "source": [
    "f=exp(c*x+5)"
   ]
  },
  {
   "cell_type": "code",
   "execution_count": 128,
   "id": "becoming-testing",
   "metadata": {},
   "outputs": [
    {
     "data": {
      "text/plain": [
       "c*e^(c*x + 5)"
      ]
     },
     "execution_count": 128,
     "metadata": {},
     "output_type": "execute_result"
    }
   ],
   "source": [
    "df=diff(f,x)\n",
    "df"
   ]
  },
  {
   "cell_type": "code",
   "execution_count": 129,
   "id": "diverse-pollution",
   "metadata": {},
   "outputs": [
    {
     "data": {
      "text/plain": [
       "(log(y(x)) - 5)/x"
      ]
     },
     "execution_count": 129,
     "metadata": {},
     "output_type": "execute_result"
    }
   ],
   "source": [
    "sol_c=solve(y==f,c)[0].rhs()\n",
    "sol_c"
   ]
  },
  {
   "cell_type": "code",
   "execution_count": 130,
   "id": "uniform-installation",
   "metadata": {},
   "outputs": [
    {
     "data": {
      "text/plain": [
       "(log(y(x)) - 5)*y(x)/x"
      ]
     },
     "execution_count": 130,
     "metadata": {},
     "output_type": "execute_result"
    }
   ],
   "source": [
    "dfc=df.subs(c=sol_c)\n",
    "dfc"
   ]
  },
  {
   "cell_type": "code",
   "execution_count": 131,
   "id": "close-dressing",
   "metadata": {},
   "outputs": [],
   "source": [
    "edo8 = diff(y,x)==-1/dfc"
   ]
  },
  {
   "cell_type": "code",
   "execution_count": 132,
   "id": "promising-prerequisite",
   "metadata": {},
   "outputs": [
    {
     "data": {
      "text/plain": [
       "-1/2*log(y(x))*y(x)^2 + 11/4*y(x)^2 == 1/2*x^2 + k"
      ]
     },
     "execution_count": 132,
     "metadata": {},
     "output_type": "execute_result"
    }
   ],
   "source": [
    "sol8=desolve(edo8,dvar=y,ivar=x).subs(_C=k)\n",
    "sol8"
   ]
  },
  {
   "cell_type": "code",
   "execution_count": 135,
   "id": "outdoor-romantic",
   "metadata": {},
   "outputs": [
    {
     "data": {
      "text/plain": [
       "-1/2*y1^2*log(y1) + 11/4*y1^2 == 1/2*x^2 + k"
      ]
     },
     "execution_count": 135,
     "metadata": {},
     "output_type": "execute_result"
    }
   ],
   "source": [
    "sol88=sol8.subs(y(x)==y1)\n",
    "sol88"
   ]
  },
  {
   "cell_type": "code",
   "execution_count": 146,
   "id": "ideal-quarterly",
   "metadata": {},
   "outputs": [
    {
     "data": {
      "text/plain": [
       "[x == -sqrt(-y1^2*log(y1) + 11/2*y1^2 - 2*k), x == sqrt(-y1^2*log(y1) + 11/2*y1^2 - 2*k)]"
      ]
     },
     "execution_count": 146,
     "metadata": {},
     "output_type": "execute_result"
    }
   ],
   "source": [
    "sol88_exp=solve(sol88,x)\n",
    "sol88_exp"
   ]
  },
  {
   "cell_type": "code",
   "execution_count": 165,
   "id": "responsible-cheese",
   "metadata": {},
   "outputs": [
    {
     "data": {
      "image/png": "[encoded data removed]",
      "text/plain": [
       "Graphics object consisting of 21 graphics primitives"
      ]
     },
     "execution_count": 165,
     "metadata": {},
     "output_type": "execute_result"
    }
   ],
   "source": [
    "plot1=plot(f.subs(c=-1),3,8,color='red')\n",
    "L=[implicit_plot((x == sqrt(-y1^2*log(y1) + 11/2*y1^2 - 2*k)).subs(k=i),(x,3,8),(y1,-1,3)) for i in srange(-20,20,2)]\n",
    "plot1+sum(L)"
   ]
  },
  {
   "cell_type": "markdown",
   "id": "subject-poland",
   "metadata": {},
   "source": [
    "#### Problema 9"
   ]
  },
  {
   "cell_type": "code",
   "execution_count": 264,
   "id": "bibliographic-biology",
   "metadata": {},
   "outputs": [
    {
     "data": {
      "text/plain": [
       "(A, C, B, k, b, A0, B0)"
      ]
     },
     "execution_count": 264,
     "metadata": {},
     "output_type": "execute_result"
    }
   ],
   "source": [
    "var('A C B k b A0 B0')"
   ]
  },
  {
   "cell_type": "code",
   "execution_count": 265,
   "id": "connected-teach",
   "metadata": {},
   "outputs": [],
   "source": [
    "A=function('A')(t)\n",
    "B=function('B')(t)\n",
    "C=function('C')(t)"
   ]
  },
  {
   "cell_type": "code",
   "execution_count": 257,
   "id": "proof-exemption",
   "metadata": {},
   "outputs": [],
   "source": [
    "A0=60\n",
    "B0=30\n",
    "reset('A0 B0')"
   ]
  },
  {
   "cell_type": "code",
   "execution_count": 266,
   "id": "corresponding-bradford",
   "metadata": {},
   "outputs": [],
   "source": [
    "edo91= diff(A,t)==-3*k*A*B\n",
    "edo92= diff(B,t)==-2*k*A*B\n",
    "edo93= diff(C,t)==5*k*A*B"
   ]
  },
  {
   "cell_type": "code",
   "execution_count": 267,
   "id": "monetary-grain",
   "metadata": {},
   "outputs": [
    {
     "data": {
      "text/plain": [
       "diff(C(t), t)/diff(A(t), t) == (-5/3)"
      ]
     },
     "execution_count": 267,
     "metadata": {},
     "output_type": "execute_result"
    }
   ],
   "source": [
    "edo99 = edo93/edo91\n",
    "edo99"
   ]
  },
  {
   "cell_type": "code",
   "execution_count": 268,
   "id": "departmental-original",
   "metadata": {},
   "outputs": [
    {
     "data": {
      "text/plain": [
       "_C - 5/3*A(t)"
      ]
     },
     "execution_count": 268,
     "metadata": {},
     "output_type": "execute_result"
    }
   ],
   "source": [
    "sol9=desolve(edo99,C,ivar=t,contrib_ode=True)\n",
    "sol9"
   ]
  },
  {
   "cell_type": "code",
   "execution_count": 269,
   "id": "finished-slovakia",
   "metadata": {},
   "outputs": [
    {
     "data": {
      "text/plain": [
       "b - 5/3*A(t)"
      ]
     },
     "execution_count": 269,
     "metadata": {},
     "output_type": "execute_result"
    }
   ],
   "source": [
    "sol99=sol9.subs(_C=b)\n",
    "sol99"
   ]
  },
  {
   "cell_type": "code",
   "execution_count": 270,
   "id": "protective-pastor",
   "metadata": {},
   "outputs": [
    {
     "data": {
      "text/plain": [
       "[b == 5/3*A0]"
      ]
     },
     "execution_count": 270,
     "metadata": {},
     "output_type": "execute_result"
    }
   ],
   "source": [
    "b9=solve(b-5/3*A0==0,b)\n",
    "b9"
   ]
  },
  {
   "cell_type": "code",
   "execution_count": 271,
   "id": "successful-youth",
   "metadata": {},
   "outputs": [
    {
     "data": {
      "text/plain": [
       "A0 - 3/5*C(t)"
      ]
     },
     "execution_count": 271,
     "metadata": {},
     "output_type": "execute_result"
    }
   ],
   "source": [
    "# Per tant A(t)=(150-C(t))*3/5\n",
    "A=(b9[0].rhs()-C(t))*3/5\n",
    "A"
   ]
  },
  {
   "cell_type": "code",
   "execution_count": 272,
   "id": "aquatic-revelation",
   "metadata": {},
   "outputs": [
    {
     "data": {
      "text/plain": [
       "B0 - 2/5*C(t)"
      ]
     },
     "execution_count": 272,
     "metadata": {},
     "output_type": "execute_result"
    }
   ],
   "source": [
    "B=A0+B0-A-C\n",
    "B"
   ]
  },
  {
   "cell_type": "code",
   "execution_count": 273,
   "id": "earned-smith",
   "metadata": {},
   "outputs": [
    {
     "data": {
      "text/plain": [
       "1/25*(5*A0 - 3*C(t))*(5*B0 - 2*C(t))"
      ]
     },
     "execution_count": 273,
     "metadata": {},
     "output_type": "execute_result"
    }
   ],
   "source": [
    "A*B"
   ]
  },
  {
   "cell_type": "code",
   "execution_count": 274,
   "id": "unable-jesus",
   "metadata": {},
   "outputs": [
    {
     "data": {
      "text/plain": [
       "diff(C(t), t) == 1/5*(5*A0 - 3*C(t))*(5*B0 - 2*C(t))*k"
      ]
     },
     "execution_count": 274,
     "metadata": {},
     "output_type": "execute_result"
    }
   ],
   "source": [
    "edo933= diff(C,t)==5*k*A*B\n",
    "edo933"
   ]
  },
  {
   "cell_type": "code",
   "execution_count": 275,
   "id": "positive-processing",
   "metadata": {},
   "outputs": [
    {
     "data": {
      "text/plain": [
       "(log(-5*A0 + 3*C(t)) - log(-5*B0 + 2*C(t)))/((2*A0 - 3*B0)*k) == ((2*A0 - 3*B0)*k*t + log(-5*A0) - log(-5*B0))/((2*A0 - 3*B0)*k)"
      ]
     },
     "execution_count": 275,
     "metadata": {},
     "output_type": "execute_result"
    }
   ],
   "source": [
    "sol93=desolve(edo933,C,ics=[0,0],ivar=t,contrib_ode=True)\n",
    "sol93"
   ]
  },
  {
   "cell_type": "code",
   "execution_count": 282,
   "id": "retired-strap",
   "metadata": {},
   "outputs": [
    {
     "data": {
      "text/plain": [
       "[log(-5*B0 + 2*C(t)) == -2*A0*k*t + 3*B0*k*t - log(-5*A0) + log(-5*A0 + 3*C(t)) + log(-5*B0)]"
      ]
     },
     "execution_count": 282,
     "metadata": {},
     "output_type": "execute_result"
    }
   ],
   "source": [
    "solve(sol93,C)"
   ]
  },
  {
   "cell_type": "code",
   "execution_count": 283,
   "id": "searching-profit",
   "metadata": {},
   "outputs": [],
   "source": [
    "z=log((2*C(t) -5*B0)/(-5*A0 + 3*C(t))) == -2*A0*k*t + 3*B0*k*t - log(-5*A0) + log(-5*B0) "
   ]
  },
  {
   "cell_type": "code",
   "execution_count": 287,
   "id": "numerous-driver",
   "metadata": {},
   "outputs": [
    {
     "data": {
      "text/html": [
       "<html><script type=\"math/tex; mode=display\">\\newcommand{\\Bold}[1]{\\mathbf{#1}}\\frac{5 \\, A_{0} B_{0} {\\left(e^{\\left(2 \\, A_{0} k t\\right)} - e^{\\left(3 \\, B_{0} k t\\right)}\\right)}}{2 \\, A_{0} e^{\\left(2 \\, A_{0} k t\\right)} - 3 \\, B_{0} e^{\\left(3 \\, B_{0} k t\\right)}}</script></html>"
      ],
      "text/latex": [
       "\\begin{math}\n",
       "\\newcommand{\\Bold}[1]{\\mathbf{#1}}\\frac{5 \\, A_{0} B_{0} {\\left(e^{\\left(2 \\, A_{0} k t\\right)} - e^{\\left(3 \\, B_{0} k t\\right)}\\right)}}{2 \\, A_{0} e^{\\left(2 \\, A_{0} k t\\right)} - 3 \\, B_{0} e^{\\left(3 \\, B_{0} k t\\right)}}\n",
       "\\end{math}"
      ],
      "text/plain": [
       "5*A0*B0*(e^(2*A0*k*t) - e^(3*B0*k*t))/(2*A0*e^(2*A0*k*t) - 3*B0*e^(3*B0*k*t))"
      ]
     },
     "metadata": {},
     "output_type": "display_data"
    }
   ],
   "source": [
    "CC=solve(z,C)[0].rhs()\n",
    "show(CC.factor())"
   ]
  },
  {
   "cell_type": "code",
   "execution_count": 288,
   "id": "pediatric-beads",
   "metadata": {
    "scrolled": true
   },
   "outputs": [
    {
     "data": {
      "text/plain": [
       "75"
      ]
     },
     "execution_count": 288,
     "metadata": {},
     "output_type": "execute_result"
    }
   ],
   "source": [
    "limit(CC.subs(A0=60,B0=30),t=oo)"
   ]
  },
  {
   "cell_type": "code",
   "execution_count": null,
   "id": "neither-baghdad",
   "metadata": {},
   "outputs": [],
   "source": [
    "# Si augmentem A no canvia la quantitat de C ja que el reactiu \n",
    "# limitant és B."
   ]
  }
 ],
 "metadata": {
  "kernelspec": {
   "display_name": "SageMath 9.2",
   "language": "sage",
   "name": "sagemath"
  },
  "language_info": {
   "codemirror_mode": {
    "name": "ipython",
    "version": 3
   },
   "file_extension": ".py",
   "mimetype": "text/x-python",
   "name": "python",
   "nbconvert_exporter": "python",
   "pygments_lexer": "ipython3",
   "version": "3.9.2"
  }
 },
 "nbformat": 4,
 "nbformat_minor": 5
}
